{
 "cells": [
  {
   "cell_type": "markdown",
   "metadata": {},
   "source": [
    "1) Define the groud-truth concepts  \n",
    "2) Train the TabCBM in unsup-concept setting\n",
    "3) Evaluate performance using several metrics \n",
    "4) Supervised-concepts setting"
   ]
  },
  {
   "cell_type": "code",
   "execution_count": 1,
   "metadata": {},
   "outputs": [],
   "source": [
    "import scipy\n",
    "import joblib\n",
    "import sklearn\n",
    "import numpy as np\n",
    "import pandas as pd\n",
    "import os.path as osp\n",
    "import matplotlib.pyplot as plt\n",
    "\n",
    "import tensorflow as tf\n",
    "\n",
    "from tabcbm.models.architectures import construct_encoder, construct_decoder\n",
    "from tabcbm.models.architectures import construct_end_to_end_model\n",
    "from tabcbm.models.tabcbm import TabCBM"
   ]
  },
  {
   "cell_type": "markdown",
   "metadata": {},
   "source": [
    "# Read the data "
   ]
  },
  {
   "cell_type": "code",
   "execution_count": 2,
   "metadata": {},
   "outputs": [
    {
     "name": "stdout",
     "output_type": "stream",
     "text": [
      "Shape of the training set:  (138212, 38)\n",
      "Shape of the test set:  (34553, 38)\n",
      "Shape of the trainigb targets:  (138212,)\n"
     ]
    }
   ],
   "source": [
    "# Reading already preprocessed train and test data \n",
    "\n",
    "data_dir = 'D:\\\\PycharmProjects\\\\AMMISproject\\\\data\\\\processed_data'\n",
    "dataset = 'dataco'\n",
    "\n",
    "x_train_std = joblib.load(osp.join(data_dir, dataset, 'x_train_std.joblib'))\n",
    "x_test_std = joblib.load(osp.join(data_dir, dataset, 'x_test_std.joblib'))\n",
    "\n",
    "x_train = joblib.load(osp.join(data_dir, dataset, 'x_train.joblib'))\n",
    "x_test = joblib.load(osp.join(data_dir, dataset, 'x_test.joblib'))\n",
    "\n",
    "y_train = joblib.load(osp.join(data_dir, dataset, 'y_train.joblib'))\n",
    "y_test = joblib.load(osp.join(data_dir, dataset, 'y_test.joblib'))\n",
    "\n",
    "print('Shape of the training set: ', x_train_std.shape)\n",
    "print('Shape of the test set: ', x_test_std.shape)\n",
    "print('Shape of the trainigb targets: ', y_train.shape)\n"
   ]
  },
  {
   "cell_type": "code",
   "execution_count": null,
   "metadata": {},
   "outputs": [],
   "source": [
    "x_train_reduced = "
   ]
  },
  {
   "cell_type": "code",
   "execution_count": 4,
   "metadata": {},
   "outputs": [],
   "source": [
    "# Defining the concepts \n",
    "\n",
    "aggregated_concepts = {\n",
    "    'Shipment': ['Type', 'Days for shipment (scheduled)', 'Shipping Mode'],\n",
    "    'Customer': ['Customer Zipcode', 'Customer Segment'],\n",
    "    'Department': ['Department Name', 'Market'],\n",
    "    'Store': ['Latitude', 'Longitude'],\n",
    "    'Order': ['Order Id', 'Order City', 'Order Country', 'order date (DateOrders)',\n",
    "              'Order Profit Per Order', 'Order Status', 'Sales', 'Order Item Discount',\n",
    "              'order_year', 'order_month', 'order_day'],\n",
    "    'ProductCategory': ['Category Name']\n",
    "}\n",
    "\n",
    "# In the preprocessed data the naming of the columns differs, so we have to define\n",
    "# expanded features and put them as a value of a corresponding concept\n",
    "extended_concepts = {}\n",
    "for concept, features in aggregated_concepts.items():\n",
    "    extended_features = []\n",
    "    for value in features:\n",
    "            [extended_features.append(column) for column in x_test.columns if value in column]\n",
    "   \n",
    "    extended_concepts[concept] = extended_features\n"
   ]
  },
  {
   "cell_type": "code",
   "execution_count": 5,
   "metadata": {},
   "outputs": [],
   "source": [
    "# Creating masks for each concept \n",
    "\n",
    "concepts_num = len(aggregated_concepts)\n",
    "total_features_num = x_test.shape[1] \n",
    "\n",
    "concepts_masks = pd.DataFrame(0, columns=x_test.columns, index=list(aggregated_concepts.keys()))\n",
    "\n",
    "for concept, features in extended_concepts.items():\n",
    "    for feature in features:\n",
    "        concepts_masks.loc[concept, feature] = 1"
   ]
  },
  {
   "cell_type": "code",
   "execution_count": 6,
   "metadata": {},
   "outputs": [
    {
     "data": {
      "text/plain": [
       "Days for shipment (scheduled)    1\n",
       "Category Name                    0\n",
       "Customer Zipcode                 0\n",
       "Department Name                  0\n",
       "Latitude                         0\n",
       "Longitude                        0\n",
       "Order City                       0\n",
       "Order Country                    0\n",
       "Sales                            0\n",
       "Order Id                         0\n",
       "Order Item Discount              0\n",
       "Order Profit Per Order           0\n",
       "order_year                       0\n",
       "order_month                      0\n",
       "order_day                        0\n",
       "Type_CASH                        1\n",
       "Type_DEBIT                       1\n",
       "Type_PAYMENT                     1\n",
       "Type_TRANSFER                    1\n",
       "Customer Segment_Consumer        0\n",
       "Customer Segment_Corporate       0\n",
       "Customer Segment_Home Office     0\n",
       "Market_Africa                    0\n",
       "Market_Europe                    0\n",
       "Market_LATAM                     0\n",
       "Market_Pacific Asia              0\n",
       "Market_USCA                      0\n",
       "Shipping Mode_First Class        1\n",
       "Shipping Mode_Same Day           1\n",
       "Shipping Mode_Second Class       1\n",
       "Shipping Mode_Standard Class     1\n",
       "Order Status_CLOSED              0\n",
       "Order Status_COMPLETE            0\n",
       "Order Status_ON_HOLD             0\n",
       "Order Status_PAYMENT_REVIEW      0\n",
       "Order Status_PENDING             0\n",
       "Order Status_PENDING_PAYMENT     0\n",
       "Order Status_PROCESSING          0\n",
       "Name: Shipment, dtype: int64"
      ]
     },
     "execution_count": 6,
     "metadata": {},
     "output_type": "execute_result"
    }
   ],
   "source": [
    "# Checking whether the features correspond to the defined concept \"Shipment\" \n",
    "\n",
    "concepts_masks.loc['Shipment', :]"
   ]
  },
  {
   "cell_type": "markdown",
   "metadata": {},
   "source": [
    "## Create main components for TabCBM"
   ]
  },
  {
   "cell_type": "code",
   "execution_count": 7,
   "metadata": {},
   "outputs": [
    {
     "name": "stdout",
     "output_type": "stream",
     "text": [
      "Input shape:  (38,)\n",
      "Number of outputs:  2\n"
     ]
    }
   ],
   "source": [
    "# Parameters defining the architecture we will use\n",
    "\n",
    "input_shape = x_train_std.shape[1:]\n",
    "num_outputs = len(set(y_train))\n",
    "encoder_units = [16, 16]\n",
    "decoder_units = [16]\n",
    "latent_dims = 16\n",
    "learning_rate = 0.001\n",
    "validation_size = 0.1\n",
    "\n",
    "print('Input shape: ', input_shape)\n",
    "print('Number of outputs: ', num_outputs)"
   ]
  },
  {
   "cell_type": "code",
   "execution_count": 8,
   "metadata": {},
   "outputs": [],
   "source": [
    "# Next, we build the feature to latent code encoder model (i.e., phi)\n",
    "encoder = construct_encoder(input_shape, encoder_units, latent_dims)"
   ]
  },
  {
   "cell_type": "code",
   "execution_count": 9,
   "metadata": {},
   "outputs": [],
   "source": [
    "# Then, we build the concept to label model  (i.e., the label predictor f)\n",
    "\n",
    "decoder_inputs = tf.keras.Input(shape=[latent_dims])\n",
    "decoder_graph = construct_decoder(decoder_units, num_outputs)\n",
    "decoder = tf.keras.Model(\n",
    "    decoder_inputs,\n",
    "    decoder_graph(decoder_inputs),\n",
    "    name=\"decoder\",\n",
    ")"
   ]
  },
  {
   "cell_type": "code",
   "execution_count": 10,
   "metadata": {},
   "outputs": [
    {
     "data": {
      "text/html": [
       "<pre style=\"white-space:pre;overflow-x:auto;line-height:normal;font-family:Menlo,'DejaVu Sans Mono',consolas,'Courier New',monospace\"><span style=\"font-weight: bold\">Model: \"complete_model\"</span>\n",
       "</pre>\n"
      ],
      "text/plain": [
       "\u001b[1mModel: \"complete_model\"\u001b[0m\n"
      ]
     },
     "metadata": {},
     "output_type": "display_data"
    },
    {
     "data": {
      "text/html": [
       "<pre style=\"white-space:pre;overflow-x:auto;line-height:normal;font-family:Menlo,'DejaVu Sans Mono',consolas,'Courier New',monospace\">┏━━━━━━━━━━━━━━━━━━━━━━━━━━━━━━━━━┳━━━━━━━━━━━━━━━━━━━━━━━━┳━━━━━━━━━━━━━━━┓\n",
       "┃<span style=\"font-weight: bold\"> Layer (type)                    </span>┃<span style=\"font-weight: bold\"> Output Shape           </span>┃<span style=\"font-weight: bold\">       Param # </span>┃\n",
       "┡━━━━━━━━━━━━━━━━━━━━━━━━━━━━━━━━━╇━━━━━━━━━━━━━━━━━━━━━━━━╇━━━━━━━━━━━━━━━┩\n",
       "│ input_layer_3 (<span style=\"color: #0087ff; text-decoration-color: #0087ff\">InputLayer</span>)      │ (<span style=\"color: #00d7ff; text-decoration-color: #00d7ff\">None</span>, <span style=\"color: #00af00; text-decoration-color: #00af00\">38</span>)             │             <span style=\"color: #00af00; text-decoration-color: #00af00\">0</span> │\n",
       "├─────────────────────────────────┼────────────────────────┼───────────────┤\n",
       "│ encoder (<span style=\"color: #0087ff; text-decoration-color: #0087ff\">Functional</span>)            │ (<span style=\"color: #00d7ff; text-decoration-color: #00d7ff\">None</span>, <span style=\"color: #00af00; text-decoration-color: #00af00\">16</span>)             │         <span style=\"color: #00af00; text-decoration-color: #00af00\">1,168</span> │\n",
       "├─────────────────────────────────┼────────────────────────┼───────────────┤\n",
       "│ decoder (<span style=\"color: #0087ff; text-decoration-color: #0087ff\">Functional</span>)            │ (<span style=\"color: #00d7ff; text-decoration-color: #00d7ff\">None</span>, <span style=\"color: #00af00; text-decoration-color: #00af00\">1</span>)              │           <span style=\"color: #00af00; text-decoration-color: #00af00\">289</span> │\n",
       "└─────────────────────────────────┴────────────────────────┴───────────────┘\n",
       "</pre>\n"
      ],
      "text/plain": [
       "┏━━━━━━━━━━━━━━━━━━━━━━━━━━━━━━━━━┳━━━━━━━━━━━━━━━━━━━━━━━━┳━━━━━━━━━━━━━━━┓\n",
       "┃\u001b[1m \u001b[0m\u001b[1mLayer (type)                   \u001b[0m\u001b[1m \u001b[0m┃\u001b[1m \u001b[0m\u001b[1mOutput Shape          \u001b[0m\u001b[1m \u001b[0m┃\u001b[1m \u001b[0m\u001b[1m      Param #\u001b[0m\u001b[1m \u001b[0m┃\n",
       "┡━━━━━━━━━━━━━━━━━━━━━━━━━━━━━━━━━╇━━━━━━━━━━━━━━━━━━━━━━━━╇━━━━━━━━━━━━━━━┩\n",
       "│ input_layer_3 (\u001b[38;5;33mInputLayer\u001b[0m)      │ (\u001b[38;5;45mNone\u001b[0m, \u001b[38;5;34m38\u001b[0m)             │             \u001b[38;5;34m0\u001b[0m │\n",
       "├─────────────────────────────────┼────────────────────────┼───────────────┤\n",
       "│ encoder (\u001b[38;5;33mFunctional\u001b[0m)            │ (\u001b[38;5;45mNone\u001b[0m, \u001b[38;5;34m16\u001b[0m)             │         \u001b[38;5;34m1,168\u001b[0m │\n",
       "├─────────────────────────────────┼────────────────────────┼───────────────┤\n",
       "│ decoder (\u001b[38;5;33mFunctional\u001b[0m)            │ (\u001b[38;5;45mNone\u001b[0m, \u001b[38;5;34m1\u001b[0m)              │           \u001b[38;5;34m289\u001b[0m │\n",
       "└─────────────────────────────────┴────────────────────────┴───────────────┘\n"
      ]
     },
     "metadata": {},
     "output_type": "display_data"
    },
    {
     "data": {
      "text/html": [
       "<pre style=\"white-space:pre;overflow-x:auto;line-height:normal;font-family:Menlo,'DejaVu Sans Mono',consolas,'Courier New',monospace\"><span style=\"font-weight: bold\"> Total params: </span><span style=\"color: #00af00; text-decoration-color: #00af00\">1,457</span> (5.69 KB)\n",
       "</pre>\n"
      ],
      "text/plain": [
       "\u001b[1m Total params: \u001b[0m\u001b[38;5;34m1,457\u001b[0m (5.69 KB)\n"
      ]
     },
     "metadata": {},
     "output_type": "display_data"
    },
    {
     "data": {
      "text/html": [
       "<pre style=\"white-space:pre;overflow-x:auto;line-height:normal;font-family:Menlo,'DejaVu Sans Mono',consolas,'Courier New',monospace\"><span style=\"font-weight: bold\"> Trainable params: </span><span style=\"color: #00af00; text-decoration-color: #00af00\">1,457</span> (5.69 KB)\n",
       "</pre>\n"
      ],
      "text/plain": [
       "\u001b[1m Trainable params: \u001b[0m\u001b[38;5;34m1,457\u001b[0m (5.69 KB)\n"
      ]
     },
     "metadata": {},
     "output_type": "display_data"
    },
    {
     "data": {
      "text/html": [
       "<pre style=\"white-space:pre;overflow-x:auto;line-height:normal;font-family:Menlo,'DejaVu Sans Mono',consolas,'Courier New',monospace\"><span style=\"font-weight: bold\"> Non-trainable params: </span><span style=\"color: #00af00; text-decoration-color: #00af00\">0</span> (0.00 B)\n",
       "</pre>\n"
      ],
      "text/plain": [
       "\u001b[1m Non-trainable params: \u001b[0m\u001b[38;5;34m0\u001b[0m (0.00 B)\n"
      ]
     },
     "metadata": {},
     "output_type": "display_data"
    },
    {
     "name": "stdout",
     "output_type": "stream",
     "text": [
      "Epoch 1/30\n",
      "\u001b[1m243/243\u001b[0m \u001b[32m━━━━━━━━━━━━━━━━━━━━\u001b[0m\u001b[37m\u001b[0m \u001b[1m1s\u001b[0m 1ms/step - binary_accuracy: 0.5841 - loss: 0.6313 - val_binary_accuracy: 0.6945 - val_loss: 0.5464\n",
      "Epoch 2/30\n",
      "\u001b[1m243/243\u001b[0m \u001b[32m━━━━━━━━━━━━━━━━━━━━\u001b[0m\u001b[37m\u001b[0m \u001b[1m0s\u001b[0m 838us/step - binary_accuracy: 0.6932 - loss: 0.5431 - val_binary_accuracy: 0.6950 - val_loss: 0.5428\n",
      "Epoch 3/30\n",
      "\u001b[1m243/243\u001b[0m \u001b[32m━━━━━━━━━━━━━━━━━━━━\u001b[0m\u001b[37m\u001b[0m \u001b[1m0s\u001b[0m 900us/step - binary_accuracy: 0.6978 - loss: 0.5387 - val_binary_accuracy: 0.6947 - val_loss: 0.5419\n",
      "Epoch 4/30\n",
      "\u001b[1m243/243\u001b[0m \u001b[32m━━━━━━━━━━━━━━━━━━━━\u001b[0m\u001b[37m\u001b[0m \u001b[1m0s\u001b[0m 854us/step - binary_accuracy: 0.6952 - loss: 0.5396 - val_binary_accuracy: 0.6948 - val_loss: 0.5412\n",
      "Epoch 5/30\n",
      "\u001b[1m243/243\u001b[0m \u001b[32m━━━━━━━━━━━━━━━━━━━━\u001b[0m\u001b[37m\u001b[0m \u001b[1m0s\u001b[0m 892us/step - binary_accuracy: 0.6973 - loss: 0.5380 - val_binary_accuracy: 0.6949 - val_loss: 0.5407\n",
      "Epoch 6/30\n",
      "\u001b[1m243/243\u001b[0m \u001b[32m━━━━━━━━━━━━━━━━━━━━\u001b[0m\u001b[37m\u001b[0m \u001b[1m0s\u001b[0m 895us/step - binary_accuracy: 0.6980 - loss: 0.5363 - val_binary_accuracy: 0.6948 - val_loss: 0.5410\n",
      "Epoch 7/30\n",
      "\u001b[1m243/243\u001b[0m \u001b[32m━━━━━━━━━━━━━━━━━━━━\u001b[0m\u001b[37m\u001b[0m \u001b[1m0s\u001b[0m 853us/step - binary_accuracy: 0.6975 - loss: 0.5355 - val_binary_accuracy: 0.6950 - val_loss: 0.5402\n",
      "Epoch 8/30\n",
      "\u001b[1m243/243\u001b[0m \u001b[32m━━━━━━━━━━━━━━━━━━━━\u001b[0m\u001b[37m\u001b[0m \u001b[1m0s\u001b[0m 928us/step - binary_accuracy: 0.6986 - loss: 0.5346 - val_binary_accuracy: 0.6951 - val_loss: 0.5402\n",
      "Epoch 9/30\n",
      "\u001b[1m243/243\u001b[0m \u001b[32m━━━━━━━━━━━━━━━━━━━━\u001b[0m\u001b[37m\u001b[0m \u001b[1m0s\u001b[0m 897us/step - binary_accuracy: 0.6960 - loss: 0.5370 - val_binary_accuracy: 0.6950 - val_loss: 0.5409\n",
      "Epoch 10/30\n",
      "\u001b[1m243/243\u001b[0m \u001b[32m━━━━━━━━━━━━━━━━━━━━\u001b[0m\u001b[37m\u001b[0m \u001b[1m0s\u001b[0m 853us/step - binary_accuracy: 0.6969 - loss: 0.5354 - val_binary_accuracy: 0.6952 - val_loss: 0.5409\n",
      "Epoch 11/30\n",
      "\u001b[1m243/243\u001b[0m \u001b[32m━━━━━━━━━━━━━━━━━━━━\u001b[0m\u001b[37m\u001b[0m \u001b[1m0s\u001b[0m 867us/step - binary_accuracy: 0.6965 - loss: 0.5360 - val_binary_accuracy: 0.6950 - val_loss: 0.5401\n",
      "Epoch 12/30\n",
      "\u001b[1m243/243\u001b[0m \u001b[32m━━━━━━━━━━━━━━━━━━━━\u001b[0m\u001b[37m\u001b[0m \u001b[1m0s\u001b[0m 887us/step - binary_accuracy: 0.6975 - loss: 0.5331 - val_binary_accuracy: 0.6951 - val_loss: 0.5406\n",
      "Epoch 13/30\n",
      "\u001b[1m243/243\u001b[0m \u001b[32m━━━━━━━━━━━━━━━━━━━━\u001b[0m\u001b[37m\u001b[0m \u001b[1m0s\u001b[0m 893us/step - binary_accuracy: 0.6983 - loss: 0.5342 - val_binary_accuracy: 0.6955 - val_loss: 0.5407\n",
      "Epoch 14/30\n",
      "\u001b[1m243/243\u001b[0m \u001b[32m━━━━━━━━━━━━━━━━━━━━\u001b[0m\u001b[37m\u001b[0m \u001b[1m0s\u001b[0m 852us/step - binary_accuracy: 0.6981 - loss: 0.5347 - val_binary_accuracy: 0.6950 - val_loss: 0.5401\n",
      "Epoch 15/30\n",
      "\u001b[1m243/243\u001b[0m \u001b[32m━━━━━━━━━━━━━━━━━━━━\u001b[0m\u001b[37m\u001b[0m \u001b[1m0s\u001b[0m 864us/step - binary_accuracy: 0.6974 - loss: 0.5335 - val_binary_accuracy: 0.6951 - val_loss: 0.5404\n",
      "Epoch 16/30\n",
      "\u001b[1m243/243\u001b[0m \u001b[32m━━━━━━━━━━━━━━━━━━━━\u001b[0m\u001b[37m\u001b[0m \u001b[1m0s\u001b[0m 859us/step - binary_accuracy: 0.6972 - loss: 0.5343 - val_binary_accuracy: 0.6950 - val_loss: 0.5403\n",
      "Epoch 17/30\n",
      "\u001b[1m243/243\u001b[0m \u001b[32m━━━━━━━━━━━━━━━━━━━━\u001b[0m\u001b[37m\u001b[0m \u001b[1m0s\u001b[0m 909us/step - binary_accuracy: 0.6978 - loss: 0.5339 - val_binary_accuracy: 0.6951 - val_loss: 0.5407\n",
      "Epoch 18/30\n",
      "\u001b[1m243/243\u001b[0m \u001b[32m━━━━━━━━━━━━━━━━━━━━\u001b[0m\u001b[37m\u001b[0m \u001b[1m0s\u001b[0m 875us/step - binary_accuracy: 0.6987 - loss: 0.5322 - val_binary_accuracy: 0.6956 - val_loss: 0.5400\n",
      "Epoch 19/30\n",
      "\u001b[1m243/243\u001b[0m \u001b[32m━━━━━━━━━━━━━━━━━━━━\u001b[0m\u001b[37m\u001b[0m \u001b[1m0s\u001b[0m 902us/step - binary_accuracy: 0.6992 - loss: 0.5327 - val_binary_accuracy: 0.6952 - val_loss: 0.5408\n",
      "Epoch 20/30\n",
      "\u001b[1m243/243\u001b[0m \u001b[32m━━━━━━━━━━━━━━━━━━━━\u001b[0m\u001b[37m\u001b[0m \u001b[1m0s\u001b[0m 917us/step - binary_accuracy: 0.6967 - loss: 0.5333 - val_binary_accuracy: 0.6943 - val_loss: 0.5405\n",
      "Epoch 21/30\n",
      "\u001b[1m243/243\u001b[0m \u001b[32m━━━━━━━━━━━━━━━━━━━━\u001b[0m\u001b[37m\u001b[0m \u001b[1m0s\u001b[0m 893us/step - binary_accuracy: 0.6980 - loss: 0.5317 - val_binary_accuracy: 0.6945 - val_loss: 0.5398\n",
      "Epoch 22/30\n",
      "\u001b[1m243/243\u001b[0m \u001b[32m━━━━━━━━━━━━━━━━━━━━\u001b[0m\u001b[37m\u001b[0m \u001b[1m0s\u001b[0m 978us/step - binary_accuracy: 0.6955 - loss: 0.5331 - val_binary_accuracy: 0.6954 - val_loss: 0.5404\n",
      "Epoch 23/30\n",
      "\u001b[1m243/243\u001b[0m \u001b[32m━━━━━━━━━━━━━━━━━━━━\u001b[0m\u001b[37m\u001b[0m \u001b[1m0s\u001b[0m 949us/step - binary_accuracy: 0.6987 - loss: 0.5323 - val_binary_accuracy: 0.6954 - val_loss: 0.5399\n",
      "Epoch 24/30\n",
      "\u001b[1m243/243\u001b[0m \u001b[32m━━━━━━━━━━━━━━━━━━━━\u001b[0m\u001b[37m\u001b[0m \u001b[1m0s\u001b[0m 882us/step - binary_accuracy: 0.6996 - loss: 0.5299 - val_binary_accuracy: 0.6951 - val_loss: 0.5399\n",
      "Epoch 25/30\n",
      "\u001b[1m243/243\u001b[0m \u001b[32m━━━━━━━━━━━━━━━━━━━━\u001b[0m\u001b[37m\u001b[0m \u001b[1m0s\u001b[0m 878us/step - binary_accuracy: 0.6987 - loss: 0.5311 - val_binary_accuracy: 0.6953 - val_loss: 0.5406\n",
      "Epoch 26/30\n",
      "\u001b[1m243/243\u001b[0m \u001b[32m━━━━━━━━━━━━━━━━━━━━\u001b[0m\u001b[37m\u001b[0m \u001b[1m0s\u001b[0m 946us/step - binary_accuracy: 0.6981 - loss: 0.5315 - val_binary_accuracy: 0.6952 - val_loss: 0.5401\n",
      "Epoch 27/30\n",
      "\u001b[1m243/243\u001b[0m \u001b[32m━━━━━━━━━━━━━━━━━━━━\u001b[0m\u001b[37m\u001b[0m \u001b[1m0s\u001b[0m 904us/step - binary_accuracy: 0.6978 - loss: 0.5320 - val_binary_accuracy: 0.6948 - val_loss: 0.5398\n",
      "Epoch 28/30\n",
      "\u001b[1m243/243\u001b[0m \u001b[32m━━━━━━━━━━━━━━━━━━━━\u001b[0m\u001b[37m\u001b[0m \u001b[1m0s\u001b[0m 935us/step - binary_accuracy: 0.6982 - loss: 0.5302 - val_binary_accuracy: 0.6950 - val_loss: 0.5394\n",
      "Epoch 29/30\n",
      "\u001b[1m243/243\u001b[0m \u001b[32m━━━━━━━━━━━━━━━━━━━━\u001b[0m\u001b[37m\u001b[0m \u001b[1m0s\u001b[0m 939us/step - binary_accuracy: 0.6978 - loss: 0.5313 - val_binary_accuracy: 0.6949 - val_loss: 0.5393\n",
      "Epoch 30/30\n",
      "\u001b[1m243/243\u001b[0m \u001b[32m━━━━━━━━━━━━━━━━━━━━\u001b[0m\u001b[37m\u001b[0m \u001b[1m0s\u001b[0m 904us/step - binary_accuracy: 0.6989 - loss: 0.5313 - val_binary_accuracy: 0.6945 - val_loss: 0.5395\n"
     ]
    }
   ],
   "source": [
    "# We then put them both together to make an end-to-end model we can pretrain\n",
    "\n",
    "end_to_end_model, encoder, decoder = construct_end_to_end_model(input_shape,\n",
    "                                                                encoder,\n",
    "                                                                decoder,\n",
    "                                                                num_outputs,\n",
    "                                                                learning_rate)\n",
    "\n",
    "end_to_end_model.summary()\n",
    "\n",
    "pretrain_epochs = 30\n",
    "batch_size = 512\n",
    "pretrain_hist = end_to_end_model.fit(\n",
    "    x=x_train_std,\n",
    "    y=y_train,\n",
    "    epochs=pretrain_epochs,\n",
    "    batch_size=batch_size,\n",
    "    validation_split=validation_size,\n",
    "    verbose=1,\n",
    ")"
   ]
  },
  {
   "cell_type": "code",
   "execution_count": 20,
   "metadata": {},
   "outputs": [
    {
     "name": "stdout",
     "output_type": "stream",
     "text": [
      "\u001b[1m68/68\u001b[0m \u001b[32m━━━━━━━━━━━━━━━━━━━━\u001b[0m\u001b[37m\u001b[0m \u001b[1m0s\u001b[0m 982us/step\n",
      "Pretrained model task accuracy: 65.26%\n"
     ]
    }
   ],
   "source": [
    "# Evaluate pretrained model\n",
    "\n",
    "# We will accumulate all metrics/results in the same dictionary\n",
    "results = {}\n",
    "\n",
    "end_to_end_preds = end_to_end_model.predict(\n",
    "    x_test_std,\n",
    "    batch_size=batch_size,\n",
    ")\n",
    "\n",
    "# We assume that we have outputed logits\n",
    "if np.min(end_to_end_preds) < 0.0 or np.max(end_to_end_preds) > 1:\n",
    "    end_to_end_preds = tf.math.sigmoid(end_to_end_preds).numpy()\n",
    "end_to_end_preds = (end_to_end_preds >= 0.5).astype(np.int32)\n",
    "results['pre_train_acc'] = sklearn.metrics.accuracy_score(\n",
    "    y_test,\n",
    "    end_to_end_preds,\n",
    ")\n",
    "results['pre_train_auc'] = sklearn.metrics.roc_auc_score(\n",
    "    y_test,\n",
    "    end_to_end_preds,\n",
    ")\n",
    "print(f\"Pretrained model task accuracy: {results['pre_train_acc']*100:.2f}%\")\n"
   ]
  },
  {
   "cell_type": "markdown",
   "metadata": {},
   "source": [
    "# Construct TabCBM\n",
    "\n",
    "For this, we will first compute the empirical covariance matrix in order for us to learn useful masks using a similar approach to that proposed by SEFS:"
   ]
  },
  {
   "cell_type": "code",
   "execution_count": 11,
   "metadata": {},
   "outputs": [
    {
     "name": "stdout",
     "output_type": "stream",
     "text": [
      "[[ 1.00000000e+00  1.00105563e-03  8.38634556e-03 ... -3.34490471e-03\n",
      "   6.45576389e-03  7.41082360e-04]\n",
      " [ 1.00105563e-03  1.00000000e+00  2.93211877e-03 ...  1.57344435e-03\n",
      "  -2.49050682e-03 -4.45254638e-03]\n",
      " [ 8.38634556e-03  2.93211877e-03  1.00000000e+00 ...  3.03096663e-03\n",
      "   5.79808624e-03  1.24462552e-03]\n",
      " ...\n",
      " [-3.34490471e-03  1.57344435e-03  3.03096663e-03 ...  1.00000000e+00\n",
      "  -1.99639348e-01 -1.38666258e-01]\n",
      " [ 6.45576389e-03 -2.49050682e-03  5.79808624e-03 ... -1.99639348e-01\n",
      "   1.00000000e+00 -2.07627716e-01]\n",
      " [ 7.41082360e-04 -4.45254638e-03  1.24462552e-03 ... -1.38666258e-01\n",
      "  -2.07627716e-01  1.00000000e+00]]\n"
     ]
    }
   ],
   "source": [
    "# Construct the training set's empirical covariance matrix\n",
    "# NOTE: This step can be very computationally expensive/intractable in large\n",
    "#       datasets. In those cases, one may ignore the covariance matrix when\n",
    "#       performing TabCBM's pretraining at the potential cost of performance or\n",
    "#       more accurate concept discovery.\n",
    "cov_mat = np.corrcoef(x_train_std.T)\n",
    "print(cov_mat)"
   ]
  },
  {
   "cell_type": "code",
   "execution_count": 12,
   "metadata": {},
   "outputs": [],
   "source": [
    "# Number of concepts we want to discover\n",
    "n_concepts = 6\n",
    "\n",
    "# Set the weights for the different regularisers in the loss\n",
    "coherence_reg_weight = 0.1  # $lambda_{co}\n",
    "diversity_reg_weight = 5  # $lambda_{div}\n",
    "feature_selection_reg_weight = 5  # $lambda_{spec}\n",
    "gate_estimator_weight = 10  # Gate prediction regularizer for SEFS's pre-text task\n",
    "\n",
    "# Select how many neighbors to use for the coherency loss (must be less than the batch size!)\n",
    "top_k = 256"
   ]
  },
  {
   "cell_type": "code",
   "execution_count": 13,
   "metadata": {},
   "outputs": [],
   "source": [
    "# Generate a dictionary with the parameters to use for TabCBM as we will have\n",
    "# to use the same parameters twice:\n",
    "tab_cbm_params = dict(\n",
    "    features_to_concepts_model=encoder,  # The $\\phi$ sub-model\n",
    "    concepts_to_labels_model=decoder,  # The $f$ sub-model\n",
    "    latent_dims=latent_dims,  # The dimensionality of the concept embeddings $m$\n",
    "    n_concepts=n_concepts,  # The number of concepts to discover $k^\\prime$\n",
    "    cov_mat=cov_mat,  # The empirical covariance matrix\n",
    "    loss_fn=end_to_end_model.loss,  # The downstream task loss function\n",
    "    # Then we provide all the regularizers weights\n",
    "    coherence_reg_weight=coherence_reg_weight,\n",
    "    diversity_reg_weight=diversity_reg_weight,\n",
    "    feature_selection_reg_weight=feature_selection_reg_weight,\n",
    "    gate_estimator_weight=gate_estimator_weight,\n",
    "    top_k=top_k,\n",
    "\n",
    "    # And indicate that we will not be providing any supervised concepts! Change\n",
    "    # this is training concepts (e.g., `c_train`) are provided/known during\n",
    "    # training\n",
    "    n_supervised_concepts=0,\n",
    "    concept_prediction_weight=0,\n",
    "\n",
    "    # The accuracy metric to use for logging performance\n",
    "    acc_metric=(\n",
    "        lambda y_true, y_pred: tf.math.reduce_mean(\n",
    "            tf.keras.metrics.sparse_categorical_accuracy(\n",
    "                y_true,\n",
    "                y_pred,\n",
    "            )\n",
    "        )\n",
    "    ),\n",
    "\n",
    "    # ANd architectural details of the self-supervised reconstruction modules\n",
    "    concept_generator_units=[64],\n",
    "    rec_model_units=[64],\n",
    ")"
   ]
  },
  {
   "cell_type": "code",
   "execution_count": 14,
   "metadata": {},
   "outputs": [
    {
     "name": "stdout",
     "output_type": "stream",
     "text": [
      "[WARNING] Assuming independence between features in TabCBM training.\n"
     ]
    },
    {
     "name": "stderr",
     "output_type": "stream",
     "text": [
      "d:\\PycharmProjects\\AMMISproject\\venv\\Lib\\site-packages\\keras\\src\\layers\\core\\dense.py:87: UserWarning: Do not pass an `input_shape`/`input_dim` argument to a layer. When using Sequential models, prefer using an `Input(shape)` object as the first layer in the model instead.\n",
      "  super().__init__(activity_regularizer=activity_regularizer, **kwargs)\n"
     ]
    },
    {
     "data": {
      "text/html": [
       "<pre style=\"white-space:pre;overflow-x:auto;line-height:normal;font-family:Menlo,'DejaVu Sans Mono',consolas,'Courier New',monospace\"><span style=\"font-weight: bold\">Model: \"tab_cbm\"</span>\n",
       "</pre>\n"
      ],
      "text/plain": [
       "\u001b[1mModel: \"tab_cbm\"\u001b[0m\n"
      ]
     },
     "metadata": {},
     "output_type": "display_data"
    },
    {
     "data": {
      "text/html": [
       "<pre style=\"white-space:pre;overflow-x:auto;line-height:normal;font-family:Menlo,'DejaVu Sans Mono',consolas,'Courier New',monospace\">┏━━━━━━━━━━━━━━━━━━━━━━━━━━━━━━━━━┳━━━━━━━━━━━━━━━━━━━━━━━━┳━━━━━━━━━━━━━━━┓\n",
       "┃<span style=\"font-weight: bold\"> Layer (type)                    </span>┃<span style=\"font-weight: bold\"> Output Shape           </span>┃<span style=\"font-weight: bold\">       Param # </span>┃\n",
       "┡━━━━━━━━━━━━━━━━━━━━━━━━━━━━━━━━━╇━━━━━━━━━━━━━━━━━━━━━━━━╇━━━━━━━━━━━━━━━┩\n",
       "│ decoder (<span style=\"color: #0087ff; text-decoration-color: #0087ff\">Functional</span>)            │ (<span style=\"color: #00d7ff; text-decoration-color: #00d7ff\">None</span>, <span style=\"color: #00af00; text-decoration-color: #00af00\">1</span>)              │           <span style=\"color: #00af00; text-decoration-color: #00af00\">289</span> │\n",
       "├─────────────────────────────────┼────────────────────────┼───────────────┤\n",
       "│ encoder (<span style=\"color: #0087ff; text-decoration-color: #0087ff\">Functional</span>)            │ (<span style=\"color: #00d7ff; text-decoration-color: #00d7ff\">None</span>, <span style=\"color: #00af00; text-decoration-color: #00af00\">16</span>)             │         <span style=\"color: #00af00; text-decoration-color: #00af00\">1,168</span> │\n",
       "├─────────────────────────────────┼────────────────────────┼───────────────┤\n",
       "│ sequential_1 (<span style=\"color: #0087ff; text-decoration-color: #0087ff\">Sequential</span>)       │ (<span style=\"color: #00d7ff; text-decoration-color: #00d7ff\">None</span>, <span style=\"color: #00af00; text-decoration-color: #00af00\">16</span>)             │        <span style=\"color: #00af00; text-decoration-color: #00af00\">11,516</span> │\n",
       "├─────────────────────────────────┼────────────────────────┼───────────────┤\n",
       "│ concept_generators_0            │ ?                      │   <span style=\"color: #00af00; text-decoration-color: #00af00\">0</span> (unbuilt) │\n",
       "│ (<span style=\"color: #0087ff; text-decoration-color: #0087ff\">Sequential</span>)                    │                        │               │\n",
       "├─────────────────────────────────┼────────────────────────┼───────────────┤\n",
       "│ rec_values_model_0 (<span style=\"color: #0087ff; text-decoration-color: #0087ff\">Sequential</span>) │ ?                      │   <span style=\"color: #00af00; text-decoration-color: #00af00\">0</span> (unbuilt) │\n",
       "├─────────────────────────────────┼────────────────────────┼───────────────┤\n",
       "│ rec_mask_model (<span style=\"color: #0087ff; text-decoration-color: #0087ff\">Sequential</span>)     │ ?                      │   <span style=\"color: #00af00; text-decoration-color: #00af00\">0</span> (unbuilt) │\n",
       "├─────────────────────────────────┼────────────────────────┼───────────────┤\n",
       "│ concept_generators_1            │ ?                      │   <span style=\"color: #00af00; text-decoration-color: #00af00\">0</span> (unbuilt) │\n",
       "│ (<span style=\"color: #0087ff; text-decoration-color: #0087ff\">Sequential</span>)                    │                        │               │\n",
       "├─────────────────────────────────┼────────────────────────┼───────────────┤\n",
       "│ concept_generators_2            │ ?                      │   <span style=\"color: #00af00; text-decoration-color: #00af00\">0</span> (unbuilt) │\n",
       "│ (<span style=\"color: #0087ff; text-decoration-color: #0087ff\">Sequential</span>)                    │                        │               │\n",
       "├─────────────────────────────────┼────────────────────────┼───────────────┤\n",
       "│ concept_generators_3            │ ?                      │   <span style=\"color: #00af00; text-decoration-color: #00af00\">0</span> (unbuilt) │\n",
       "│ (<span style=\"color: #0087ff; text-decoration-color: #0087ff\">Sequential</span>)                    │                        │               │\n",
       "├─────────────────────────────────┼────────────────────────┼───────────────┤\n",
       "│ concept_generators_4            │ ?                      │   <span style=\"color: #00af00; text-decoration-color: #00af00\">0</span> (unbuilt) │\n",
       "│ (<span style=\"color: #0087ff; text-decoration-color: #0087ff\">Sequential</span>)                    │                        │               │\n",
       "├─────────────────────────────────┼────────────────────────┼───────────────┤\n",
       "│ concept_generators_5            │ ?                      │   <span style=\"color: #00af00; text-decoration-color: #00af00\">0</span> (unbuilt) │\n",
       "│ (<span style=\"color: #0087ff; text-decoration-color: #0087ff\">Sequential</span>)                    │                        │               │\n",
       "└─────────────────────────────────┴────────────────────────┴───────────────┘\n",
       "</pre>\n"
      ],
      "text/plain": [
       "┏━━━━━━━━━━━━━━━━━━━━━━━━━━━━━━━━━┳━━━━━━━━━━━━━━━━━━━━━━━━┳━━━━━━━━━━━━━━━┓\n",
       "┃\u001b[1m \u001b[0m\u001b[1mLayer (type)                   \u001b[0m\u001b[1m \u001b[0m┃\u001b[1m \u001b[0m\u001b[1mOutput Shape          \u001b[0m\u001b[1m \u001b[0m┃\u001b[1m \u001b[0m\u001b[1m      Param #\u001b[0m\u001b[1m \u001b[0m┃\n",
       "┡━━━━━━━━━━━━━━━━━━━━━━━━━━━━━━━━━╇━━━━━━━━━━━━━━━━━━━━━━━━╇━━━━━━━━━━━━━━━┩\n",
       "│ decoder (\u001b[38;5;33mFunctional\u001b[0m)            │ (\u001b[38;5;45mNone\u001b[0m, \u001b[38;5;34m1\u001b[0m)              │           \u001b[38;5;34m289\u001b[0m │\n",
       "├─────────────────────────────────┼────────────────────────┼───────────────┤\n",
       "│ encoder (\u001b[38;5;33mFunctional\u001b[0m)            │ (\u001b[38;5;45mNone\u001b[0m, \u001b[38;5;34m16\u001b[0m)             │         \u001b[38;5;34m1,168\u001b[0m │\n",
       "├─────────────────────────────────┼────────────────────────┼───────────────┤\n",
       "│ sequential_1 (\u001b[38;5;33mSequential\u001b[0m)       │ (\u001b[38;5;45mNone\u001b[0m, \u001b[38;5;34m16\u001b[0m)             │        \u001b[38;5;34m11,516\u001b[0m │\n",
       "├─────────────────────────────────┼────────────────────────┼───────────────┤\n",
       "│ concept_generators_0            │ ?                      │   \u001b[38;5;34m0\u001b[0m (unbuilt) │\n",
       "│ (\u001b[38;5;33mSequential\u001b[0m)                    │                        │               │\n",
       "├─────────────────────────────────┼────────────────────────┼───────────────┤\n",
       "│ rec_values_model_0 (\u001b[38;5;33mSequential\u001b[0m) │ ?                      │   \u001b[38;5;34m0\u001b[0m (unbuilt) │\n",
       "├─────────────────────────────────┼────────────────────────┼───────────────┤\n",
       "│ rec_mask_model (\u001b[38;5;33mSequential\u001b[0m)     │ ?                      │   \u001b[38;5;34m0\u001b[0m (unbuilt) │\n",
       "├─────────────────────────────────┼────────────────────────┼───────────────┤\n",
       "│ concept_generators_1            │ ?                      │   \u001b[38;5;34m0\u001b[0m (unbuilt) │\n",
       "│ (\u001b[38;5;33mSequential\u001b[0m)                    │                        │               │\n",
       "├─────────────────────────────────┼────────────────────────┼───────────────┤\n",
       "│ concept_generators_2            │ ?                      │   \u001b[38;5;34m0\u001b[0m (unbuilt) │\n",
       "│ (\u001b[38;5;33mSequential\u001b[0m)                    │                        │               │\n",
       "├─────────────────────────────────┼────────────────────────┼───────────────┤\n",
       "│ concept_generators_3            │ ?                      │   \u001b[38;5;34m0\u001b[0m (unbuilt) │\n",
       "│ (\u001b[38;5;33mSequential\u001b[0m)                    │                        │               │\n",
       "├─────────────────────────────────┼────────────────────────┼───────────────┤\n",
       "│ concept_generators_4            │ ?                      │   \u001b[38;5;34m0\u001b[0m (unbuilt) │\n",
       "│ (\u001b[38;5;33mSequential\u001b[0m)                    │                        │               │\n",
       "├─────────────────────────────────┼────────────────────────┼───────────────┤\n",
       "│ concept_generators_5            │ ?                      │   \u001b[38;5;34m0\u001b[0m (unbuilt) │\n",
       "│ (\u001b[38;5;33mSequential\u001b[0m)                    │                        │               │\n",
       "└─────────────────────────────────┴────────────────────────┴───────────────┘\n"
      ]
     },
     "metadata": {},
     "output_type": "display_data"
    },
    {
     "data": {
      "text/html": [
       "<pre style=\"white-space:pre;overflow-x:auto;line-height:normal;font-family:Menlo,'DejaVu Sans Mono',consolas,'Courier New',monospace\"><span style=\"font-weight: bold\"> Total params: </span><span style=\"color: #00af00; text-decoration-color: #00af00\">13,429</span> (52.46 KB)\n",
       "</pre>\n"
      ],
      "text/plain": [
       "\u001b[1m Total params: \u001b[0m\u001b[38;5;34m13,429\u001b[0m (52.46 KB)\n"
      ]
     },
     "metadata": {},
     "output_type": "display_data"
    },
    {
     "data": {
      "text/html": [
       "<pre style=\"white-space:pre;overflow-x:auto;line-height:normal;font-family:Menlo,'DejaVu Sans Mono',consolas,'Courier New',monospace\"><span style=\"font-weight: bold\"> Trainable params: </span><span style=\"color: #00af00; text-decoration-color: #00af00\">13,201</span> (51.57 KB)\n",
       "</pre>\n"
      ],
      "text/plain": [
       "\u001b[1m Trainable params: \u001b[0m\u001b[38;5;34m13,201\u001b[0m (51.57 KB)\n"
      ]
     },
     "metadata": {},
     "output_type": "display_data"
    },
    {
     "data": {
      "text/html": [
       "<pre style=\"white-space:pre;overflow-x:auto;line-height:normal;font-family:Menlo,'DejaVu Sans Mono',consolas,'Courier New',monospace\"><span style=\"font-weight: bold\"> Non-trainable params: </span><span style=\"color: #00af00; text-decoration-color: #00af00\">228</span> (912.00 B)\n",
       "</pre>\n"
      ],
      "text/plain": [
       "\u001b[1m Non-trainable params: \u001b[0m\u001b[38;5;34m228\u001b[0m (912.00 B)\n"
      ]
     },
     "metadata": {},
     "output_type": "display_data"
    }
   ],
   "source": [
    "# Mask Generator Self-supervised Training\n",
    "\n",
    "# Next, we proceed to do the SELF-SUPERVISED TRAINING of the MASK\n",
    "# GENERATORS for TabCBM. For this, we will follow a similar approach\n",
    "# to that of SEFS. Our TabCBM module allows one to do this by setting\n",
    "# the self_supervised_mode flag to True before calling the .fit() method:\n",
    "\n",
    "# We can now construct our TabCBM model which we will first self-supervise!\n",
    "ss_tabcbm = TabCBM(self_supervised_mode=True,  **tab_cbm_params)\n",
    "ss_tabcbm.compile(optimizer=tf.keras.optimizers.Adam(learning_rate,))\n",
    "ss_tabcbm.summary()\n"
   ]
  },
  {
   "cell_type": "code",
   "execution_count": 15,
   "metadata": {},
   "outputs": [
    {
     "name": "stdout",
     "output_type": "stream",
     "text": [
      "TabCBM self-supervised training stage...\n",
      "Epoch 1/50\n"
     ]
    },
    {
     "name": "stderr",
     "output_type": "stream",
     "text": [
      "d:\\PycharmProjects\\AMMISproject\\venv\\Lib\\site-packages\\keras\\src\\optimizers\\base_optimizer.py:664: UserWarning: Gradients do not exist for variables ['kernel', 'bias', 'kernel', 'bias', 'kernel', 'bias', 'kernel', 'bias', 'kernel', 'bias', 'kernel', 'bias', 'kernel', 'bias', 'kernel', 'bias', 'kernel', 'bias', 'kernel', 'bias', 'kernel', 'bias', 'kernel', 'bias'] when minimizing the loss. If using `model.compile()`, did you forget to provide a `loss` argument?\n",
      "  warnings.warn(\n"
     ]
    },
    {
     "name": "stdout",
     "output_type": "stream",
     "text": [
      "\u001b[1m243/243\u001b[0m \u001b[32m━━━━━━━━━━━━━━━━━━━━\u001b[0m\u001b[37m\u001b[0m \u001b[1m6s\u001b[0m 5ms/step - accuracy: 0.0000e+00 - avg_concept_size: 0.0000e+00 - avg_features_rec_loss: 0.4546 - avg_mask_rec_loss: 6.7664 - loss: 43.3261 - max_probability: 0.0000e+00 - mean_probability: 0.0000e+00 - min_probability: 0.0000e+00 - prob_sparsity_loss: 0.0000e+00 - reg_loss_closest: 0.0000e+00 - reg_loss_similarity: 0.0000e+00 - task_loss: 0.0000e+00 - val_avg_features_rec_loss: 0.4930 - val_avg_mask_rec_loss: 6.4329 - val_loss: 41.5554\n",
      "Epoch 2/50\n",
      "\u001b[1m243/243\u001b[0m \u001b[32m━━━━━━━━━━━━━━━━━━━━\u001b[0m\u001b[37m\u001b[0m \u001b[1m1s\u001b[0m 3ms/step - accuracy: 0.0000e+00 - avg_concept_size: 0.0000e+00 - avg_features_rec_loss: 0.4995 - avg_mask_rec_loss: 6.3714 - loss: 41.2253 - max_probability: 0.0000e+00 - mean_probability: 0.0000e+00 - min_probability: 0.0000e+00 - prob_sparsity_loss: 0.0000e+00 - reg_loss_closest: 0.0000e+00 - reg_loss_similarity: 0.0000e+00 - task_loss: 0.0000e+00 - val_avg_features_rec_loss: 0.5171 - val_avg_mask_rec_loss: 6.2945 - val_loss: 40.8696\n",
      "Epoch 3/50\n",
      "\u001b[1m243/243\u001b[0m \u001b[32m━━━━━━━━━━━━━━━━━━━━\u001b[0m\u001b[37m\u001b[0m \u001b[1m1s\u001b[0m 3ms/step - accuracy: 0.0000e+00 - avg_concept_size: 0.0000e+00 - avg_features_rec_loss: 0.5209 - avg_mask_rec_loss: 6.2503 - loss: 40.6273 - max_probability: 0.0000e+00 - mean_probability: 0.0000e+00 - min_probability: 0.0000e+00 - prob_sparsity_loss: 0.0000e+00 - reg_loss_closest: 0.0000e+00 - reg_loss_similarity: 0.0000e+00 - task_loss: 0.0000e+00 - val_avg_features_rec_loss: 0.5344 - val_avg_mask_rec_loss: 6.1609 - val_loss: 40.1722\n",
      "Epoch 4/50\n",
      "\u001b[1m243/243\u001b[0m \u001b[32m━━━━━━━━━━━━━━━━━━━━\u001b[0m\u001b[37m\u001b[0m \u001b[1m1s\u001b[0m 3ms/step - accuracy: 0.0000e+00 - avg_concept_size: 0.0000e+00 - avg_features_rec_loss: 0.5386 - avg_mask_rec_loss: 6.1133 - loss: 39.9115 - max_probability: 0.0000e+00 - mean_probability: 0.0000e+00 - min_probability: 0.0000e+00 - prob_sparsity_loss: 0.0000e+00 - reg_loss_closest: 0.0000e+00 - reg_loss_similarity: 0.0000e+00 - task_loss: 0.0000e+00 - val_avg_features_rec_loss: 0.5522 - val_avg_mask_rec_loss: 6.0391 - val_loss: 39.5480\n",
      "Epoch 5/50\n",
      "\u001b[1m243/243\u001b[0m \u001b[32m━━━━━━━━━━━━━━━━━━━━\u001b[0m\u001b[37m\u001b[0m \u001b[1m1s\u001b[0m 3ms/step - accuracy: 0.0000e+00 - avg_concept_size: 0.0000e+00 - avg_features_rec_loss: 0.5562 - avg_mask_rec_loss: 5.9763 - loss: 39.1955 - max_probability: 0.0000e+00 - mean_probability: 0.0000e+00 - min_probability: 0.0000e+00 - prob_sparsity_loss: 0.0000e+00 - reg_loss_closest: 0.0000e+00 - reg_loss_similarity: 0.0000e+00 - task_loss: 0.0000e+00 - val_avg_features_rec_loss: 0.5706 - val_avg_mask_rec_loss: 5.8863 - val_loss: 38.7417\n",
      "Epoch 6/50\n",
      "\u001b[1m243/243\u001b[0m \u001b[32m━━━━━━━━━━━━━━━━━━━━\u001b[0m\u001b[37m\u001b[0m \u001b[1m1s\u001b[0m 3ms/step - accuracy: 0.0000e+00 - avg_concept_size: 0.0000e+00 - avg_features_rec_loss: 0.5748 - avg_mask_rec_loss: 5.8552 - loss: 38.5797 - max_probability: 0.0000e+00 - mean_probability: 0.0000e+00 - min_probability: 0.0000e+00 - prob_sparsity_loss: 0.0000e+00 - reg_loss_closest: 0.0000e+00 - reg_loss_similarity: 0.0000e+00 - task_loss: 0.0000e+00 - val_avg_features_rec_loss: 0.5880 - val_avg_mask_rec_loss: 5.8029 - val_loss: 38.3455\n",
      "Epoch 7/50\n",
      "\u001b[1m243/243\u001b[0m \u001b[32m━━━━━━━━━━━━━━━━━━━━\u001b[0m\u001b[37m\u001b[0m \u001b[1m1s\u001b[0m 3ms/step - accuracy: 0.0000e+00 - avg_concept_size: 0.0000e+00 - avg_features_rec_loss: 0.5914 - avg_mask_rec_loss: 5.7561 - loss: 38.0850 - max_probability: 0.0000e+00 - mean_probability: 0.0000e+00 - min_probability: 0.0000e+00 - prob_sparsity_loss: 0.0000e+00 - reg_loss_closest: 0.0000e+00 - reg_loss_similarity: 0.0000e+00 - task_loss: 0.0000e+00 - val_avg_features_rec_loss: 0.6026 - val_avg_mask_rec_loss: 5.7297 - val_loss: 37.9936\n",
      "Epoch 8/50\n",
      "\u001b[1m243/243\u001b[0m \u001b[32m━━━━━━━━━━━━━━━━━━━━\u001b[0m\u001b[37m\u001b[0m \u001b[1m1s\u001b[0m 3ms/step - accuracy: 0.0000e+00 - avg_concept_size: 0.0000e+00 - avg_features_rec_loss: 0.6056 - avg_mask_rec_loss: 5.6840 - loss: 37.7377 - max_probability: 0.0000e+00 - mean_probability: 0.0000e+00 - min_probability: 0.0000e+00 - prob_sparsity_loss: 0.0000e+00 - reg_loss_closest: 0.0000e+00 - reg_loss_similarity: 0.0000e+00 - task_loss: 0.0000e+00 - val_avg_features_rec_loss: 0.6143 - val_avg_mask_rec_loss: 5.6639 - val_loss: 37.6693\n",
      "Epoch 9/50\n",
      "\u001b[1m243/243\u001b[0m \u001b[32m━━━━━━━━━━━━━━━━━━━━\u001b[0m\u001b[37m\u001b[0m \u001b[1m1s\u001b[0m 3ms/step - accuracy: 0.0000e+00 - avg_concept_size: 0.0000e+00 - avg_features_rec_loss: 0.6166 - avg_mask_rec_loss: 5.6442 - loss: 37.5646 - max_probability: 0.0000e+00 - mean_probability: 0.0000e+00 - min_probability: 0.0000e+00 - prob_sparsity_loss: 0.0000e+00 - reg_loss_closest: 0.0000e+00 - reg_loss_similarity: 0.0000e+00 - task_loss: 0.0000e+00 - val_avg_features_rec_loss: 0.6237 - val_avg_mask_rec_loss: 5.6298 - val_loss: 37.5210\n",
      "Epoch 10/50\n",
      "\u001b[1m243/243\u001b[0m \u001b[32m━━━━━━━━━━━━━━━━━━━━\u001b[0m\u001b[37m\u001b[0m \u001b[1m1s\u001b[0m 3ms/step - accuracy: 0.0000e+00 - avg_concept_size: 0.0000e+00 - avg_features_rec_loss: 0.6257 - avg_mask_rec_loss: 5.6088 - loss: 37.4065 - max_probability: 0.0000e+00 - mean_probability: 0.0000e+00 - min_probability: 0.0000e+00 - prob_sparsity_loss: 0.0000e+00 - reg_loss_closest: 0.0000e+00 - reg_loss_similarity: 0.0000e+00 - task_loss: 0.0000e+00 - val_avg_features_rec_loss: 0.6316 - val_avg_mask_rec_loss: 5.5926 - val_loss: 37.3453\n",
      "Epoch 11/50\n",
      "\u001b[1m243/243\u001b[0m \u001b[32m━━━━━━━━━━━━━━━━━━━━\u001b[0m\u001b[37m\u001b[0m \u001b[1m1s\u001b[0m 3ms/step - accuracy: 0.0000e+00 - avg_concept_size: 0.0000e+00 - avg_features_rec_loss: 0.6331 - avg_mask_rec_loss: 5.5778 - loss: 37.2656 - max_probability: 0.0000e+00 - mean_probability: 0.0000e+00 - min_probability: 0.0000e+00 - prob_sparsity_loss: 0.0000e+00 - reg_loss_closest: 0.0000e+00 - reg_loss_similarity: 0.0000e+00 - task_loss: 0.0000e+00 - val_avg_features_rec_loss: 0.6382 - val_avg_mask_rec_loss: 5.5819 - val_loss: 37.3210\n",
      "Epoch 12/50\n",
      "\u001b[1m243/243\u001b[0m \u001b[32m━━━━━━━━━━━━━━━━━━━━\u001b[0m\u001b[37m\u001b[0m \u001b[1m1s\u001b[0m 3ms/step - accuracy: 0.0000e+00 - avg_concept_size: 0.0000e+00 - avg_features_rec_loss: 0.6396 - avg_mask_rec_loss: 5.5543 - loss: 37.1633 - max_probability: 0.0000e+00 - mean_probability: 0.0000e+00 - min_probability: 0.0000e+00 - prob_sparsity_loss: 0.0000e+00 - reg_loss_closest: 0.0000e+00 - reg_loss_similarity: 0.0000e+00 - task_loss: 0.0000e+00 - val_avg_features_rec_loss: 0.6438 - val_avg_mask_rec_loss: 5.5543 - val_loss: 37.1888\n",
      "Epoch 13/50\n",
      "\u001b[1m243/243\u001b[0m \u001b[32m━━━━━━━━━━━━━━━━━━━━\u001b[0m\u001b[37m\u001b[0m \u001b[1m1s\u001b[0m 3ms/step - accuracy: 0.0000e+00 - avg_concept_size: 0.0000e+00 - avg_features_rec_loss: 0.6449 - avg_mask_rec_loss: 5.5291 - loss: 37.0437 - max_probability: 0.0000e+00 - mean_probability: 0.0000e+00 - min_probability: 0.0000e+00 - prob_sparsity_loss: 0.0000e+00 - reg_loss_closest: 0.0000e+00 - reg_loss_similarity: 0.0000e+00 - task_loss: 0.0000e+00 - val_avg_features_rec_loss: 0.6485 - val_avg_mask_rec_loss: 5.5347 - val_loss: 37.0995\n",
      "Epoch 14/50\n",
      "\u001b[1m243/243\u001b[0m \u001b[32m━━━━━━━━━━━━━━━━━━━━\u001b[0m\u001b[37m\u001b[0m \u001b[1m1s\u001b[0m 3ms/step - accuracy: 0.0000e+00 - avg_concept_size: 0.0000e+00 - avg_features_rec_loss: 0.6495 - avg_mask_rec_loss: 5.5025 - loss: 36.9120 - max_probability: 0.0000e+00 - mean_probability: 0.0000e+00 - min_probability: 0.0000e+00 - prob_sparsity_loss: 0.0000e+00 - reg_loss_closest: 0.0000e+00 - reg_loss_similarity: 0.0000e+00 - task_loss: 0.0000e+00 - val_avg_features_rec_loss: 0.6525 - val_avg_mask_rec_loss: 5.5087 - val_loss: 36.9671\n",
      "Epoch 15/50\n",
      "\u001b[1m243/243\u001b[0m \u001b[32m━━━━━━━━━━━━━━━━━━━━\u001b[0m\u001b[37m\u001b[0m \u001b[1m1s\u001b[0m 3ms/step - accuracy: 0.0000e+00 - avg_concept_size: 0.0000e+00 - avg_features_rec_loss: 0.6533 - avg_mask_rec_loss: 5.4774 - loss: 36.7840 - max_probability: 0.0000e+00 - mean_probability: 0.0000e+00 - min_probability: 0.0000e+00 - prob_sparsity_loss: 0.0000e+00 - reg_loss_closest: 0.0000e+00 - reg_loss_similarity: 0.0000e+00 - task_loss: 0.0000e+00 - val_avg_features_rec_loss: 0.6561 - val_avg_mask_rec_loss: 5.4800 - val_loss: 36.8166\n",
      "Epoch 16/50\n",
      "\u001b[1m243/243\u001b[0m \u001b[32m━━━━━━━━━━━━━━━━━━━━\u001b[0m\u001b[37m\u001b[0m \u001b[1m1s\u001b[0m 3ms/step - accuracy: 0.0000e+00 - avg_concept_size: 0.0000e+00 - avg_features_rec_loss: 0.6569 - avg_mask_rec_loss: 5.4490 - loss: 36.6355 - max_probability: 0.0000e+00 - mean_probability: 0.0000e+00 - min_probability: 0.0000e+00 - prob_sparsity_loss: 0.0000e+00 - reg_loss_closest: 0.0000e+00 - reg_loss_similarity: 0.0000e+00 - task_loss: 0.0000e+00 - val_avg_features_rec_loss: 0.6594 - val_avg_mask_rec_loss: 5.4480 - val_loss: 36.6447\n",
      "Epoch 17/50\n",
      "\u001b[1m243/243\u001b[0m \u001b[32m━━━━━━━━━━━━━━━━━━━━\u001b[0m\u001b[37m\u001b[0m \u001b[1m1s\u001b[0m 3ms/step - accuracy: 0.0000e+00 - avg_concept_size: 0.0000e+00 - avg_features_rec_loss: 0.6602 - avg_mask_rec_loss: 5.4245 - loss: 36.5081 - max_probability: 0.0000e+00 - mean_probability: 0.0000e+00 - min_probability: 0.0000e+00 - prob_sparsity_loss: 0.0000e+00 - reg_loss_closest: 0.0000e+00 - reg_loss_similarity: 0.0000e+00 - task_loss: 0.0000e+00 - val_avg_features_rec_loss: 0.6626 - val_avg_mask_rec_loss: 5.4321 - val_loss: 36.5684\n",
      "Epoch 18/50\n",
      "\u001b[1m243/243\u001b[0m \u001b[32m━━━━━━━━━━━━━━━━━━━━\u001b[0m\u001b[37m\u001b[0m \u001b[1m1s\u001b[0m 3ms/step - accuracy: 0.0000e+00 - avg_concept_size: 0.0000e+00 - avg_features_rec_loss: 0.6633 - avg_mask_rec_loss: 5.4093 - loss: 36.4359 - max_probability: 0.0000e+00 - mean_probability: 0.0000e+00 - min_probability: 0.0000e+00 - prob_sparsity_loss: 0.0000e+00 - reg_loss_closest: 0.0000e+00 - reg_loss_similarity: 0.0000e+00 - task_loss: 0.0000e+00 - val_avg_features_rec_loss: 0.6656 - val_avg_mask_rec_loss: 5.4230 - val_loss: 36.5317\n",
      "Epoch 19/50\n",
      "\u001b[1m243/243\u001b[0m \u001b[32m━━━━━━━━━━━━━━━━━━━━\u001b[0m\u001b[37m\u001b[0m \u001b[1m1s\u001b[0m 3ms/step - accuracy: 0.0000e+00 - avg_concept_size: 0.0000e+00 - avg_features_rec_loss: 0.6662 - avg_mask_rec_loss: 5.3966 - loss: 36.3773 - max_probability: 0.0000e+00 - mean_probability: 0.0000e+00 - min_probability: 0.0000e+00 - prob_sparsity_loss: 0.0000e+00 - reg_loss_closest: 0.0000e+00 - reg_loss_similarity: 0.0000e+00 - task_loss: 0.0000e+00 - val_avg_features_rec_loss: 0.6683 - val_avg_mask_rec_loss: 5.3956 - val_loss: 36.3832\n",
      "Epoch 20/50\n",
      "\u001b[1m243/243\u001b[0m \u001b[32m━━━━━━━━━━━━━━━━━━━━\u001b[0m\u001b[37m\u001b[0m \u001b[1m1s\u001b[0m 4ms/step - accuracy: 0.0000e+00 - avg_concept_size: 0.0000e+00 - avg_features_rec_loss: 0.6689 - avg_mask_rec_loss: 5.3841 - loss: 36.3178 - max_probability: 0.0000e+00 - mean_probability: 0.0000e+00 - min_probability: 0.0000e+00 - prob_sparsity_loss: 0.0000e+00 - reg_loss_closest: 0.0000e+00 - reg_loss_similarity: 0.0000e+00 - task_loss: 0.0000e+00 - val_avg_features_rec_loss: 0.6709 - val_avg_mask_rec_loss: 5.3957 - val_loss: 36.3993\n",
      "Epoch 21/50\n",
      "\u001b[1m243/243\u001b[0m \u001b[32m━━━━━━━━━━━━━━━━━━━━\u001b[0m\u001b[37m\u001b[0m \u001b[1m1s\u001b[0m 3ms/step - accuracy: 0.0000e+00 - avg_concept_size: 0.0000e+00 - avg_features_rec_loss: 0.6714 - avg_mask_rec_loss: 5.3750 - loss: 36.2786 - max_probability: 0.0000e+00 - mean_probability: 0.0000e+00 - min_probability: 0.0000e+00 - prob_sparsity_loss: 0.0000e+00 - reg_loss_closest: 0.0000e+00 - reg_loss_similarity: 0.0000e+00 - task_loss: 0.0000e+00 - val_avg_features_rec_loss: 0.6732 - val_avg_mask_rec_loss: 5.3957 - val_loss: 36.4135\n",
      "Epoch 22/50\n",
      "\u001b[1m243/243\u001b[0m \u001b[32m━━━━━━━━━━━━━━━━━━━━\u001b[0m\u001b[37m\u001b[0m \u001b[1m1s\u001b[0m 3ms/step - accuracy: 0.0000e+00 - avg_concept_size: 0.0000e+00 - avg_features_rec_loss: 0.6737 - avg_mask_rec_loss: 5.3681 - loss: 36.2509 - max_probability: 0.0000e+00 - mean_probability: 0.0000e+00 - min_probability: 0.0000e+00 - prob_sparsity_loss: 0.0000e+00 - reg_loss_closest: 0.0000e+00 - reg_loss_similarity: 0.0000e+00 - task_loss: 0.0000e+00 - val_avg_features_rec_loss: 0.6754 - val_avg_mask_rec_loss: 5.3820 - val_loss: 36.3443\n",
      "Epoch 23/50\n",
      "\u001b[1m243/243\u001b[0m \u001b[32m━━━━━━━━━━━━━━━━━━━━\u001b[0m\u001b[37m\u001b[0m \u001b[1m1s\u001b[0m 3ms/step - accuracy: 0.0000e+00 - avg_concept_size: 0.0000e+00 - avg_features_rec_loss: 0.6759 - avg_mask_rec_loss: 5.3629 - loss: 36.2324 - max_probability: 0.0000e+00 - mean_probability: 0.0000e+00 - min_probability: 0.0000e+00 - prob_sparsity_loss: 0.0000e+00 - reg_loss_closest: 0.0000e+00 - reg_loss_similarity: 0.0000e+00 - task_loss: 0.0000e+00 - val_avg_features_rec_loss: 0.6773 - val_avg_mask_rec_loss: 5.3784 - val_loss: 36.3343\n",
      "Epoch 24/50\n",
      "\u001b[1m243/243\u001b[0m \u001b[32m━━━━━━━━━━━━━━━━━━━━\u001b[0m\u001b[37m\u001b[0m \u001b[1m1s\u001b[0m 3ms/step - accuracy: 0.0000e+00 - avg_concept_size: 0.0000e+00 - avg_features_rec_loss: 0.6778 - avg_mask_rec_loss: 5.3563 - loss: 36.2043 - max_probability: 0.0000e+00 - mean_probability: 0.0000e+00 - min_probability: 0.0000e+00 - prob_sparsity_loss: 0.0000e+00 - reg_loss_closest: 0.0000e+00 - reg_loss_similarity: 0.0000e+00 - task_loss: 0.0000e+00 - val_avg_features_rec_loss: 0.6791 - val_avg_mask_rec_loss: 5.3782 - val_loss: 36.3439\n",
      "Epoch 25/50\n",
      "\u001b[1m243/243\u001b[0m \u001b[32m━━━━━━━━━━━━━━━━━━━━\u001b[0m\u001b[37m\u001b[0m \u001b[1m1s\u001b[0m 3ms/step - accuracy: 0.0000e+00 - avg_concept_size: 0.0000e+00 - avg_features_rec_loss: 0.6795 - avg_mask_rec_loss: 5.3509 - loss: 36.1821 - max_probability: 0.0000e+00 - mean_probability: 0.0000e+00 - min_probability: 0.0000e+00 - prob_sparsity_loss: 0.0000e+00 - reg_loss_closest: 0.0000e+00 - reg_loss_similarity: 0.0000e+00 - task_loss: 0.0000e+00 - val_avg_features_rec_loss: 0.6807 - val_avg_mask_rec_loss: 5.3600 - val_loss: 36.2448\n",
      "Epoch 26/50\n",
      "\u001b[1m243/243\u001b[0m \u001b[32m━━━━━━━━━━━━━━━━━━━━\u001b[0m\u001b[37m\u001b[0m \u001b[1m1s\u001b[0m 3ms/step - accuracy: 0.0000e+00 - avg_concept_size: 0.0000e+00 - avg_features_rec_loss: 0.6811 - avg_mask_rec_loss: 5.3441 - loss: 36.1512 - max_probability: 0.0000e+00 - mean_probability: 0.0000e+00 - min_probability: 0.0000e+00 - prob_sparsity_loss: 0.0000e+00 - reg_loss_closest: 0.0000e+00 - reg_loss_similarity: 0.0000e+00 - task_loss: 0.0000e+00 - val_avg_features_rec_loss: 0.6822 - val_avg_mask_rec_loss: 5.3609 - val_loss: 36.2591\n",
      "Epoch 27/50\n",
      "\u001b[1m243/243\u001b[0m \u001b[32m━━━━━━━━━━━━━━━━━━━━\u001b[0m\u001b[37m\u001b[0m \u001b[1m1s\u001b[0m 3ms/step - accuracy: 0.0000e+00 - avg_concept_size: 0.0000e+00 - avg_features_rec_loss: 0.6826 - avg_mask_rec_loss: 5.3424 - loss: 36.1496 - max_probability: 0.0000e+00 - mean_probability: 0.0000e+00 - min_probability: 0.0000e+00 - prob_sparsity_loss: 0.0000e+00 - reg_loss_closest: 0.0000e+00 - reg_loss_similarity: 0.0000e+00 - task_loss: 0.0000e+00 - val_avg_features_rec_loss: 0.6836 - val_avg_mask_rec_loss: 5.3506 - val_loss: 36.2054\n",
      "Epoch 28/50\n",
      "\u001b[1m243/243\u001b[0m \u001b[32m━━━━━━━━━━━━━━━━━━━━\u001b[0m\u001b[37m\u001b[0m \u001b[1m1s\u001b[0m 3ms/step - accuracy: 0.0000e+00 - avg_concept_size: 0.0000e+00 - avg_features_rec_loss: 0.6839 - avg_mask_rec_loss: 5.3359 - loss: 36.1185 - max_probability: 0.0000e+00 - mean_probability: 0.0000e+00 - min_probability: 0.0000e+00 - prob_sparsity_loss: 0.0000e+00 - reg_loss_closest: 0.0000e+00 - reg_loss_similarity: 0.0000e+00 - task_loss: 0.0000e+00 - val_avg_features_rec_loss: 0.6848 - val_avg_mask_rec_loss: 5.3463 - val_loss: 36.1867\n",
      "Epoch 29/50\n",
      "\u001b[1m243/243\u001b[0m \u001b[32m━━━━━━━━━━━━━━━━━━━━\u001b[0m\u001b[37m\u001b[0m \u001b[1m1s\u001b[0m 3ms/step - accuracy: 0.0000e+00 - avg_concept_size: 0.0000e+00 - avg_features_rec_loss: 0.6850 - avg_mask_rec_loss: 5.3293 - loss: 36.0863 - max_probability: 0.0000e+00 - mean_probability: 0.0000e+00 - min_probability: 0.0000e+00 - prob_sparsity_loss: 0.0000e+00 - reg_loss_closest: 0.0000e+00 - reg_loss_similarity: 0.0000e+00 - task_loss: 0.0000e+00 - val_avg_features_rec_loss: 0.6859 - val_avg_mask_rec_loss: 5.3359 - val_loss: 36.1310\n",
      "Epoch 30/50\n",
      "\u001b[1m243/243\u001b[0m \u001b[32m━━━━━━━━━━━━━━━━━━━━\u001b[0m\u001b[37m\u001b[0m \u001b[1m1s\u001b[0m 3ms/step - accuracy: 0.0000e+00 - avg_concept_size: 0.0000e+00 - avg_features_rec_loss: 0.6861 - avg_mask_rec_loss: 5.3232 - loss: 36.0557 - max_probability: 0.0000e+00 - mean_probability: 0.0000e+00 - min_probability: 0.0000e+00 - prob_sparsity_loss: 0.0000e+00 - reg_loss_closest: 0.0000e+00 - reg_loss_similarity: 0.0000e+00 - task_loss: 0.0000e+00 - val_avg_features_rec_loss: 0.6869 - val_avg_mask_rec_loss: 5.3432 - val_loss: 36.1802\n",
      "Epoch 31/50\n",
      "\u001b[1m243/243\u001b[0m \u001b[32m━━━━━━━━━━━━━━━━━━━━\u001b[0m\u001b[37m\u001b[0m \u001b[1m1s\u001b[0m 3ms/step - accuracy: 0.0000e+00 - avg_concept_size: 0.0000e+00 - avg_features_rec_loss: 0.6871 - avg_mask_rec_loss: 5.3212 - loss: 36.0500 - max_probability: 0.0000e+00 - mean_probability: 0.0000e+00 - min_probability: 0.0000e+00 - prob_sparsity_loss: 0.0000e+00 - reg_loss_closest: 0.0000e+00 - reg_loss_similarity: 0.0000e+00 - task_loss: 0.0000e+00 - val_avg_features_rec_loss: 0.6878 - val_avg_mask_rec_loss: 5.3390 - val_loss: 36.1605\n",
      "Epoch 32/50\n",
      "\u001b[1m243/243\u001b[0m \u001b[32m━━━━━━━━━━━━━━━━━━━━\u001b[0m\u001b[37m\u001b[0m \u001b[1m1s\u001b[0m 3ms/step - accuracy: 0.0000e+00 - avg_concept_size: 0.0000e+00 - avg_features_rec_loss: 0.6880 - avg_mask_rec_loss: 5.3160 - loss: 36.0241 - max_probability: 0.0000e+00 - mean_probability: 0.0000e+00 - min_probability: 0.0000e+00 - prob_sparsity_loss: 0.0000e+00 - reg_loss_closest: 0.0000e+00 - reg_loss_similarity: 0.0000e+00 - task_loss: 0.0000e+00 - val_avg_features_rec_loss: 0.6886 - val_avg_mask_rec_loss: 5.3340 - val_loss: 36.1358\n",
      "Epoch 33/50\n",
      "\u001b[1m243/243\u001b[0m \u001b[32m━━━━━━━━━━━━━━━━━━━━\u001b[0m\u001b[37m\u001b[0m \u001b[1m1s\u001b[0m 3ms/step - accuracy: 0.0000e+00 - avg_concept_size: 0.0000e+00 - avg_features_rec_loss: 0.6888 - avg_mask_rec_loss: 5.3116 - loss: 36.0025 - max_probability: 0.0000e+00 - mean_probability: 0.0000e+00 - min_probability: 0.0000e+00 - prob_sparsity_loss: 0.0000e+00 - reg_loss_closest: 0.0000e+00 - reg_loss_similarity: 0.0000e+00 - task_loss: 0.0000e+00 - val_avg_features_rec_loss: 0.6894 - val_avg_mask_rec_loss: 5.3297 - val_loss: 36.1145\n",
      "Epoch 34/50\n",
      "\u001b[1m243/243\u001b[0m \u001b[32m━━━━━━━━━━━━━━━━━━━━\u001b[0m\u001b[37m\u001b[0m \u001b[1m1s\u001b[0m 3ms/step - accuracy: 0.0000e+00 - avg_concept_size: 0.0000e+00 - avg_features_rec_loss: 0.6896 - avg_mask_rec_loss: 5.3127 - loss: 36.0140 - max_probability: 0.0000e+00 - mean_probability: 0.0000e+00 - min_probability: 0.0000e+00 - prob_sparsity_loss: 0.0000e+00 - reg_loss_closest: 0.0000e+00 - reg_loss_similarity: 0.0000e+00 - task_loss: 0.0000e+00 - val_avg_features_rec_loss: 0.6901 - val_avg_mask_rec_loss: 5.3175 - val_loss: 36.0457\n",
      "Epoch 35/50\n",
      "\u001b[1m243/243\u001b[0m \u001b[32m━━━━━━━━━━━━━━━━━━━━\u001b[0m\u001b[37m\u001b[0m \u001b[1m1s\u001b[0m 3ms/step - accuracy: 0.0000e+00 - avg_concept_size: 0.0000e+00 - avg_features_rec_loss: 0.6903 - avg_mask_rec_loss: 5.3043 - loss: 35.9674 - max_probability: 0.0000e+00 - mean_probability: 0.0000e+00 - min_probability: 0.0000e+00 - prob_sparsity_loss: 0.0000e+00 - reg_loss_closest: 0.0000e+00 - reg_loss_similarity: 0.0000e+00 - task_loss: 0.0000e+00 - val_avg_features_rec_loss: 0.6908 - val_avg_mask_rec_loss: 5.3148 - val_loss: 36.0338\n",
      "Epoch 36/50\n",
      "\u001b[1m243/243\u001b[0m \u001b[32m━━━━━━━━━━━━━━━━━━━━\u001b[0m\u001b[37m\u001b[0m \u001b[1m1s\u001b[0m 3ms/step - accuracy: 0.0000e+00 - avg_concept_size: 0.0000e+00 - avg_features_rec_loss: 0.6909 - avg_mask_rec_loss: 5.3031 - loss: 35.9641 - max_probability: 0.0000e+00 - mean_probability: 0.0000e+00 - min_probability: 0.0000e+00 - prob_sparsity_loss: 0.0000e+00 - reg_loss_closest: 0.0000e+00 - reg_loss_similarity: 0.0000e+00 - task_loss: 0.0000e+00 - val_avg_features_rec_loss: 0.6914 - val_avg_mask_rec_loss: 5.3170 - val_loss: 36.0505\n",
      "Epoch 37/50\n",
      "\u001b[1m243/243\u001b[0m \u001b[32m━━━━━━━━━━━━━━━━━━━━\u001b[0m\u001b[37m\u001b[0m \u001b[1m1s\u001b[0m 3ms/step - accuracy: 0.0000e+00 - avg_concept_size: 0.0000e+00 - avg_features_rec_loss: 0.6916 - avg_mask_rec_loss: 5.3042 - loss: 35.9745 - max_probability: 0.0000e+00 - mean_probability: 0.0000e+00 - min_probability: 0.0000e+00 - prob_sparsity_loss: 0.0000e+00 - reg_loss_closest: 0.0000e+00 - reg_loss_similarity: 0.0000e+00 - task_loss: 0.0000e+00 - val_avg_features_rec_loss: 0.6920 - val_avg_mask_rec_loss: 5.3161 - val_loss: 36.0486\n",
      "Epoch 38/50\n",
      "\u001b[1m243/243\u001b[0m \u001b[32m━━━━━━━━━━━━━━━━━━━━\u001b[0m\u001b[37m\u001b[0m \u001b[1m1s\u001b[0m 3ms/step - accuracy: 0.0000e+00 - avg_concept_size: 0.0000e+00 - avg_features_rec_loss: 0.6921 - avg_mask_rec_loss: 5.2935 - loss: 35.9137 - max_probability: 0.0000e+00 - mean_probability: 0.0000e+00 - min_probability: 0.0000e+00 - prob_sparsity_loss: 0.0000e+00 - reg_loss_closest: 0.0000e+00 - reg_loss_similarity: 0.0000e+00 - task_loss: 0.0000e+00 - val_avg_features_rec_loss: 0.6926 - val_avg_mask_rec_loss: 5.3167 - val_loss: 36.0559\n",
      "Epoch 39/50\n",
      "\u001b[1m243/243\u001b[0m \u001b[32m━━━━━━━━━━━━━━━━━━━━\u001b[0m\u001b[37m\u001b[0m \u001b[1m1s\u001b[0m 3ms/step - accuracy: 0.0000e+00 - avg_concept_size: 0.0000e+00 - avg_features_rec_loss: 0.6927 - avg_mask_rec_loss: 5.2969 - loss: 35.9377 - max_probability: 0.0000e+00 - mean_probability: 0.0000e+00 - min_probability: 0.0000e+00 - prob_sparsity_loss: 0.0000e+00 - reg_loss_closest: 0.0000e+00 - reg_loss_similarity: 0.0000e+00 - task_loss: 0.0000e+00 - val_avg_features_rec_loss: 0.6931 - val_avg_mask_rec_loss: 5.3078 - val_loss: 36.0056\n",
      "Epoch 40/50\n",
      "\u001b[1m243/243\u001b[0m \u001b[32m━━━━━━━━━━━━━━━━━━━━\u001b[0m\u001b[37m\u001b[0m \u001b[1m1s\u001b[0m 3ms/step - accuracy: 0.0000e+00 - avg_concept_size: 0.0000e+00 - avg_features_rec_loss: 0.6933 - avg_mask_rec_loss: 5.2933 - loss: 35.9194 - max_probability: 0.0000e+00 - mean_probability: 0.0000e+00 - min_probability: 0.0000e+00 - prob_sparsity_loss: 0.0000e+00 - reg_loss_closest: 0.0000e+00 - reg_loss_similarity: 0.0000e+00 - task_loss: 0.0000e+00 - val_avg_features_rec_loss: 0.6937 - val_avg_mask_rec_loss: 5.3202 - val_loss: 36.0834\n",
      "Epoch 41/50\n",
      "\u001b[1m243/243\u001b[0m \u001b[32m━━━━━━━━━━━━━━━━━━━━\u001b[0m\u001b[37m\u001b[0m \u001b[1m1s\u001b[0m 3ms/step - accuracy: 0.0000e+00 - avg_concept_size: 0.0000e+00 - avg_features_rec_loss: 0.6938 - avg_mask_rec_loss: 5.2899 - loss: 35.9025 - max_probability: 0.0000e+00 - mean_probability: 0.0000e+00 - min_probability: 0.0000e+00 - prob_sparsity_loss: 0.0000e+00 - reg_loss_closest: 0.0000e+00 - reg_loss_similarity: 0.0000e+00 - task_loss: 0.0000e+00 - val_avg_features_rec_loss: 0.6942 - val_avg_mask_rec_loss: 5.3118 - val_loss: 36.0357\n",
      "Epoch 42/50\n",
      "\u001b[1m243/243\u001b[0m \u001b[32m━━━━━━━━━━━━━━━━━━━━\u001b[0m\u001b[37m\u001b[0m \u001b[1m1s\u001b[0m 3ms/step - accuracy: 0.0000e+00 - avg_concept_size: 0.0000e+00 - avg_features_rec_loss: 0.6943 - avg_mask_rec_loss: 5.2880 - loss: 35.8935 - max_probability: 0.0000e+00 - mean_probability: 0.0000e+00 - min_probability: 0.0000e+00 - prob_sparsity_loss: 0.0000e+00 - reg_loss_closest: 0.0000e+00 - reg_loss_similarity: 0.0000e+00 - task_loss: 0.0000e+00 - val_avg_features_rec_loss: 0.6946 - val_avg_mask_rec_loss: 5.3054 - val_loss: 36.0004\n",
      "Epoch 43/50\n",
      "\u001b[1m243/243\u001b[0m \u001b[32m━━━━━━━━━━━━━━━━━━━━\u001b[0m\u001b[37m\u001b[0m \u001b[1m1s\u001b[0m 3ms/step - accuracy: 0.0000e+00 - avg_concept_size: 0.0000e+00 - avg_features_rec_loss: 0.6947 - avg_mask_rec_loss: 5.2835 - loss: 35.8694 - max_probability: 0.0000e+00 - mean_probability: 0.0000e+00 - min_probability: 0.0000e+00 - prob_sparsity_loss: 0.0000e+00 - reg_loss_closest: 0.0000e+00 - reg_loss_similarity: 0.0000e+00 - task_loss: 0.0000e+00 - val_avg_features_rec_loss: 0.6951 - val_avg_mask_rec_loss: 5.3083 - val_loss: 36.0205\n",
      "Epoch 44/50\n",
      "\u001b[1m243/243\u001b[0m \u001b[32m━━━━━━━━━━━━━━━━━━━━\u001b[0m\u001b[37m\u001b[0m \u001b[1m1s\u001b[0m 3ms/step - accuracy: 0.0000e+00 - avg_concept_size: 0.0000e+00 - avg_features_rec_loss: 0.6952 - avg_mask_rec_loss: 5.2803 - loss: 35.8530 - max_probability: 0.0000e+00 - mean_probability: 0.0000e+00 - min_probability: 0.0000e+00 - prob_sparsity_loss: 0.0000e+00 - reg_loss_closest: 0.0000e+00 - reg_loss_similarity: 0.0000e+00 - task_loss: 0.0000e+00 - val_avg_features_rec_loss: 0.6955 - val_avg_mask_rec_loss: 5.2870 - val_loss: 35.8952\n",
      "Epoch 45/50\n",
      "\u001b[1m243/243\u001b[0m \u001b[32m━━━━━━━━━━━━━━━━━━━━\u001b[0m\u001b[37m\u001b[0m \u001b[1m1s\u001b[0m 3ms/step - accuracy: 0.0000e+00 - avg_concept_size: 0.0000e+00 - avg_features_rec_loss: 0.6956 - avg_mask_rec_loss: 5.2820 - loss: 35.8656 - max_probability: 0.0000e+00 - mean_probability: 0.0000e+00 - min_probability: 0.0000e+00 - prob_sparsity_loss: 0.0000e+00 - reg_loss_closest: 0.0000e+00 - reg_loss_similarity: 0.0000e+00 - task_loss: 0.0000e+00 - val_avg_features_rec_loss: 0.6960 - val_avg_mask_rec_loss: 5.2957 - val_loss: 35.9502\n",
      "Epoch 46/50\n",
      "\u001b[1m243/243\u001b[0m \u001b[32m━━━━━━━━━━━━━━━━━━━━\u001b[0m\u001b[37m\u001b[0m \u001b[1m1s\u001b[0m 3ms/step - accuracy: 0.0000e+00 - avg_concept_size: 0.0000e+00 - avg_features_rec_loss: 0.6961 - avg_mask_rec_loss: 5.2808 - loss: 35.8610 - max_probability: 0.0000e+00 - mean_probability: 0.0000e+00 - min_probability: 0.0000e+00 - prob_sparsity_loss: 0.0000e+00 - reg_loss_closest: 0.0000e+00 - reg_loss_similarity: 0.0000e+00 - task_loss: 0.0000e+00 - val_avg_features_rec_loss: 0.6964 - val_avg_mask_rec_loss: 5.3033 - val_loss: 35.9982\n",
      "Epoch 47/50\n",
      "\u001b[1m243/243\u001b[0m \u001b[32m━━━━━━━━━━━━━━━━━━━━\u001b[0m\u001b[37m\u001b[0m \u001b[1m1s\u001b[0m 3ms/step - accuracy: 0.0000e+00 - avg_concept_size: 0.0000e+00 - avg_features_rec_loss: 0.6965 - avg_mask_rec_loss: 5.2757 - loss: 35.8330 - max_probability: 0.0000e+00 - mean_probability: 0.0000e+00 - min_probability: 0.0000e+00 - prob_sparsity_loss: 0.0000e+00 - reg_loss_closest: 0.0000e+00 - reg_loss_similarity: 0.0000e+00 - task_loss: 0.0000e+00 - val_avg_features_rec_loss: 0.6968 - val_avg_mask_rec_loss: 5.2954 - val_loss: 35.9529\n",
      "Epoch 48/50\n",
      "\u001b[1m243/243\u001b[0m \u001b[32m━━━━━━━━━━━━━━━━━━━━\u001b[0m\u001b[37m\u001b[0m \u001b[1m1s\u001b[0m 3ms/step - accuracy: 0.0000e+00 - avg_concept_size: 0.0000e+00 - avg_features_rec_loss: 0.6968 - avg_mask_rec_loss: 5.2747 - loss: 35.8293 - max_probability: 0.0000e+00 - mean_probability: 0.0000e+00 - min_probability: 0.0000e+00 - prob_sparsity_loss: 0.0000e+00 - reg_loss_closest: 0.0000e+00 - reg_loss_similarity: 0.0000e+00 - task_loss: 0.0000e+00 - val_avg_features_rec_loss: 0.6971 - val_avg_mask_rec_loss: 5.2929 - val_loss: 35.9401\n",
      "Epoch 49/50\n",
      "\u001b[1m243/243\u001b[0m \u001b[32m━━━━━━━━━━━━━━━━━━━━\u001b[0m\u001b[37m\u001b[0m \u001b[1m1s\u001b[0m 3ms/step - accuracy: 0.0000e+00 - avg_concept_size: 0.0000e+00 - avg_features_rec_loss: 0.6972 - avg_mask_rec_loss: 5.2720 - loss: 35.8153 - max_probability: 0.0000e+00 - mean_probability: 0.0000e+00 - min_probability: 0.0000e+00 - prob_sparsity_loss: 0.0000e+00 - reg_loss_closest: 0.0000e+00 - reg_loss_similarity: 0.0000e+00 - task_loss: 0.0000e+00 - val_avg_features_rec_loss: 0.6975 - val_avg_mask_rec_loss: 5.2926 - val_loss: 35.9403\n",
      "Epoch 50/50\n",
      "\u001b[1m243/243\u001b[0m \u001b[32m━━━━━━━━━━━━━━━━━━━━\u001b[0m\u001b[37m\u001b[0m \u001b[1m1s\u001b[0m 3ms/step - accuracy: 0.0000e+00 - avg_concept_size: 0.0000e+00 - avg_features_rec_loss: 0.6976 - avg_mask_rec_loss: 5.2730 - loss: 35.8234 - max_probability: 0.0000e+00 - mean_probability: 0.0000e+00 - min_probability: 0.0000e+00 - prob_sparsity_loss: 0.0000e+00 - reg_loss_closest: 0.0000e+00 - reg_loss_similarity: 0.0000e+00 - task_loss: 0.0000e+00 - val_avg_features_rec_loss: 0.6978 - val_avg_mask_rec_loss: 5.2896 - val_loss: 35.9246\n",
      "\tTabCBM self-supervised training completed\n"
     ]
    }
   ],
   "source": [
    "self_supervised_train_epochs = 50\n",
    "print(\"TabCBM self-supervised training stage...\")\n",
    "ss_tabcbm_hist = ss_tabcbm.fit(\n",
    "    x=x_train_std,\n",
    "    y=y_train,\n",
    "    validation_split=validation_size,\n",
    "    epochs=self_supervised_train_epochs,\n",
    "    batch_size=batch_size,\n",
    "    verbose=1,\n",
    ")\n",
    "\n",
    "print(\"\\tTabCBM self-supervised training completed\")"
   ]
  },
  {
   "cell_type": "code",
   "execution_count": 16,
   "metadata": {},
   "outputs": [
    {
     "name": "stdout",
     "output_type": "stream",
     "text": [
      "[WARNING] Assuming independence between features in TabCBM training.\n"
     ]
    },
    {
     "name": "stderr",
     "output_type": "stream",
     "text": [
      "d:\\PycharmProjects\\AMMISproject\\venv\\Lib\\site-packages\\keras\\src\\layers\\core\\dense.py:87: UserWarning: Do not pass an `input_shape`/`input_dim` argument to a layer. When using Sequential models, prefer using an `Input(shape)` object as the first layer in the model instead.\n",
      "  super().__init__(activity_regularizer=activity_regularizer, **kwargs)\n"
     ]
    },
    {
     "data": {
      "text/html": [
       "<pre style=\"white-space:pre;overflow-x:auto;line-height:normal;font-family:Menlo,'DejaVu Sans Mono',consolas,'Courier New',monospace\"><span style=\"font-weight: bold\">Model: \"tab_cbm_1\"</span>\n",
       "</pre>\n"
      ],
      "text/plain": [
       "\u001b[1mModel: \"tab_cbm_1\"\u001b[0m\n"
      ]
     },
     "metadata": {},
     "output_type": "display_data"
    },
    {
     "data": {
      "text/html": [
       "<pre style=\"white-space:pre;overflow-x:auto;line-height:normal;font-family:Menlo,'DejaVu Sans Mono',consolas,'Courier New',monospace\">┏━━━━━━━━━━━━━━━━━━━━━━━━━━━━━━━━━┳━━━━━━━━━━━━━━━━━━━━━━━━┳━━━━━━━━━━━━━━━┓\n",
       "┃<span style=\"font-weight: bold\"> Layer (type)                    </span>┃<span style=\"font-weight: bold\"> Output Shape           </span>┃<span style=\"font-weight: bold\">       Param # </span>┃\n",
       "┡━━━━━━━━━━━━━━━━━━━━━━━━━━━━━━━━━╇━━━━━━━━━━━━━━━━━━━━━━━━╇━━━━━━━━━━━━━━━┩\n",
       "│ decoder (<span style=\"color: #0087ff; text-decoration-color: #0087ff\">Functional</span>)            │ (<span style=\"color: #00d7ff; text-decoration-color: #00d7ff\">None</span>, <span style=\"color: #00af00; text-decoration-color: #00af00\">1</span>)              │           <span style=\"color: #00af00; text-decoration-color: #00af00\">289</span> │\n",
       "├─────────────────────────────────┼────────────────────────┼───────────────┤\n",
       "│ encoder (<span style=\"color: #0087ff; text-decoration-color: #0087ff\">Functional</span>)            │ (<span style=\"color: #00d7ff; text-decoration-color: #00d7ff\">None</span>, <span style=\"color: #00af00; text-decoration-color: #00af00\">16</span>)             │         <span style=\"color: #00af00; text-decoration-color: #00af00\">1,168</span> │\n",
       "├─────────────────────────────────┼────────────────────────┼───────────────┤\n",
       "│ sequential_2 (<span style=\"color: #0087ff; text-decoration-color: #0087ff\">Sequential</span>)       │ (<span style=\"color: #00d7ff; text-decoration-color: #00d7ff\">None</span>, <span style=\"color: #00af00; text-decoration-color: #00af00\">16</span>)             │        <span style=\"color: #00af00; text-decoration-color: #00af00\">11,516</span> │\n",
       "├─────────────────────────────────┼────────────────────────┼───────────────┤\n",
       "│ concept_generators_0            │ (<span style=\"color: #00d7ff; text-decoration-color: #00d7ff\">None</span>, <span style=\"color: #00af00; text-decoration-color: #00af00\">16</span>)             │         <span style=\"color: #00af00; text-decoration-color: #00af00\">3,536</span> │\n",
       "│ (<span style=\"color: #0087ff; text-decoration-color: #0087ff\">Sequential</span>)                    │                        │               │\n",
       "├─────────────────────────────────┼────────────────────────┼───────────────┤\n",
       "│ concept_generators_1            │ (<span style=\"color: #00d7ff; text-decoration-color: #00d7ff\">None</span>, <span style=\"color: #00af00; text-decoration-color: #00af00\">16</span>)             │         <span style=\"color: #00af00; text-decoration-color: #00af00\">3,536</span> │\n",
       "│ (<span style=\"color: #0087ff; text-decoration-color: #0087ff\">Sequential</span>)                    │                        │               │\n",
       "├─────────────────────────────────┼────────────────────────┼───────────────┤\n",
       "│ concept_generators_2            │ (<span style=\"color: #00d7ff; text-decoration-color: #00d7ff\">None</span>, <span style=\"color: #00af00; text-decoration-color: #00af00\">16</span>)             │         <span style=\"color: #00af00; text-decoration-color: #00af00\">3,536</span> │\n",
       "│ (<span style=\"color: #0087ff; text-decoration-color: #0087ff\">Sequential</span>)                    │                        │               │\n",
       "├─────────────────────────────────┼────────────────────────┼───────────────┤\n",
       "│ concept_generators_3            │ (<span style=\"color: #00d7ff; text-decoration-color: #00d7ff\">None</span>, <span style=\"color: #00af00; text-decoration-color: #00af00\">16</span>)             │         <span style=\"color: #00af00; text-decoration-color: #00af00\">3,536</span> │\n",
       "│ (<span style=\"color: #0087ff; text-decoration-color: #0087ff\">Sequential</span>)                    │                        │               │\n",
       "├─────────────────────────────────┼────────────────────────┼───────────────┤\n",
       "│ concept_generators_4            │ (<span style=\"color: #00d7ff; text-decoration-color: #00d7ff\">None</span>, <span style=\"color: #00af00; text-decoration-color: #00af00\">16</span>)             │         <span style=\"color: #00af00; text-decoration-color: #00af00\">3,536</span> │\n",
       "│ (<span style=\"color: #0087ff; text-decoration-color: #0087ff\">Sequential</span>)                    │                        │               │\n",
       "├─────────────────────────────────┼────────────────────────┼───────────────┤\n",
       "│ concept_generators_5            │ (<span style=\"color: #00d7ff; text-decoration-color: #00d7ff\">None</span>, <span style=\"color: #00af00; text-decoration-color: #00af00\">16</span>)             │         <span style=\"color: #00af00; text-decoration-color: #00af00\">3,536</span> │\n",
       "│ (<span style=\"color: #0087ff; text-decoration-color: #0087ff\">Sequential</span>)                    │                        │               │\n",
       "└─────────────────────────────────┴────────────────────────┴───────────────┘\n",
       "</pre>\n"
      ],
      "text/plain": [
       "┏━━━━━━━━━━━━━━━━━━━━━━━━━━━━━━━━━┳━━━━━━━━━━━━━━━━━━━━━━━━┳━━━━━━━━━━━━━━━┓\n",
       "┃\u001b[1m \u001b[0m\u001b[1mLayer (type)                   \u001b[0m\u001b[1m \u001b[0m┃\u001b[1m \u001b[0m\u001b[1mOutput Shape          \u001b[0m\u001b[1m \u001b[0m┃\u001b[1m \u001b[0m\u001b[1m      Param #\u001b[0m\u001b[1m \u001b[0m┃\n",
       "┡━━━━━━━━━━━━━━━━━━━━━━━━━━━━━━━━━╇━━━━━━━━━━━━━━━━━━━━━━━━╇━━━━━━━━━━━━━━━┩\n",
       "│ decoder (\u001b[38;5;33mFunctional\u001b[0m)            │ (\u001b[38;5;45mNone\u001b[0m, \u001b[38;5;34m1\u001b[0m)              │           \u001b[38;5;34m289\u001b[0m │\n",
       "├─────────────────────────────────┼────────────────────────┼───────────────┤\n",
       "│ encoder (\u001b[38;5;33mFunctional\u001b[0m)            │ (\u001b[38;5;45mNone\u001b[0m, \u001b[38;5;34m16\u001b[0m)             │         \u001b[38;5;34m1,168\u001b[0m │\n",
       "├─────────────────────────────────┼────────────────────────┼───────────────┤\n",
       "│ sequential_2 (\u001b[38;5;33mSequential\u001b[0m)       │ (\u001b[38;5;45mNone\u001b[0m, \u001b[38;5;34m16\u001b[0m)             │        \u001b[38;5;34m11,516\u001b[0m │\n",
       "├─────────────────────────────────┼────────────────────────┼───────────────┤\n",
       "│ concept_generators_0            │ (\u001b[38;5;45mNone\u001b[0m, \u001b[38;5;34m16\u001b[0m)             │         \u001b[38;5;34m3,536\u001b[0m │\n",
       "│ (\u001b[38;5;33mSequential\u001b[0m)                    │                        │               │\n",
       "├─────────────────────────────────┼────────────────────────┼───────────────┤\n",
       "│ concept_generators_1            │ (\u001b[38;5;45mNone\u001b[0m, \u001b[38;5;34m16\u001b[0m)             │         \u001b[38;5;34m3,536\u001b[0m │\n",
       "│ (\u001b[38;5;33mSequential\u001b[0m)                    │                        │               │\n",
       "├─────────────────────────────────┼────────────────────────┼───────────────┤\n",
       "│ concept_generators_2            │ (\u001b[38;5;45mNone\u001b[0m, \u001b[38;5;34m16\u001b[0m)             │         \u001b[38;5;34m3,536\u001b[0m │\n",
       "│ (\u001b[38;5;33mSequential\u001b[0m)                    │                        │               │\n",
       "├─────────────────────────────────┼────────────────────────┼───────────────┤\n",
       "│ concept_generators_3            │ (\u001b[38;5;45mNone\u001b[0m, \u001b[38;5;34m16\u001b[0m)             │         \u001b[38;5;34m3,536\u001b[0m │\n",
       "│ (\u001b[38;5;33mSequential\u001b[0m)                    │                        │               │\n",
       "├─────────────────────────────────┼────────────────────────┼───────────────┤\n",
       "│ concept_generators_4            │ (\u001b[38;5;45mNone\u001b[0m, \u001b[38;5;34m16\u001b[0m)             │         \u001b[38;5;34m3,536\u001b[0m │\n",
       "│ (\u001b[38;5;33mSequential\u001b[0m)                    │                        │               │\n",
       "├─────────────────────────────────┼────────────────────────┼───────────────┤\n",
       "│ concept_generators_5            │ (\u001b[38;5;45mNone\u001b[0m, \u001b[38;5;34m16\u001b[0m)             │         \u001b[38;5;34m3,536\u001b[0m │\n",
       "│ (\u001b[38;5;33mSequential\u001b[0m)                    │                        │               │\n",
       "└─────────────────────────────────┴────────────────────────┴───────────────┘\n"
      ]
     },
     "metadata": {},
     "output_type": "display_data"
    },
    {
     "data": {
      "text/html": [
       "<pre style=\"white-space:pre;overflow-x:auto;line-height:normal;font-family:Menlo,'DejaVu Sans Mono',consolas,'Courier New',monospace\"><span style=\"font-weight: bold\"> Total params: </span><span style=\"color: #00af00; text-decoration-color: #00af00\">34,645</span> (135.33 KB)\n",
       "</pre>\n"
      ],
      "text/plain": [
       "\u001b[1m Total params: \u001b[0m\u001b[38;5;34m34,645\u001b[0m (135.33 KB)\n"
      ]
     },
     "metadata": {},
     "output_type": "display_data"
    },
    {
     "data": {
      "text/html": [
       "<pre style=\"white-space:pre;overflow-x:auto;line-height:normal;font-family:Menlo,'DejaVu Sans Mono',consolas,'Courier New',monospace\"><span style=\"font-weight: bold\"> Trainable params: </span><span style=\"color: #00af00; text-decoration-color: #00af00\">34,417</span> (134.44 KB)\n",
       "</pre>\n"
      ],
      "text/plain": [
       "\u001b[1m Trainable params: \u001b[0m\u001b[38;5;34m34,417\u001b[0m (134.44 KB)\n"
      ]
     },
     "metadata": {},
     "output_type": "display_data"
    },
    {
     "data": {
      "text/html": [
       "<pre style=\"white-space:pre;overflow-x:auto;line-height:normal;font-family:Menlo,'DejaVu Sans Mono',consolas,'Courier New',monospace\"><span style=\"font-weight: bold\"> Non-trainable params: </span><span style=\"color: #00af00; text-decoration-color: #00af00\">228</span> (912.00 B)\n",
       "</pre>\n"
      ],
      "text/plain": [
       "\u001b[1m Non-trainable params: \u001b[0m\u001b[38;5;34m228\u001b[0m (912.00 B)\n"
      ]
     },
     "metadata": {},
     "output_type": "display_data"
    }
   ],
   "source": [
    "# First we will instantiate a new TabCBM that is NOT in self-supervised mode,\n",
    "# and we will load its weights so that they are the same as the model whose\n",
    "# mask generators have been pre-trained using the SS loss.\n",
    "tabcbm_supervised = TabCBM(\n",
    "    self_supervised_mode=False,\n",
    "    # Notice how we provide as concept generators the concept generators of the\n",
    "    # SS TabCBM:\n",
    "    concept_generators=ss_tabcbm.concept_generators,\n",
    "    # as well as the feature probability masks:\n",
    "    prior_masks=ss_tabcbm.feature_probabilities,\n",
    "    **tab_cbm_params,\n",
    ")\n",
    "tabcbm_supervised.compile(optimizer=tf.keras.optimizers.Adam(learning_rate))\n",
    "tabcbm_supervised.summary()"
   ]
  },
  {
   "cell_type": "code",
   "execution_count": 17,
   "metadata": {},
   "outputs": [
    {
     "name": "stdout",
     "output_type": "stream",
     "text": [
      "TabCBM self-supervised training stage...\n",
      "Epoch 1/100\n",
      "\u001b[1m243/243\u001b[0m \u001b[32m━━━━━━━━━━━━━━━━━━━━\u001b[0m\u001b[37m\u001b[0m \u001b[1m7s\u001b[0m 13ms/step - accuracy: 0.4253 - avg_concept_size: 18.5285 - avg_features_rec_loss: 0.0000e+00 - avg_mask_rec_loss: 0.0000e+00 - loss: 3.4303 - max_probability: 0.7183 - mean_probability: 0.4932 - min_probability: 0.2583 - prob_sparsity_loss: 2.4660 - reg_loss_closest: 0.0086 - reg_loss_similarity: 0.3887 - task_loss: 0.5841 - val_accuracy: 0.4157 - val_loss: 3.0908 - val_prob_sparsity_loss: 2.2570 - val_reg_loss_closest: 0.0120 - val_reg_loss_similarity: 0.2641 - val_task_loss: 0.5817\n",
      "Epoch 2/100\n",
      "\u001b[1m243/243\u001b[0m \u001b[32m━━━━━━━━━━━━━━━━━━━━\u001b[0m\u001b[37m\u001b[0m \u001b[1m3s\u001b[0m 11ms/step - accuracy: 0.4285 - avg_concept_size: 14.4770 - avg_features_rec_loss: 0.0000e+00 - avg_mask_rec_loss: 0.0000e+00 - loss: 2.9764 - max_probability: 0.6645 - mean_probability: 0.4376 - min_probability: 0.2157 - prob_sparsity_loss: 2.1881 - reg_loss_closest: 0.0127 - reg_loss_similarity: 0.2585 - task_loss: 0.5425 - val_accuracy: 0.4157 - val_loss: 2.8077 - val_prob_sparsity_loss: 1.9847 - val_reg_loss_closest: 0.0130 - val_reg_loss_similarity: 0.2466 - val_task_loss: 0.5895\n",
      "Epoch 3/100\n",
      "\u001b[1m243/243\u001b[0m \u001b[32m━━━━━━━━━━━━━━━━━━━━\u001b[0m\u001b[37m\u001b[0m \u001b[1m3s\u001b[0m 11ms/step - accuracy: 0.4271 - avg_concept_size: 9.2608 - avg_features_rec_loss: 0.0000e+00 - avg_mask_rec_loss: 0.0000e+00 - loss: 2.6911 - max_probability: 0.6040 - mean_probability: 0.3838 - min_probability: 0.1806 - prob_sparsity_loss: 1.9192 - reg_loss_closest: 0.0133 - reg_loss_similarity: 0.2445 - task_loss: 0.5408 - val_accuracy: 0.4157 - val_loss: 2.5379 - val_prob_sparsity_loss: 1.7281 - val_reg_loss_closest: 0.0132 - val_reg_loss_similarity: 0.2396 - val_task_loss: 0.5835\n",
      "Epoch 4/100\n",
      "\u001b[1m243/243\u001b[0m \u001b[32m━━━━━━━━━━━━━━━━━━━━\u001b[0m\u001b[37m\u001b[0m \u001b[1m3s\u001b[0m 11ms/step - accuracy: 0.4261 - avg_concept_size: 3.4179 - avg_features_rec_loss: 0.0000e+00 - avg_mask_rec_loss: 0.0000e+00 - loss: 2.4322 - max_probability: 0.5398 - mean_probability: 0.3336 - min_probability: 0.1518 - prob_sparsity_loss: 1.6678 - reg_loss_closest: 0.0136 - reg_loss_similarity: 0.2387 - task_loss: 0.5394 - val_accuracy: 0.4157 - val_loss: 2.2997 - val_prob_sparsity_loss: 1.4937 - val_reg_loss_closest: 0.0135 - val_reg_loss_similarity: 0.2364 - val_task_loss: 0.5832\n",
      "Epoch 5/100\n",
      "\u001b[1m243/243\u001b[0m \u001b[32m━━━━━━━━━━━━━━━━━━━━\u001b[0m\u001b[37m\u001b[0m \u001b[1m3s\u001b[0m 11ms/step - accuracy: 0.4275 - avg_concept_size: 0.0000e+00 - avg_features_rec_loss: 0.0000e+00 - avg_mask_rec_loss: 0.0000e+00 - loss: 2.2020 - max_probability: 0.4752 - mean_probability: 0.2880 - min_probability: 0.1283 - prob_sparsity_loss: 1.4398 - reg_loss_closest: 0.0138 - reg_loss_similarity: 0.2359 - task_loss: 0.5402 - val_accuracy: 0.4157 - val_loss: 2.0910 - val_prob_sparsity_loss: 1.2854 - val_reg_loss_closest: 0.0137 - val_reg_loss_similarity: 0.2348 - val_task_loss: 0.5845\n",
      "Epoch 6/100\n",
      "\u001b[1m243/243\u001b[0m \u001b[32m━━━━━━━━━━━━━━━━━━━━\u001b[0m\u001b[37m\u001b[0m \u001b[1m3s\u001b[0m 11ms/step - accuracy: 0.4285 - avg_concept_size: 0.0000e+00 - avg_features_rec_loss: 0.0000e+00 - avg_mask_rec_loss: 0.0000e+00 - loss: 1.9980 - max_probability: 0.4132 - mean_probability: 0.2476 - min_probability: 0.1091 - prob_sparsity_loss: 1.2381 - reg_loss_closest: 0.0140 - reg_loss_similarity: 0.2345 - task_loss: 0.5394 - val_accuracy: 0.4157 - val_loss: 1.9064 - val_prob_sparsity_loss: 1.1039 - val_reg_loss_closest: 0.0139 - val_reg_loss_similarity: 0.2340 - val_task_loss: 0.5825\n",
      "Epoch 7/100\n",
      "\u001b[1m243/243\u001b[0m \u001b[32m━━━━━━━━━━━━━━━━━━━━\u001b[0m\u001b[37m\u001b[0m \u001b[1m3s\u001b[0m 12ms/step - accuracy: 0.4277 - avg_concept_size: 0.0000e+00 - avg_features_rec_loss: 0.0000e+00 - avg_mask_rec_loss: 0.0000e+00 - loss: 1.8225 - max_probability: 0.3565 - mean_probability: 0.2126 - min_probability: 0.0934 - prob_sparsity_loss: 1.0632 - reg_loss_closest: 0.0142 - reg_loss_similarity: 0.2337 - task_loss: 0.5398 - val_accuracy: 0.4157 - val_loss: 1.7531 - val_prob_sparsity_loss: 0.9482 - val_reg_loss_closest: 0.0141 - val_reg_loss_similarity: 0.2334 - val_task_loss: 0.5856\n",
      "Epoch 8/100\n",
      "\u001b[1m243/243\u001b[0m \u001b[32m━━━━━━━━━━━━━━━━━━━━\u001b[0m\u001b[37m\u001b[0m \u001b[1m3s\u001b[0m 11ms/step - accuracy: 0.4259 - avg_concept_size: 0.0000e+00 - avg_features_rec_loss: 0.0000e+00 - avg_mask_rec_loss: 0.0000e+00 - loss: 1.6718 - max_probability: 0.3062 - mean_probability: 0.1827 - min_probability: 0.0803 - prob_sparsity_loss: 0.9136 - reg_loss_closest: 0.0143 - reg_loss_similarity: 0.2333 - task_loss: 0.5392 - val_accuracy: 0.4157 - val_loss: 1.6322 - val_prob_sparsity_loss: 0.8159 - val_reg_loss_closest: 0.0140 - val_reg_loss_similarity: 0.2334 - val_task_loss: 0.5968\n",
      "Epoch 9/100\n",
      "\u001b[1m243/243\u001b[0m \u001b[32m━━━━━━━━━━━━━━━━━━━━\u001b[0m\u001b[37m\u001b[0m \u001b[1m3s\u001b[0m 11ms/step - accuracy: 0.4266 - avg_concept_size: 0.0000e+00 - avg_features_rec_loss: 0.0000e+00 - avg_mask_rec_loss: 0.0000e+00 - loss: 1.5457 - max_probability: 0.2626 - mean_probability: 0.1573 - min_probability: 0.0695 - prob_sparsity_loss: 0.7866 - reg_loss_closest: 0.0145 - reg_loss_similarity: 0.2331 - task_loss: 0.5404 - val_accuracy: 0.4157 - val_loss: 1.5063 - val_prob_sparsity_loss: 0.7040 - val_reg_loss_closest: 0.0142 - val_reg_loss_similarity: 0.2327 - val_task_loss: 0.5837\n",
      "Epoch 10/100\n",
      "\u001b[1m243/243\u001b[0m \u001b[32m━━━━━━━━━━━━━━━━━━━━\u001b[0m\u001b[37m\u001b[0m \u001b[1m3s\u001b[0m 12ms/step - accuracy: 0.4265 - avg_concept_size: 0.0000e+00 - avg_features_rec_loss: 0.0000e+00 - avg_mask_rec_loss: 0.0000e+00 - loss: 1.4367 - max_probability: 0.2253 - mean_probability: 0.1359 - min_probability: 0.0603 - prob_sparsity_loss: 0.6793 - reg_loss_closest: 0.0146 - reg_loss_similarity: 0.2327 - task_loss: 0.5394 - val_accuracy: 0.4157 - val_loss: 1.4168 - val_prob_sparsity_loss: 0.6095 - val_reg_loss_closest: 0.0142 - val_reg_loss_similarity: 0.2328 - val_task_loss: 0.5887\n",
      "Epoch 11/100\n",
      "\u001b[1m243/243\u001b[0m \u001b[32m━━━━━━━━━━━━━━━━━━━━\u001b[0m\u001b[37m\u001b[0m \u001b[1m3s\u001b[0m 13ms/step - accuracy: 0.4268 - avg_concept_size: 0.0000e+00 - avg_features_rec_loss: 0.0000e+00 - avg_mask_rec_loss: 0.0000e+00 - loss: 1.3453 - max_probability: 0.1938 - mean_probability: 0.1177 - min_probability: 0.0526 - prob_sparsity_loss: 0.5886 - reg_loss_closest: 0.0147 - reg_loss_similarity: 0.2327 - task_loss: 0.5387 - val_accuracy: 0.4157 - val_loss: 1.3278 - val_prob_sparsity_loss: 0.5295 - val_reg_loss_closest: 0.0146 - val_reg_loss_similarity: 0.2326 - val_task_loss: 0.5801\n",
      "Epoch 12/100\n",
      "\u001b[1m243/243\u001b[0m \u001b[32m━━━━━━━━━━━━━━━━━━━━\u001b[0m\u001b[37m\u001b[0m \u001b[1m3s\u001b[0m 13ms/step - accuracy: 0.4307 - avg_concept_size: 0.0000e+00 - avg_features_rec_loss: 0.0000e+00 - avg_mask_rec_loss: 0.0000e+00 - loss: 1.2687 - max_probability: 0.1671 - mean_probability: 0.1024 - min_probability: 0.0460 - prob_sparsity_loss: 0.5118 - reg_loss_closest: 0.0149 - reg_loss_similarity: 0.2325 - task_loss: 0.5392 - val_accuracy: 0.4157 - val_loss: 1.2637 - val_prob_sparsity_loss: 0.4617 - val_reg_loss_closest: 0.0146 - val_reg_loss_similarity: 0.2324 - val_task_loss: 0.5841\n",
      "Epoch 13/100\n",
      "\u001b[1m243/243\u001b[0m \u001b[32m━━━━━━━━━━━━━━━━━━━━\u001b[0m\u001b[37m\u001b[0m \u001b[1m3s\u001b[0m 13ms/step - accuracy: 0.4297 - avg_concept_size: 0.0000e+00 - avg_features_rec_loss: 0.0000e+00 - avg_mask_rec_loss: 0.0000e+00 - loss: 1.2029 - max_probability: 0.1447 - mean_probability: 0.0893 - min_probability: 0.0403 - prob_sparsity_loss: 0.4467 - reg_loss_closest: 0.0149 - reg_loss_similarity: 0.2325 - task_loss: 0.5386 - val_accuracy: 0.4157 - val_loss: 1.2078 - val_prob_sparsity_loss: 0.4040 - val_reg_loss_closest: 0.0148 - val_reg_loss_similarity: 0.2324 - val_task_loss: 0.5862\n",
      "Epoch 14/100\n",
      "\u001b[1m243/243\u001b[0m \u001b[32m━━━━━━━━━━━━━━━━━━━━\u001b[0m\u001b[37m\u001b[0m \u001b[1m3s\u001b[0m 13ms/step - accuracy: 0.4265 - avg_concept_size: 0.0000e+00 - avg_features_rec_loss: 0.0000e+00 - avg_mask_rec_loss: 0.0000e+00 - loss: 1.1485 - max_probability: 0.1257 - mean_probability: 0.0782 - min_probability: 0.0355 - prob_sparsity_loss: 0.3911 - reg_loss_closest: 0.0150 - reg_loss_similarity: 0.2324 - task_loss: 0.5400 - val_accuracy: 0.4157 - val_loss: 1.1562 - val_prob_sparsity_loss: 0.3546 - val_reg_loss_closest: 0.0148 - val_reg_loss_similarity: 0.2325 - val_task_loss: 0.5839\n",
      "Epoch 15/100\n",
      "\u001b[1m243/243\u001b[0m \u001b[32m━━━━━━━━━━━━━━━━━━━━\u001b[0m\u001b[37m\u001b[0m \u001b[1m3s\u001b[0m 13ms/step - accuracy: 0.4272 - avg_concept_size: 0.0000e+00 - avg_features_rec_loss: 0.0000e+00 - avg_mask_rec_loss: 0.0000e+00 - loss: 1.0997 - max_probability: 0.1096 - mean_probability: 0.0687 - min_probability: 0.0313 - prob_sparsity_loss: 0.3436 - reg_loss_closest: 0.0151 - reg_loss_similarity: 0.2324 - task_loss: 0.5387 - val_accuracy: 0.4157 - val_loss: 1.1172 - val_prob_sparsity_loss: 0.3122 - val_reg_loss_closest: 0.0148 - val_reg_loss_similarity: 0.2325 - val_task_loss: 0.5872\n",
      "Epoch 16/100\n",
      "\u001b[1m243/243\u001b[0m \u001b[32m━━━━━━━━━━━━━━━━━━━━\u001b[0m\u001b[37m\u001b[0m \u001b[1m3s\u001b[0m 12ms/step - accuracy: 0.4285 - avg_concept_size: 0.0000e+00 - avg_features_rec_loss: 0.0000e+00 - avg_mask_rec_loss: 0.0000e+00 - loss: 1.0582 - max_probability: 0.0959 - mean_probability: 0.0605 - min_probability: 0.0276 - prob_sparsity_loss: 0.3027 - reg_loss_closest: 0.0152 - reg_loss_similarity: 0.2323 - task_loss: 0.5383 - val_accuracy: 0.4157 - val_loss: 1.0767 - val_prob_sparsity_loss: 0.2757 - val_reg_loss_closest: 0.0149 - val_reg_loss_similarity: 0.2321 - val_task_loss: 0.5838\n",
      "Epoch 17/100\n",
      "\u001b[1m243/243\u001b[0m \u001b[32m━━━━━━━━━━━━━━━━━━━━\u001b[0m\u001b[37m\u001b[0m \u001b[1m3s\u001b[0m 12ms/step - accuracy: 0.4254 - avg_concept_size: 0.0000e+00 - avg_features_rec_loss: 0.0000e+00 - avg_mask_rec_loss: 0.0000e+00 - loss: 1.0244 - max_probability: 0.0842 - mean_probability: 0.0535 - min_probability: 0.0245 - prob_sparsity_loss: 0.2674 - reg_loss_closest: 0.0152 - reg_loss_similarity: 0.2323 - task_loss: 0.5399 - val_accuracy: 0.4157 - val_loss: 1.0409 - val_prob_sparsity_loss: 0.2440 - val_reg_loss_closest: 0.0149 - val_reg_loss_similarity: 0.2323 - val_task_loss: 0.5794\n",
      "Epoch 18/100\n",
      "\u001b[1m243/243\u001b[0m \u001b[32m━━━━━━━━━━━━━━━━━━━━\u001b[0m\u001b[37m\u001b[0m \u001b[1m3s\u001b[0m 12ms/step - accuracy: 0.4271 - avg_concept_size: 0.0000e+00 - avg_features_rec_loss: 0.0000e+00 - avg_mask_rec_loss: 0.0000e+00 - loss: 0.9915 - max_probability: 0.0742 - mean_probability: 0.0474 - min_probability: 0.0217 - prob_sparsity_loss: 0.2369 - reg_loss_closest: 0.0153 - reg_loss_similarity: 0.2324 - task_loss: 0.5375 - val_accuracy: 0.4157 - val_loss: 1.0157 - val_prob_sparsity_loss: 0.2165 - val_reg_loss_closest: 0.0150 - val_reg_loss_similarity: 0.2323 - val_task_loss: 0.5819\n",
      "Epoch 19/100\n",
      "\u001b[1m243/243\u001b[0m \u001b[32m━━━━━━━━━━━━━━━━━━━━\u001b[0m\u001b[37m\u001b[0m \u001b[1m3s\u001b[0m 12ms/step - accuracy: 0.4254 - avg_concept_size: 0.0000e+00 - avg_features_rec_loss: 0.0000e+00 - avg_mask_rec_loss: 0.0000e+00 - loss: 0.9659 - max_probability: 0.0656 - mean_probability: 0.0421 - min_probability: 0.0192 - prob_sparsity_loss: 0.2103 - reg_loss_closest: 0.0153 - reg_loss_similarity: 0.2323 - task_loss: 0.5386 - val_accuracy: 0.4157 - val_loss: 0.9945 - val_prob_sparsity_loss: 0.1925 - val_reg_loss_closest: 0.0152 - val_reg_loss_similarity: 0.2324 - val_task_loss: 0.5848\n",
      "Epoch 20/100\n",
      "\u001b[1m243/243\u001b[0m \u001b[32m━━━━━━━━━━━━━━━━━━━━\u001b[0m\u001b[37m\u001b[0m \u001b[1m3s\u001b[0m 13ms/step - accuracy: 0.4264 - avg_concept_size: 0.0000e+00 - avg_features_rec_loss: 0.0000e+00 - avg_mask_rec_loss: 0.0000e+00 - loss: 0.9431 - max_probability: 0.0583 - mean_probability: 0.0374 - min_probability: 0.0170 - prob_sparsity_loss: 0.1870 - reg_loss_closest: 0.0154 - reg_loss_similarity: 0.2324 - task_loss: 0.5391 - val_accuracy: 0.4157 - val_loss: 0.9688 - val_prob_sparsity_loss: 0.1715 - val_reg_loss_closest: 0.0151 - val_reg_loss_similarity: 0.2323 - val_task_loss: 0.5801\n",
      "Epoch 21/100\n",
      "\u001b[1m243/243\u001b[0m \u001b[32m━━━━━━━━━━━━━━━━━━━━\u001b[0m\u001b[37m\u001b[0m \u001b[1m3s\u001b[0m 13ms/step - accuracy: 0.4272 - avg_concept_size: 0.0000e+00 - avg_features_rec_loss: 0.0000e+00 - avg_mask_rec_loss: 0.0000e+00 - loss: 0.9204 - max_probability: 0.0523 - mean_probability: 0.0333 - min_probability: 0.0150 - prob_sparsity_loss: 0.1667 - reg_loss_closest: 0.0154 - reg_loss_similarity: 0.2323 - task_loss: 0.5368 - val_accuracy: 0.4157 - val_loss: 0.9518 - val_prob_sparsity_loss: 0.1530 - val_reg_loss_closest: 0.0154 - val_reg_loss_similarity: 0.2321 - val_task_loss: 0.5820\n",
      "Epoch 22/100\n",
      "\u001b[1m243/243\u001b[0m \u001b[32m━━━━━━━━━━━━━━━━━━━━\u001b[0m\u001b[37m\u001b[0m \u001b[1m3s\u001b[0m 12ms/step - accuracy: 0.4290 - avg_concept_size: 0.0000e+00 - avg_features_rec_loss: 0.0000e+00 - avg_mask_rec_loss: 0.0000e+00 - loss: 0.9050 - max_probability: 0.0469 - mean_probability: 0.0298 - min_probability: 0.0133 - prob_sparsity_loss: 0.1488 - reg_loss_closest: 0.0155 - reg_loss_similarity: 0.2323 - task_loss: 0.5393 - val_accuracy: 0.4157 - val_loss: 0.9343 - val_prob_sparsity_loss: 0.1368 - val_reg_loss_closest: 0.0152 - val_reg_loss_similarity: 0.2320 - val_task_loss: 0.5807\n",
      "Epoch 23/100\n",
      "\u001b[1m243/243\u001b[0m \u001b[32m━━━━━━━━━━━━━━━━━━━━\u001b[0m\u001b[37m\u001b[0m \u001b[1m3s\u001b[0m 12ms/step - accuracy: 0.4261 - avg_concept_size: 0.0000e+00 - avg_features_rec_loss: 0.0000e+00 - avg_mask_rec_loss: 0.0000e+00 - loss: 0.8888 - max_probability: 0.0424 - mean_probability: 0.0266 - min_probability: 0.0119 - prob_sparsity_loss: 0.1331 - reg_loss_closest: 0.0154 - reg_loss_similarity: 0.2322 - task_loss: 0.5389 - val_accuracy: 0.4157 - val_loss: 0.9197 - val_prob_sparsity_loss: 0.1225 - val_reg_loss_closest: 0.0154 - val_reg_loss_similarity: 0.2323 - val_task_loss: 0.5804\n",
      "Epoch 24/100\n",
      "\u001b[1m243/243\u001b[0m \u001b[32m━━━━━━━━━━━━━━━━━━━━\u001b[0m\u001b[37m\u001b[0m \u001b[1m3s\u001b[0m 13ms/step - accuracy: 0.4264 - avg_concept_size: 0.0000e+00 - avg_features_rec_loss: 0.0000e+00 - avg_mask_rec_loss: 0.0000e+00 - loss: 0.8754 - max_probability: 0.0385 - mean_probability: 0.0238 - min_probability: 0.0106 - prob_sparsity_loss: 0.1192 - reg_loss_closest: 0.0155 - reg_loss_similarity: 0.2323 - task_loss: 0.5393 - val_accuracy: 0.4157 - val_loss: 0.9118 - val_prob_sparsity_loss: 0.1098 - val_reg_loss_closest: 0.0154 - val_reg_loss_similarity: 0.2322 - val_task_loss: 0.5852\n",
      "Epoch 25/100\n",
      "\u001b[1m243/243\u001b[0m \u001b[32m━━━━━━━━━━━━━━━━━━━━\u001b[0m\u001b[37m\u001b[0m \u001b[1m3s\u001b[0m 12ms/step - accuracy: 0.4283 - avg_concept_size: 0.0000e+00 - avg_features_rec_loss: 0.0000e+00 - avg_mask_rec_loss: 0.0000e+00 - loss: 0.8618 - max_probability: 0.0350 - mean_probability: 0.0214 - min_probability: 0.0095 - prob_sparsity_loss: 0.1069 - reg_loss_closest: 0.0155 - reg_loss_similarity: 0.2323 - task_loss: 0.5381 - val_accuracy: 0.4157 - val_loss: 0.8955 - val_prob_sparsity_loss: 0.0986 - val_reg_loss_closest: 0.0154 - val_reg_loss_similarity: 0.2324 - val_task_loss: 0.5799\n",
      "Epoch 26/100\n",
      "\u001b[1m243/243\u001b[0m \u001b[32m━━━━━━━━━━━━━━━━━━━━\u001b[0m\u001b[37m\u001b[0m \u001b[1m3s\u001b[0m 13ms/step - accuracy: 0.4264 - avg_concept_size: 0.0000e+00 - avg_features_rec_loss: 0.0000e+00 - avg_mask_rec_loss: 0.0000e+00 - loss: 0.8491 - max_probability: 0.0317 - mean_probability: 0.0192 - min_probability: 0.0084 - prob_sparsity_loss: 0.0960 - reg_loss_closest: 0.0155 - reg_loss_similarity: 0.2323 - task_loss: 0.5363 - val_accuracy: 0.4157 - val_loss: 0.8812 - val_prob_sparsity_loss: 0.0886 - val_reg_loss_closest: 0.0155 - val_reg_loss_similarity: 0.2323 - val_task_loss: 0.5757\n",
      "Epoch 27/100\n",
      "\u001b[1m243/243\u001b[0m \u001b[32m━━━━━━━━━━━━━━━━━━━━\u001b[0m\u001b[37m\u001b[0m \u001b[1m3s\u001b[0m 13ms/step - accuracy: 0.4290 - avg_concept_size: 0.0000e+00 - avg_features_rec_loss: 0.0000e+00 - avg_mask_rec_loss: 0.0000e+00 - loss: 0.8420 - max_probability: 0.0286 - mean_probability: 0.0173 - min_probability: 0.0075 - prob_sparsity_loss: 0.0863 - reg_loss_closest: 0.0155 - reg_loss_similarity: 0.2324 - task_loss: 0.5388 - val_accuracy: 0.4157 - val_loss: 0.8774 - val_prob_sparsity_loss: 0.0797 - val_reg_loss_closest: 0.0152 - val_reg_loss_similarity: 0.2322 - val_task_loss: 0.5807\n",
      "Epoch 28/100\n",
      "\u001b[1m243/243\u001b[0m \u001b[32m━━━━━━━━━━━━━━━━━━━━\u001b[0m\u001b[37m\u001b[0m \u001b[1m3s\u001b[0m 13ms/step - accuracy: 0.4296 - avg_concept_size: 0.0000e+00 - avg_features_rec_loss: 0.0000e+00 - avg_mask_rec_loss: 0.0000e+00 - loss: 0.8338 - max_probability: 0.0261 - mean_probability: 0.0155 - min_probability: 0.0067 - prob_sparsity_loss: 0.0777 - reg_loss_closest: 0.0156 - reg_loss_similarity: 0.2323 - task_loss: 0.5394 - val_accuracy: 0.4157 - val_loss: 0.8719 - val_prob_sparsity_loss: 0.0718 - val_reg_loss_closest: 0.0154 - val_reg_loss_similarity: 0.2327 - val_task_loss: 0.5828\n",
      "Epoch 29/100\n",
      "\u001b[1m243/243\u001b[0m \u001b[32m━━━━━━━━━━━━━━━━━━━━\u001b[0m\u001b[37m\u001b[0m \u001b[1m3s\u001b[0m 13ms/step - accuracy: 0.4286 - avg_concept_size: 0.0000e+00 - avg_features_rec_loss: 0.0000e+00 - avg_mask_rec_loss: 0.0000e+00 - loss: 0.8270 - max_probability: 0.0240 - mean_probability: 0.0140 - min_probability: 0.0059 - prob_sparsity_loss: 0.0700 - reg_loss_closest: 0.0156 - reg_loss_similarity: 0.2324 - task_loss: 0.5402 - val_accuracy: 0.4157 - val_loss: 0.8630 - val_prob_sparsity_loss: 0.0647 - val_reg_loss_closest: 0.0150 - val_reg_loss_similarity: 0.2323 - val_task_loss: 0.5810\n",
      "Epoch 30/100\n",
      "\u001b[1m243/243\u001b[0m \u001b[32m━━━━━━━━━━━━━━━━━━━━\u001b[0m\u001b[37m\u001b[0m \u001b[1m3s\u001b[0m 13ms/step - accuracy: 0.4258 - avg_concept_size: 0.0000e+00 - avg_features_rec_loss: 0.0000e+00 - avg_mask_rec_loss: 0.0000e+00 - loss: 0.8187 - max_probability: 0.0219 - mean_probability: 0.0126 - min_probability: 0.0053 - prob_sparsity_loss: 0.0631 - reg_loss_closest: 0.0156 - reg_loss_similarity: 0.2323 - task_loss: 0.5389 - val_accuracy: 0.4157 - val_loss: 0.8562 - val_prob_sparsity_loss: 0.0584 - val_reg_loss_closest: 0.0155 - val_reg_loss_similarity: 0.2324 - val_task_loss: 0.5808\n",
      "Epoch 31/100\n",
      "\u001b[1m243/243\u001b[0m \u001b[32m━━━━━━━━━━━━━━━━━━━━\u001b[0m\u001b[37m\u001b[0m \u001b[1m3s\u001b[0m 12ms/step - accuracy: 0.4286 - avg_concept_size: 0.0000e+00 - avg_features_rec_loss: 0.0000e+00 - avg_mask_rec_loss: 0.0000e+00 - loss: 0.8144 - max_probability: 0.0202 - mean_probability: 0.0114 - min_probability: 0.0047 - prob_sparsity_loss: 0.0570 - reg_loss_closest: 0.0155 - reg_loss_similarity: 0.2323 - task_loss: 0.5406 - val_accuracy: 0.4157 - val_loss: 0.8437 - val_prob_sparsity_loss: 0.0528 - val_reg_loss_closest: 0.0155 - val_reg_loss_similarity: 0.2322 - val_task_loss: 0.5742\n",
      "Epoch 32/100\n",
      "\u001b[1m243/243\u001b[0m \u001b[32m━━━━━━━━━━━━━━━━━━━━\u001b[0m\u001b[37m\u001b[0m \u001b[1m3s\u001b[0m 12ms/step - accuracy: 0.4264 - avg_concept_size: 0.0000e+00 - avg_features_rec_loss: 0.0000e+00 - avg_mask_rec_loss: 0.0000e+00 - loss: 0.8073 - max_probability: 0.0186 - mean_probability: 0.0103 - min_probability: 0.0042 - prob_sparsity_loss: 0.0515 - reg_loss_closest: 0.0156 - reg_loss_similarity: 0.2324 - task_loss: 0.5390 - val_accuracy: 0.4157 - val_loss: 0.8471 - val_prob_sparsity_loss: 0.0478 - val_reg_loss_closest: 0.0154 - val_reg_loss_similarity: 0.2323 - val_task_loss: 0.5824\n",
      "Epoch 33/100\n",
      "\u001b[1m243/243\u001b[0m \u001b[32m━━━━━━━━━━━━━━━━━━━━\u001b[0m\u001b[37m\u001b[0m \u001b[1m3s\u001b[0m 13ms/step - accuracy: 0.4240 - avg_concept_size: 0.0000e+00 - avg_features_rec_loss: 0.0000e+00 - avg_mask_rec_loss: 0.0000e+00 - loss: 0.8022 - max_probability: 0.0173 - mean_probability: 0.0093 - min_probability: 0.0037 - prob_sparsity_loss: 0.0466 - reg_loss_closest: 0.0157 - reg_loss_similarity: 0.2324 - task_loss: 0.5388 - val_accuracy: 0.4157 - val_loss: 0.8401 - val_prob_sparsity_loss: 0.0432 - val_reg_loss_closest: 0.0155 - val_reg_loss_similarity: 0.2325 - val_task_loss: 0.5799\n",
      "Epoch 34/100\n",
      "\u001b[1m243/243\u001b[0m \u001b[32m━━━━━━━━━━━━━━━━━━━━\u001b[0m\u001b[37m\u001b[0m \u001b[1m3s\u001b[0m 13ms/step - accuracy: 0.4282 - avg_concept_size: 0.0000e+00 - avg_features_rec_loss: 0.0000e+00 - avg_mask_rec_loss: 0.0000e+00 - loss: 0.7959 - max_probability: 0.0158 - mean_probability: 0.0084 - min_probability: 0.0033 - prob_sparsity_loss: 0.0422 - reg_loss_closest: 0.0157 - reg_loss_similarity: 0.2324 - task_loss: 0.5369 - val_accuracy: 0.4157 - val_loss: 0.8334 - val_prob_sparsity_loss: 0.0392 - val_reg_loss_closest: 0.0155 - val_reg_loss_similarity: 0.2325 - val_task_loss: 0.5772\n",
      "Epoch 35/100\n",
      "\u001b[1m243/243\u001b[0m \u001b[32m━━━━━━━━━━━━━━━━━━━━\u001b[0m\u001b[37m\u001b[0m \u001b[1m3s\u001b[0m 13ms/step - accuracy: 0.4272 - avg_concept_size: 0.0000e+00 - avg_features_rec_loss: 0.0000e+00 - avg_mask_rec_loss: 0.0000e+00 - loss: 0.7942 - max_probability: 0.0150 - mean_probability: 0.0076 - min_probability: 0.0029 - prob_sparsity_loss: 0.0382 - reg_loss_closest: 0.0156 - reg_loss_similarity: 0.2324 - task_loss: 0.5391 - val_accuracy: 0.4157 - val_loss: 0.8330 - val_prob_sparsity_loss: 0.0355 - val_reg_loss_closest: 0.0156 - val_reg_loss_similarity: 0.2323 - val_task_loss: 0.5808\n",
      "Epoch 36/100\n",
      "\u001b[1m243/243\u001b[0m \u001b[32m━━━━━━━━━━━━━━━━━━━━\u001b[0m\u001b[37m\u001b[0m \u001b[1m3s\u001b[0m 12ms/step - accuracy: 0.4245 - avg_concept_size: 0.0000e+00 - avg_features_rec_loss: 0.0000e+00 - avg_mask_rec_loss: 0.0000e+00 - loss: 0.7899 - max_probability: 0.0138 - mean_probability: 0.0069 - min_probability: 0.0025 - prob_sparsity_loss: 0.0347 - reg_loss_closest: 0.0156 - reg_loss_similarity: 0.2324 - task_loss: 0.5384 - val_accuracy: 0.4157 - val_loss: 0.8270 - val_prob_sparsity_loss: 0.0323 - val_reg_loss_closest: 0.0154 - val_reg_loss_similarity: 0.2322 - val_task_loss: 0.5779\n",
      "Epoch 37/100\n",
      "\u001b[1m243/243\u001b[0m \u001b[32m━━━━━━━━━━━━━━━━━━━━\u001b[0m\u001b[37m\u001b[0m \u001b[1m3s\u001b[0m 13ms/step - accuracy: 0.4273 - avg_concept_size: 0.0000e+00 - avg_features_rec_loss: 0.0000e+00 - avg_mask_rec_loss: 0.0000e+00 - loss: 0.7886 - max_probability: 0.0130 - mean_probability: 0.0063 - min_probability: 0.0023 - prob_sparsity_loss: 0.0316 - reg_loss_closest: 0.0156 - reg_loss_similarity: 0.2324 - task_loss: 0.5402 - val_accuracy: 0.4157 - val_loss: 0.8323 - val_prob_sparsity_loss: 0.0295 - val_reg_loss_closest: 0.0145 - val_reg_loss_similarity: 0.2325 - val_task_loss: 0.5849\n",
      "Epoch 38/100\n",
      "\u001b[1m243/243\u001b[0m \u001b[32m━━━━━━━━━━━━━━━━━━━━\u001b[0m\u001b[37m\u001b[0m \u001b[1m3s\u001b[0m 13ms/step - accuracy: 0.4293 - avg_concept_size: 0.0000e+00 - avg_features_rec_loss: 0.0000e+00 - avg_mask_rec_loss: 0.0000e+00 - loss: 0.7848 - max_probability: 0.0125 - mean_probability: 0.0058 - min_probability: 0.0020 - prob_sparsity_loss: 0.0288 - reg_loss_closest: 0.0156 - reg_loss_similarity: 0.2325 - task_loss: 0.5392 - val_accuracy: 0.4157 - val_loss: 0.8250 - val_prob_sparsity_loss: 0.0268 - val_reg_loss_closest: 0.0154 - val_reg_loss_similarity: 0.2326 - val_task_loss: 0.5810\n",
      "Epoch 39/100\n",
      "\u001b[1m243/243\u001b[0m \u001b[32m━━━━━━━━━━━━━━━━━━━━\u001b[0m\u001b[37m\u001b[0m \u001b[1m3s\u001b[0m 13ms/step - accuracy: 0.4249 - avg_concept_size: 0.0000e+00 - avg_features_rec_loss: 0.0000e+00 - avg_mask_rec_loss: 0.0000e+00 - loss: 0.7820 - max_probability: 0.0119 - mean_probability: 0.0052 - min_probability: 0.0018 - prob_sparsity_loss: 0.0262 - reg_loss_closest: 0.0156 - reg_loss_similarity: 0.2326 - task_loss: 0.5389 - val_accuracy: 0.4157 - val_loss: 0.8224 - val_prob_sparsity_loss: 0.0245 - val_reg_loss_closest: 0.0157 - val_reg_loss_similarity: 0.2325 - val_task_loss: 0.5811\n",
      "Epoch 40/100\n",
      "\u001b[1m243/243\u001b[0m \u001b[32m━━━━━━━━━━━━━━━━━━━━\u001b[0m\u001b[37m\u001b[0m \u001b[1m3s\u001b[0m 12ms/step - accuracy: 0.4267 - avg_concept_size: 0.0000e+00 - avg_features_rec_loss: 0.0000e+00 - avg_mask_rec_loss: 0.0000e+00 - loss: 0.7800 - max_probability: 0.0112 - mean_probability: 0.0048 - min_probability: 0.0016 - prob_sparsity_loss: 0.0240 - reg_loss_closest: 0.0158 - reg_loss_similarity: 0.2325 - task_loss: 0.5393 - val_accuracy: 0.4157 - val_loss: 0.8164 - val_prob_sparsity_loss: 0.0224 - val_reg_loss_closest: 0.0156 - val_reg_loss_similarity: 0.2327 - val_task_loss: 0.5769\n",
      "Epoch 41/100\n",
      "\u001b[1m243/243\u001b[0m \u001b[32m━━━━━━━━━━━━━━━━━━━━\u001b[0m\u001b[37m\u001b[0m \u001b[1m3s\u001b[0m 12ms/step - accuracy: 0.4274 - avg_concept_size: 0.0000e+00 - avg_features_rec_loss: 0.0000e+00 - avg_mask_rec_loss: 0.0000e+00 - loss: 0.7769 - max_probability: 0.0106 - mean_probability: 0.0044 - min_probability: 0.0014 - prob_sparsity_loss: 0.0219 - reg_loss_closest: 0.0156 - reg_loss_similarity: 0.2326 - task_loss: 0.5379 - val_accuracy: 0.4157 - val_loss: 0.8160 - val_prob_sparsity_loss: 0.0205 - val_reg_loss_closest: 0.0155 - val_reg_loss_similarity: 0.2323 - val_task_loss: 0.5788\n",
      "Epoch 42/100\n",
      "\u001b[1m243/243\u001b[0m \u001b[32m━━━━━━━━━━━━━━━━━━━━\u001b[0m\u001b[37m\u001b[0m \u001b[1m3s\u001b[0m 12ms/step - accuracy: 0.4272 - avg_concept_size: 0.0000e+00 - avg_features_rec_loss: 0.0000e+00 - avg_mask_rec_loss: 0.0000e+00 - loss: 0.7748 - max_probability: 0.0100 - mean_probability: 0.0040 - min_probability: 0.0013 - prob_sparsity_loss: 0.0200 - reg_loss_closest: 0.0158 - reg_loss_similarity: 0.2324 - task_loss: 0.5382 - val_accuracy: 0.4157 - val_loss: 0.8167 - val_prob_sparsity_loss: 0.0188 - val_reg_loss_closest: 0.0158 - val_reg_loss_similarity: 0.2327 - val_task_loss: 0.5810\n",
      "Epoch 43/100\n",
      "\u001b[1m243/243\u001b[0m \u001b[32m━━━━━━━━━━━━━━━━━━━━\u001b[0m\u001b[37m\u001b[0m \u001b[1m3s\u001b[0m 12ms/step - accuracy: 0.4267 - avg_concept_size: 0.0000e+00 - avg_features_rec_loss: 0.0000e+00 - avg_mask_rec_loss: 0.0000e+00 - loss: 0.7728 - max_probability: 0.0096 - mean_probability: 0.0037 - min_probability: 0.0012 - prob_sparsity_loss: 0.0184 - reg_loss_closest: 0.0157 - reg_loss_similarity: 0.2326 - task_loss: 0.5376 - val_accuracy: 0.4157 - val_loss: 0.8183 - val_prob_sparsity_loss: 0.0172 - val_reg_loss_closest: 0.0156 - val_reg_loss_similarity: 0.2323 - val_task_loss: 0.5843\n",
      "Epoch 44/100\n",
      "\u001b[1m243/243\u001b[0m \u001b[32m━━━━━━━━━━━━━━━━━━━━\u001b[0m\u001b[37m\u001b[0m \u001b[1m3s\u001b[0m 12ms/step - accuracy: 0.4292 - avg_concept_size: 0.0000e+00 - avg_features_rec_loss: 0.0000e+00 - avg_mask_rec_loss: 0.0000e+00 - loss: 0.7726 - max_probability: 0.0093 - mean_probability: 0.0034 - min_probability: 0.0010 - prob_sparsity_loss: 0.0169 - reg_loss_closest: 0.0158 - reg_loss_similarity: 0.2324 - task_loss: 0.5390 - val_accuracy: 0.4157 - val_loss: 0.8182 - val_prob_sparsity_loss: 0.0159 - val_reg_loss_closest: 0.0154 - val_reg_loss_similarity: 0.2325 - val_task_loss: 0.5852\n",
      "Epoch 45/100\n",
      "\u001b[1m243/243\u001b[0m \u001b[32m━━━━━━━━━━━━━━━━━━━━\u001b[0m\u001b[37m\u001b[0m \u001b[1m3s\u001b[0m 12ms/step - accuracy: 0.4274 - avg_concept_size: 0.0000e+00 - avg_features_rec_loss: 0.0000e+00 - avg_mask_rec_loss: 0.0000e+00 - loss: 0.7703 - max_probability: 0.0088 - mean_probability: 0.0031 - min_probability: 9.6526e-04 - prob_sparsity_loss: 0.0156 - reg_loss_closest: 0.0159 - reg_loss_similarity: 0.2324 - task_loss: 0.5381 - val_accuracy: 0.4157 - val_loss: 0.8122 - val_prob_sparsity_loss: 0.0147 - val_reg_loss_closest: 0.0158 - val_reg_loss_similarity: 0.2327 - val_task_loss: 0.5806\n",
      "Epoch 46/100\n",
      "\u001b[1m243/243\u001b[0m \u001b[32m━━━━━━━━━━━━━━━━━━━━\u001b[0m\u001b[37m\u001b[0m \u001b[1m3s\u001b[0m 12ms/step - accuracy: 0.4276 - avg_concept_size: 0.0000e+00 - avg_features_rec_loss: 0.0000e+00 - avg_mask_rec_loss: 0.0000e+00 - loss: 0.7691 - max_probability: 0.0084 - mean_probability: 0.0029 - min_probability: 8.8499e-04 - prob_sparsity_loss: 0.0144 - reg_loss_closest: 0.0160 - reg_loss_similarity: 0.2325 - task_loss: 0.5382 - val_accuracy: 0.4157 - val_loss: 0.8085 - val_prob_sparsity_loss: 0.0135 - val_reg_loss_closest: 0.0158 - val_reg_loss_similarity: 0.2324 - val_task_loss: 0.5784\n",
      "Epoch 47/100\n",
      "\u001b[1m243/243\u001b[0m \u001b[32m━━━━━━━━━━━━━━━━━━━━\u001b[0m\u001b[37m\u001b[0m \u001b[1m3s\u001b[0m 13ms/step - accuracy: 0.4240 - avg_concept_size: 0.0000e+00 - avg_features_rec_loss: 0.0000e+00 - avg_mask_rec_loss: 0.0000e+00 - loss: 0.7682 - max_probability: 0.0079 - mean_probability: 0.0027 - min_probability: 8.0713e-04 - prob_sparsity_loss: 0.0133 - reg_loss_closest: 0.0160 - reg_loss_similarity: 0.2324 - task_loss: 0.5384 - val_accuracy: 0.4157 - val_loss: 0.8134 - val_prob_sparsity_loss: 0.0125 - val_reg_loss_closest: 0.0149 - val_reg_loss_similarity: 0.2325 - val_task_loss: 0.5832\n",
      "Epoch 48/100\n",
      "\u001b[1m243/243\u001b[0m \u001b[32m━━━━━━━━━━━━━━━━━━━━\u001b[0m\u001b[37m\u001b[0m \u001b[1m3s\u001b[0m 13ms/step - accuracy: 0.4265 - avg_concept_size: 0.0000e+00 - avg_features_rec_loss: 0.0000e+00 - avg_mask_rec_loss: 0.0000e+00 - loss: 0.7680 - max_probability: 0.0075 - mean_probability: 0.0025 - min_probability: 7.3594e-04 - prob_sparsity_loss: 0.0123 - reg_loss_closest: 0.0158 - reg_loss_similarity: 0.2325 - task_loss: 0.5391 - val_accuracy: 0.4157 - val_loss: 0.8105 - val_prob_sparsity_loss: 0.0116 - val_reg_loss_closest: 0.0159 - val_reg_loss_similarity: 0.2327 - val_task_loss: 0.5821\n",
      "Epoch 49/100\n",
      "\u001b[1m243/243\u001b[0m \u001b[32m━━━━━━━━━━━━━━━━━━━━\u001b[0m\u001b[37m\u001b[0m \u001b[1m3s\u001b[0m 12ms/step - accuracy: 0.4262 - avg_concept_size: 0.0000e+00 - avg_features_rec_loss: 0.0000e+00 - avg_mask_rec_loss: 0.0000e+00 - loss: 0.7648 - max_probability: 0.0073 - mean_probability: 0.0023 - min_probability: 6.7579e-04 - prob_sparsity_loss: 0.0114 - reg_loss_closest: 0.0161 - reg_loss_similarity: 0.2325 - task_loss: 0.5370 - val_accuracy: 0.4157 - val_loss: 0.8147 - val_prob_sparsity_loss: 0.0108 - val_reg_loss_closest: 0.0160 - val_reg_loss_similarity: 0.2322 - val_task_loss: 0.5877\n",
      "Epoch 50/100\n",
      "\u001b[1m243/243\u001b[0m \u001b[32m━━━━━━━━━━━━━━━━━━━━\u001b[0m\u001b[37m\u001b[0m \u001b[1m3s\u001b[0m 12ms/step - accuracy: 0.4270 - avg_concept_size: 0.0000e+00 - avg_features_rec_loss: 0.0000e+00 - avg_mask_rec_loss: 0.0000e+00 - loss: 0.7640 - max_probability: 0.0071 - mean_probability: 0.0021 - min_probability: 6.1474e-04 - prob_sparsity_loss: 0.0106 - reg_loss_closest: 0.0161 - reg_loss_similarity: 0.2324 - task_loss: 0.5370 - val_accuracy: 0.4157 - val_loss: 0.8090 - val_prob_sparsity_loss: 0.0101 - val_reg_loss_closest: 0.0160 - val_reg_loss_similarity: 0.2324 - val_task_loss: 0.5825\n",
      "Epoch 51/100\n",
      "\u001b[1m243/243\u001b[0m \u001b[32m━━━━━━━━━━━━━━━━━━━━\u001b[0m\u001b[37m\u001b[0m \u001b[1m3s\u001b[0m 12ms/step - accuracy: 0.4259 - avg_concept_size: 0.0000e+00 - avg_features_rec_loss: 0.0000e+00 - avg_mask_rec_loss: 0.0000e+00 - loss: 0.7662 - max_probability: 0.0069 - mean_probability: 0.0020 - min_probability: 5.5540e-04 - prob_sparsity_loss: 0.0099 - reg_loss_closest: 0.0162 - reg_loss_similarity: 0.2325 - task_loss: 0.5400 - val_accuracy: 0.4157 - val_loss: 0.8109 - val_prob_sparsity_loss: 0.0094 - val_reg_loss_closest: 0.0160 - val_reg_loss_similarity: 0.2324 - val_task_loss: 0.5850\n",
      "Epoch 52/100\n",
      "\u001b[1m243/243\u001b[0m \u001b[32m━━━━━━━━━━━━━━━━━━━━\u001b[0m\u001b[37m\u001b[0m \u001b[1m3s\u001b[0m 13ms/step - accuracy: 0.4269 - avg_concept_size: 0.0000e+00 - avg_features_rec_loss: 0.0000e+00 - avg_mask_rec_loss: 0.0000e+00 - loss: 0.7641 - max_probability: 0.0069 - mean_probability: 0.0019 - min_probability: 5.0914e-04 - prob_sparsity_loss: 0.0093 - reg_loss_closest: 0.0161 - reg_loss_similarity: 0.2325 - task_loss: 0.5385 - val_accuracy: 0.4157 - val_loss: 0.8074 - val_prob_sparsity_loss: 0.0088 - val_reg_loss_closest: 0.0161 - val_reg_loss_similarity: 0.2326 - val_task_loss: 0.5820\n",
      "Epoch 53/100\n",
      "\u001b[1m243/243\u001b[0m \u001b[32m━━━━━━━━━━━━━━━━━━━━\u001b[0m\u001b[37m\u001b[0m \u001b[1m3s\u001b[0m 13ms/step - accuracy: 0.4247 - avg_concept_size: 0.0000e+00 - avg_features_rec_loss: 0.0000e+00 - avg_mask_rec_loss: 0.0000e+00 - loss: 0.7632 - max_probability: 0.0067 - mean_probability: 0.0017 - min_probability: 4.6660e-04 - prob_sparsity_loss: 0.0087 - reg_loss_closest: 0.0162 - reg_loss_similarity: 0.2326 - task_loss: 0.5382 - val_accuracy: 0.4157 - val_loss: 0.8077 - val_prob_sparsity_loss: 0.0083 - val_reg_loss_closest: 0.0162 - val_reg_loss_similarity: 0.2324 - val_task_loss: 0.5833\n",
      "Epoch 54/100\n",
      "\u001b[1m243/243\u001b[0m \u001b[32m━━━━━━━━━━━━━━━━━━━━\u001b[0m\u001b[37m\u001b[0m \u001b[1m3s\u001b[0m 12ms/step - accuracy: 0.4265 - avg_concept_size: 0.0000e+00 - avg_features_rec_loss: 0.0000e+00 - avg_mask_rec_loss: 0.0000e+00 - loss: 0.7629 - max_probability: 0.0067 - mean_probability: 0.0016 - min_probability: 4.3057e-04 - prob_sparsity_loss: 0.0081 - reg_loss_closest: 0.0163 - reg_loss_similarity: 0.2324 - task_loss: 0.5386 - val_accuracy: 0.4157 - val_loss: 0.8026 - val_prob_sparsity_loss: 0.0078 - val_reg_loss_closest: 0.0158 - val_reg_loss_similarity: 0.2326 - val_task_loss: 0.5781\n",
      "Epoch 55/100\n",
      "\u001b[1m243/243\u001b[0m \u001b[32m━━━━━━━━━━━━━━━━━━━━\u001b[0m\u001b[37m\u001b[0m \u001b[1m3s\u001b[0m 12ms/step - accuracy: 0.4293 - avg_concept_size: 0.0000e+00 - avg_features_rec_loss: 0.0000e+00 - avg_mask_rec_loss: 0.0000e+00 - loss: 0.7635 - max_probability: 0.0064 - mean_probability: 0.0015 - min_probability: 4.0254e-04 - prob_sparsity_loss: 0.0077 - reg_loss_closest: 0.0162 - reg_loss_similarity: 0.2325 - task_loss: 0.5395 - val_accuracy: 0.4157 - val_loss: 0.8082 - val_prob_sparsity_loss: 0.0074 - val_reg_loss_closest: 0.0163 - val_reg_loss_similarity: 0.2322 - val_task_loss: 0.5849\n",
      "Epoch 56/100\n",
      "\u001b[1m243/243\u001b[0m \u001b[32m━━━━━━━━━━━━━━━━━━━━\u001b[0m\u001b[37m\u001b[0m \u001b[1m3s\u001b[0m 12ms/step - accuracy: 0.4254 - avg_concept_size: 0.0000e+00 - avg_features_rec_loss: 0.0000e+00 - avg_mask_rec_loss: 0.0000e+00 - loss: 0.7613 - max_probability: 0.0065 - mean_probability: 0.0015 - min_probability: 3.6891e-04 - prob_sparsity_loss: 0.0073 - reg_loss_closest: 0.0164 - reg_loss_similarity: 0.2323 - task_loss: 0.5382 - val_accuracy: 0.4157 - val_loss: 0.8060 - val_prob_sparsity_loss: 0.0070 - val_reg_loss_closest: 0.0161 - val_reg_loss_similarity: 0.2326 - val_task_loss: 0.5825\n",
      "Epoch 57/100\n",
      "\u001b[1m243/243\u001b[0m \u001b[32m━━━━━━━━━━━━━━━━━━━━\u001b[0m\u001b[37m\u001b[0m \u001b[1m3s\u001b[0m 12ms/step - accuracy: 0.4265 - avg_concept_size: 0.0000e+00 - avg_features_rec_loss: 0.0000e+00 - avg_mask_rec_loss: 0.0000e+00 - loss: 0.7613 - max_probability: 0.0066 - mean_probability: 0.0014 - min_probability: 3.3996e-04 - prob_sparsity_loss: 0.0069 - reg_loss_closest: 0.0166 - reg_loss_similarity: 0.2326 - task_loss: 0.5385 - val_accuracy: 0.4157 - val_loss: 0.8025 - val_prob_sparsity_loss: 0.0066 - val_reg_loss_closest: 0.0166 - val_reg_loss_similarity: 0.2325 - val_task_loss: 0.5801\n",
      "Epoch 58/100\n",
      "\u001b[1m243/243\u001b[0m \u001b[32m━━━━━━━━━━━━━━━━━━━━\u001b[0m\u001b[37m\u001b[0m \u001b[1m3s\u001b[0m 13ms/step - accuracy: 0.4270 - avg_concept_size: 0.0000e+00 - avg_features_rec_loss: 0.0000e+00 - avg_mask_rec_loss: 0.0000e+00 - loss: 0.7604 - max_probability: 0.0067 - mean_probability: 0.0013 - min_probability: 3.1327e-04 - prob_sparsity_loss: 0.0065 - reg_loss_closest: 0.0166 - reg_loss_similarity: 0.2325 - task_loss: 0.5381 - val_accuracy: 0.4157 - val_loss: 0.8047 - val_prob_sparsity_loss: 0.0063 - val_reg_loss_closest: 0.0164 - val_reg_loss_similarity: 0.2327 - val_task_loss: 0.5822\n",
      "Epoch 59/100\n",
      "\u001b[1m243/243\u001b[0m \u001b[32m━━━━━━━━━━━━━━━━━━━━\u001b[0m\u001b[37m\u001b[0m \u001b[1m3s\u001b[0m 13ms/step - accuracy: 0.4282 - avg_concept_size: 0.0000e+00 - avg_features_rec_loss: 0.0000e+00 - avg_mask_rec_loss: 0.0000e+00 - loss: 0.7623 - max_probability: 0.0070 - mean_probability: 0.0012 - min_probability: 2.8036e-04 - prob_sparsity_loss: 0.0062 - reg_loss_closest: 0.0167 - reg_loss_similarity: 0.2324 - task_loss: 0.5403 - val_accuracy: 0.4157 - val_loss: 0.8050 - val_prob_sparsity_loss: 0.0060 - val_reg_loss_closest: 0.0169 - val_reg_loss_similarity: 0.2322 - val_task_loss: 0.5837\n",
      "Epoch 60/100\n",
      "\u001b[1m243/243\u001b[0m \u001b[32m━━━━━━━━━━━━━━━━━━━━\u001b[0m\u001b[37m\u001b[0m \u001b[1m3s\u001b[0m 14ms/step - accuracy: 0.4245 - avg_concept_size: 0.0000e+00 - avg_features_rec_loss: 0.0000e+00 - avg_mask_rec_loss: 0.0000e+00 - loss: 0.7595 - max_probability: 0.0072 - mean_probability: 0.0012 - min_probability: 2.4413e-04 - prob_sparsity_loss: 0.0059 - reg_loss_closest: 0.0168 - reg_loss_similarity: 0.2324 - task_loss: 0.5380 - val_accuracy: 0.4157 - val_loss: 0.8024 - val_prob_sparsity_loss: 0.0057 - val_reg_loss_closest: 0.0167 - val_reg_loss_similarity: 0.2325 - val_task_loss: 0.5809\n",
      "Epoch 61/100\n",
      "\u001b[1m243/243\u001b[0m \u001b[32m━━━━━━━━━━━━━━━━━━━━\u001b[0m\u001b[37m\u001b[0m \u001b[1m3s\u001b[0m 14ms/step - accuracy: 0.4270 - avg_concept_size: 0.0000e+00 - avg_features_rec_loss: 0.0000e+00 - avg_mask_rec_loss: 0.0000e+00 - loss: 0.7583 - max_probability: 0.0073 - mean_probability: 0.0011 - min_probability: 2.1685e-04 - prob_sparsity_loss: 0.0057 - reg_loss_closest: 0.0171 - reg_loss_similarity: 0.2324 - task_loss: 0.5372 - val_accuracy: 0.4157 - val_loss: 0.8057 - val_prob_sparsity_loss: 0.0055 - val_reg_loss_closest: 0.0170 - val_reg_loss_similarity: 0.2322 - val_task_loss: 0.5851\n",
      "Epoch 62/100\n",
      "\u001b[1m243/243\u001b[0m \u001b[32m━━━━━━━━━━━━━━━━━━━━\u001b[0m\u001b[37m\u001b[0m \u001b[1m3s\u001b[0m 13ms/step - accuracy: 0.4272 - avg_concept_size: 0.0000e+00 - avg_features_rec_loss: 0.0000e+00 - avg_mask_rec_loss: 0.0000e+00 - loss: 0.7599 - max_probability: 0.0074 - mean_probability: 0.0011 - min_probability: 1.9261e-04 - prob_sparsity_loss: 0.0054 - reg_loss_closest: 0.0171 - reg_loss_similarity: 0.2323 - task_loss: 0.5392 - val_accuracy: 0.4157 - val_loss: 0.8029 - val_prob_sparsity_loss: 0.0053 - val_reg_loss_closest: 0.0170 - val_reg_loss_similarity: 0.2324 - val_task_loss: 0.5822\n",
      "Epoch 63/100\n",
      "\u001b[1m243/243\u001b[0m \u001b[32m━━━━━━━━━━━━━━━━━━━━\u001b[0m\u001b[37m\u001b[0m \u001b[1m3s\u001b[0m 13ms/step - accuracy: 0.4269 - avg_concept_size: 0.0000e+00 - avg_features_rec_loss: 0.0000e+00 - avg_mask_rec_loss: 0.0000e+00 - loss: 0.7585 - max_probability: 0.0074 - mean_probability: 0.0010 - min_probability: 1.7387e-04 - prob_sparsity_loss: 0.0052 - reg_loss_closest: 0.0172 - reg_loss_similarity: 0.2325 - task_loss: 0.5380 - val_accuracy: 0.4157 - val_loss: 0.8018 - val_prob_sparsity_loss: 0.0051 - val_reg_loss_closest: 0.0159 - val_reg_loss_similarity: 0.2325 - val_task_loss: 0.5801\n",
      "Epoch 64/100\n",
      "\u001b[1m243/243\u001b[0m \u001b[32m━━━━━━━━━━━━━━━━━━━━\u001b[0m\u001b[37m\u001b[0m \u001b[1m3s\u001b[0m 13ms/step - accuracy: 0.4256 - avg_concept_size: 0.0000e+00 - avg_features_rec_loss: 0.0000e+00 - avg_mask_rec_loss: 0.0000e+00 - loss: 0.7580 - max_probability: 0.0075 - mean_probability: 0.0010 - min_probability: 1.4944e-04 - prob_sparsity_loss: 0.0051 - reg_loss_closest: 0.0172 - reg_loss_similarity: 0.2325 - task_loss: 0.5377 - val_accuracy: 0.4157 - val_loss: 0.8037 - val_prob_sparsity_loss: 0.0049 - val_reg_loss_closest: 0.0170 - val_reg_loss_similarity: 0.2326 - val_task_loss: 0.5831\n",
      "Epoch 65/100\n",
      "\u001b[1m243/243\u001b[0m \u001b[32m━━━━━━━━━━━━━━━━━━━━\u001b[0m\u001b[37m\u001b[0m \u001b[1m3s\u001b[0m 13ms/step - accuracy: 0.4255 - avg_concept_size: 0.0000e+00 - avg_features_rec_loss: 0.0000e+00 - avg_mask_rec_loss: 0.0000e+00 - loss: 0.7586 - max_probability: 0.0076 - mean_probability: 9.7623e-04 - min_probability: 1.3236e-04 - prob_sparsity_loss: 0.0049 - reg_loss_closest: 0.0174 - reg_loss_similarity: 0.2325 - task_loss: 0.5387 - val_accuracy: 0.4157 - val_loss: 0.8003 - val_prob_sparsity_loss: 0.0047 - val_reg_loss_closest: 0.0172 - val_reg_loss_similarity: 0.2326 - val_task_loss: 0.5802\n",
      "Epoch 66/100\n",
      "\u001b[1m243/243\u001b[0m \u001b[32m━━━━━━━━━━━━━━━━━━━━\u001b[0m\u001b[37m\u001b[0m \u001b[1m3s\u001b[0m 13ms/step - accuracy: 0.4259 - avg_concept_size: 0.0000e+00 - avg_features_rec_loss: 0.0000e+00 - avg_mask_rec_loss: 0.0000e+00 - loss: 0.7564 - max_probability: 0.0077 - mean_probability: 9.4206e-04 - min_probability: 1.1401e-04 - prob_sparsity_loss: 0.0047 - reg_loss_closest: 0.0176 - reg_loss_similarity: 0.2324 - task_loss: 0.5370 - val_accuracy: 0.4157 - val_loss: 0.7991 - val_prob_sparsity_loss: 0.0046 - val_reg_loss_closest: 0.0174 - val_reg_loss_similarity: 0.2324 - val_task_loss: 0.5796\n",
      "Epoch 67/100\n",
      "\u001b[1m243/243\u001b[0m \u001b[32m━━━━━━━━━━━━━━━━━━━━\u001b[0m\u001b[37m\u001b[0m \u001b[1m3s\u001b[0m 13ms/step - accuracy: 0.4278 - avg_concept_size: 0.0000e+00 - avg_features_rec_loss: 0.0000e+00 - avg_mask_rec_loss: 0.0000e+00 - loss: 0.7570 - max_probability: 0.0077 - mean_probability: 9.1654e-04 - min_probability: 9.9057e-05 - prob_sparsity_loss: 0.0046 - reg_loss_closest: 0.0177 - reg_loss_similarity: 0.2325 - task_loss: 0.5377 - val_accuracy: 0.4157 - val_loss: 0.8037 - val_prob_sparsity_loss: 0.0045 - val_reg_loss_closest: 0.0183 - val_reg_loss_similarity: 0.2323 - val_task_loss: 0.5851\n",
      "Epoch 68/100\n",
      "\u001b[1m243/243\u001b[0m \u001b[32m━━━━━━━━━━━━━━━━━━━━\u001b[0m\u001b[37m\u001b[0m \u001b[1m3s\u001b[0m 13ms/step - accuracy: 0.4248 - avg_concept_size: 0.0000e+00 - avg_features_rec_loss: 0.0000e+00 - avg_mask_rec_loss: 0.0000e+00 - loss: 0.7569 - max_probability: 0.0082 - mean_probability: 8.8873e-04 - min_probability: 8.3325e-05 - prob_sparsity_loss: 0.0044 - reg_loss_closest: 0.0177 - reg_loss_similarity: 0.2324 - task_loss: 0.5377 - val_accuracy: 0.4157 - val_loss: 0.8063 - val_prob_sparsity_loss: 0.0044 - val_reg_loss_closest: 0.0175 - val_reg_loss_similarity: 0.2322 - val_task_loss: 0.5873\n",
      "Epoch 69/100\n",
      "\u001b[1m243/243\u001b[0m \u001b[32m━━━━━━━━━━━━━━━━━━━━\u001b[0m\u001b[37m\u001b[0m \u001b[1m3s\u001b[0m 13ms/step - accuracy: 0.4280 - avg_concept_size: 0.0000e+00 - avg_features_rec_loss: 0.0000e+00 - avg_mask_rec_loss: 0.0000e+00 - loss: 0.7549 - max_probability: 0.0084 - mean_probability: 8.6991e-04 - min_probability: 7.2325e-05 - prob_sparsity_loss: 0.0043 - reg_loss_closest: 0.0180 - reg_loss_similarity: 0.2324 - task_loss: 0.5361 - val_accuracy: 0.4157 - val_loss: 0.7982 - val_prob_sparsity_loss: 0.0043 - val_reg_loss_closest: 0.0164 - val_reg_loss_similarity: 0.2323 - val_task_loss: 0.5780\n",
      "Epoch 70/100\n",
      "\u001b[1m243/243\u001b[0m \u001b[32m━━━━━━━━━━━━━━━━━━━━\u001b[0m\u001b[37m\u001b[0m \u001b[1m3s\u001b[0m 13ms/step - accuracy: 0.4293 - avg_concept_size: 0.0000e+00 - avg_features_rec_loss: 0.0000e+00 - avg_mask_rec_loss: 0.0000e+00 - loss: 0.7592 - max_probability: 0.0087 - mean_probability: 8.5012e-04 - min_probability: 6.0750e-05 - prob_sparsity_loss: 0.0043 - reg_loss_closest: 0.0179 - reg_loss_similarity: 0.2324 - task_loss: 0.5405 - val_accuracy: 0.4157 - val_loss: 0.7985 - val_prob_sparsity_loss: 0.0042 - val_reg_loss_closest: 0.0180 - val_reg_loss_similarity: 0.2323 - val_task_loss: 0.5800\n",
      "Epoch 71/100\n",
      "\u001b[1m243/243\u001b[0m \u001b[32m━━━━━━━━━━━━━━━━━━━━\u001b[0m\u001b[37m\u001b[0m \u001b[1m3s\u001b[0m 13ms/step - accuracy: 0.4264 - avg_concept_size: 0.0000e+00 - avg_features_rec_loss: 0.0000e+00 - avg_mask_rec_loss: 0.0000e+00 - loss: 0.7585 - max_probability: 0.0091 - mean_probability: 8.3258e-04 - min_probability: 5.2534e-05 - prob_sparsity_loss: 0.0042 - reg_loss_closest: 0.0182 - reg_loss_similarity: 0.2323 - task_loss: 0.5402 - val_accuracy: 0.4157 - val_loss: 0.7990 - val_prob_sparsity_loss: 0.0041 - val_reg_loss_closest: 0.0184 - val_reg_loss_similarity: 0.2323 - val_task_loss: 0.5811\n",
      "Epoch 72/100\n",
      "\u001b[1m243/243\u001b[0m \u001b[32m━━━━━━━━━━━━━━━━━━━━\u001b[0m\u001b[37m\u001b[0m \u001b[1m3s\u001b[0m 13ms/step - accuracy: 0.4274 - avg_concept_size: 0.0000e+00 - avg_features_rec_loss: 0.0000e+00 - avg_mask_rec_loss: 0.0000e+00 - loss: 0.7566 - max_probability: 0.0093 - mean_probability: 8.1277e-04 - min_probability: 4.6702e-05 - prob_sparsity_loss: 0.0041 - reg_loss_closest: 0.0184 - reg_loss_similarity: 0.2324 - task_loss: 0.5385 - val_accuracy: 0.4157 - val_loss: 0.7929 - val_prob_sparsity_loss: 0.0040 - val_reg_loss_closest: 0.0187 - val_reg_loss_similarity: 0.2322 - val_task_loss: 0.5754\n",
      "Epoch 73/100\n",
      "\u001b[1m243/243\u001b[0m \u001b[32m━━━━━━━━━━━━━━━━━━━━\u001b[0m\u001b[37m\u001b[0m \u001b[1m3s\u001b[0m 13ms/step - accuracy: 0.4292 - avg_concept_size: 0.0000e+00 - avg_features_rec_loss: 0.0000e+00 - avg_mask_rec_loss: 0.0000e+00 - loss: 0.7552 - max_probability: 0.0100 - mean_probability: 8.0006e-04 - min_probability: 3.9494e-05 - prob_sparsity_loss: 0.0040 - reg_loss_closest: 0.0187 - reg_loss_similarity: 0.2324 - task_loss: 0.5375 - val_accuracy: 0.4157 - val_loss: 0.7966 - val_prob_sparsity_loss: 0.0040 - val_reg_loss_closest: 0.0188 - val_reg_loss_similarity: 0.2324 - val_task_loss: 0.5790\n",
      "Epoch 74/100\n",
      "\u001b[1m243/243\u001b[0m \u001b[32m━━━━━━━━━━━━━━━━━━━━\u001b[0m\u001b[37m\u001b[0m \u001b[1m3s\u001b[0m 13ms/step - accuracy: 0.4296 - avg_concept_size: 0.0000e+00 - avg_features_rec_loss: 0.0000e+00 - avg_mask_rec_loss: 0.0000e+00 - loss: 0.7556 - max_probability: 0.0106 - mean_probability: 7.8874e-04 - min_probability: 3.3595e-05 - prob_sparsity_loss: 0.0039 - reg_loss_closest: 0.0187 - reg_loss_similarity: 0.2323 - task_loss: 0.5381 - val_accuracy: 0.4157 - val_loss: 0.7987 - val_prob_sparsity_loss: 0.0039 - val_reg_loss_closest: 0.0191 - val_reg_loss_similarity: 0.2321 - val_task_loss: 0.5818\n",
      "Epoch 75/100\n",
      "\u001b[1m243/243\u001b[0m \u001b[32m━━━━━━━━━━━━━━━━━━━━\u001b[0m\u001b[37m\u001b[0m \u001b[1m3s\u001b[0m 13ms/step - accuracy: 0.4274 - avg_concept_size: 0.0000e+00 - avg_features_rec_loss: 0.0000e+00 - avg_mask_rec_loss: 0.0000e+00 - loss: 0.7577 - max_probability: 0.0110 - mean_probability: 7.8232e-04 - min_probability: 2.8899e-05 - prob_sparsity_loss: 0.0039 - reg_loss_closest: 0.0190 - reg_loss_similarity: 0.2323 - task_loss: 0.5406 - val_accuracy: 0.4157 - val_loss: 0.8008 - val_prob_sparsity_loss: 0.0039 - val_reg_loss_closest: 0.0196 - val_reg_loss_similarity: 0.2322 - val_task_loss: 0.5843\n",
      "Epoch 76/100\n",
      "\u001b[1m243/243\u001b[0m \u001b[32m━━━━━━━━━━━━━━━━━━━━\u001b[0m\u001b[37m\u001b[0m \u001b[1m3s\u001b[0m 13ms/step - accuracy: 0.4285 - avg_concept_size: 0.0000e+00 - avg_features_rec_loss: 0.0000e+00 - avg_mask_rec_loss: 0.0000e+00 - loss: 0.7565 - max_probability: 0.0114 - mean_probability: 7.7013e-04 - min_probability: 2.5112e-05 - prob_sparsity_loss: 0.0039 - reg_loss_closest: 0.0192 - reg_loss_similarity: 0.2323 - task_loss: 0.5395 - val_accuracy: 0.4157 - val_loss: 0.7948 - val_prob_sparsity_loss: 0.0038 - val_reg_loss_closest: 0.0191 - val_reg_loss_similarity: 0.2322 - val_task_loss: 0.5779\n",
      "Epoch 77/100\n",
      "\u001b[1m243/243\u001b[0m \u001b[32m━━━━━━━━━━━━━━━━━━━━\u001b[0m\u001b[37m\u001b[0m \u001b[1m3s\u001b[0m 13ms/step - accuracy: 0.4263 - avg_concept_size: 0.0000e+00 - avg_features_rec_loss: 0.0000e+00 - avg_mask_rec_loss: 0.0000e+00 - loss: 0.7533 - max_probability: 0.0121 - mean_probability: 7.5419e-04 - min_probability: 2.1815e-05 - prob_sparsity_loss: 0.0038 - reg_loss_closest: 0.0195 - reg_loss_similarity: 0.2322 - task_loss: 0.5367 - val_accuracy: 0.4157 - val_loss: 0.7958 - val_prob_sparsity_loss: 0.0037 - val_reg_loss_closest: 0.0195 - val_reg_loss_similarity: 0.2321 - val_task_loss: 0.5795\n",
      "Epoch 78/100\n",
      "\u001b[1m243/243\u001b[0m \u001b[32m━━━━━━━━━━━━━━━━━━━━\u001b[0m\u001b[37m\u001b[0m \u001b[1m3s\u001b[0m 13ms/step - accuracy: 0.4265 - avg_concept_size: 0.0000e+00 - avg_features_rec_loss: 0.0000e+00 - avg_mask_rec_loss: 0.0000e+00 - loss: 0.7556 - max_probability: 0.0125 - mean_probability: 7.3985e-04 - min_probability: 1.9065e-05 - prob_sparsity_loss: 0.0037 - reg_loss_closest: 0.0194 - reg_loss_similarity: 0.2323 - task_loss: 0.5390 - val_accuracy: 0.4157 - val_loss: 0.8010 - val_prob_sparsity_loss: 0.0037 - val_reg_loss_closest: 0.0174 - val_reg_loss_similarity: 0.2326 - val_task_loss: 0.5821\n",
      "Epoch 79/100\n",
      "\u001b[1m243/243\u001b[0m \u001b[32m━━━━━━━━━━━━━━━━━━━━\u001b[0m\u001b[37m\u001b[0m \u001b[1m3s\u001b[0m 13ms/step - accuracy: 0.4267 - avg_concept_size: 0.0000e+00 - avg_features_rec_loss: 0.0000e+00 - avg_mask_rec_loss: 0.0000e+00 - loss: 0.7530 - max_probability: 0.0129 - mean_probability: 7.3253e-04 - min_probability: 1.6420e-05 - prob_sparsity_loss: 0.0037 - reg_loss_closest: 0.0192 - reg_loss_similarity: 0.2323 - task_loss: 0.5362 - val_accuracy: 0.4157 - val_loss: 0.7924 - val_prob_sparsity_loss: 0.0036 - val_reg_loss_closest: 0.0198 - val_reg_loss_similarity: 0.2324 - val_task_loss: 0.5762\n",
      "Epoch 80/100\n",
      "\u001b[1m243/243\u001b[0m \u001b[32m━━━━━━━━━━━━━━━━━━━━\u001b[0m\u001b[37m\u001b[0m \u001b[1m3s\u001b[0m 13ms/step - accuracy: 0.4283 - avg_concept_size: 0.0000e+00 - avg_features_rec_loss: 0.0000e+00 - avg_mask_rec_loss: 0.0000e+00 - loss: 0.7549 - max_probability: 0.0132 - mean_probability: 7.2120e-04 - min_probability: 1.4273e-05 - prob_sparsity_loss: 0.0036 - reg_loss_closest: 0.0197 - reg_loss_similarity: 0.2323 - task_loss: 0.5387 - val_accuracy: 0.4157 - val_loss: 0.7950 - val_prob_sparsity_loss: 0.0036 - val_reg_loss_closest: 0.0199 - val_reg_loss_similarity: 0.2322 - val_task_loss: 0.5792\n",
      "Epoch 81/100\n",
      "\u001b[1m243/243\u001b[0m \u001b[32m━━━━━━━━━━━━━━━━━━━━\u001b[0m\u001b[37m\u001b[0m \u001b[1m3s\u001b[0m 13ms/step - accuracy: 0.4276 - avg_concept_size: 0.0000e+00 - avg_features_rec_loss: 0.0000e+00 - avg_mask_rec_loss: 0.0000e+00 - loss: 0.7548 - max_probability: 0.0135 - mean_probability: 7.1094e-04 - min_probability: 1.2678e-05 - prob_sparsity_loss: 0.0036 - reg_loss_closest: 0.0197 - reg_loss_similarity: 0.2322 - task_loss: 0.5387 - val_accuracy: 0.4157 - val_loss: 0.7960 - val_prob_sparsity_loss: 0.0035 - val_reg_loss_closest: 0.0199 - val_reg_loss_similarity: 0.2323 - val_task_loss: 0.5801\n",
      "Epoch 82/100\n",
      "\u001b[1m243/243\u001b[0m \u001b[32m━━━━━━━━━━━━━━━━━━━━\u001b[0m\u001b[37m\u001b[0m \u001b[1m3s\u001b[0m 13ms/step - accuracy: 0.4265 - avg_concept_size: 0.0000e+00 - avg_features_rec_loss: 0.0000e+00 - avg_mask_rec_loss: 0.0000e+00 - loss: 0.7548 - max_probability: 0.0135 - mean_probability: 6.9996e-04 - min_probability: 1.1226e-05 - prob_sparsity_loss: 0.0035 - reg_loss_closest: 0.0198 - reg_loss_similarity: 0.2323 - task_loss: 0.5388 - val_accuracy: 0.4157 - val_loss: 0.7976 - val_prob_sparsity_loss: 0.0035 - val_reg_loss_closest: 0.0196 - val_reg_loss_similarity: 0.2322 - val_task_loss: 0.5816\n",
      "Epoch 83/100\n",
      "\u001b[1m243/243\u001b[0m \u001b[32m━━━━━━━━━━━━━━━━━━━━\u001b[0m\u001b[37m\u001b[0m \u001b[1m3s\u001b[0m 13ms/step - accuracy: 0.4290 - avg_concept_size: 0.0000e+00 - avg_features_rec_loss: 0.0000e+00 - avg_mask_rec_loss: 0.0000e+00 - loss: 0.7543 - max_probability: 0.0137 - mean_probability: 6.9244e-04 - min_probability: 9.9807e-06 - prob_sparsity_loss: 0.0035 - reg_loss_closest: 0.0201 - reg_loss_similarity: 0.2323 - task_loss: 0.5386 - val_accuracy: 0.4157 - val_loss: 0.8008 - val_prob_sparsity_loss: 0.0034 - val_reg_loss_closest: 0.0201 - val_reg_loss_similarity: 0.2324 - val_task_loss: 0.5851\n",
      "Epoch 84/100\n",
      "\u001b[1m243/243\u001b[0m \u001b[32m━━━━━━━━━━━━━━━━━━━━\u001b[0m\u001b[37m\u001b[0m \u001b[1m3s\u001b[0m 13ms/step - accuracy: 0.4256 - avg_concept_size: 0.0000e+00 - avg_features_rec_loss: 0.0000e+00 - avg_mask_rec_loss: 0.0000e+00 - loss: 0.7537 - max_probability: 0.0138 - mean_probability: 6.8488e-04 - min_probability: 8.9384e-06 - prob_sparsity_loss: 0.0034 - reg_loss_closest: 0.0198 - reg_loss_similarity: 0.2323 - task_loss: 0.5378 - val_accuracy: 0.4157 - val_loss: 0.7959 - val_prob_sparsity_loss: 0.0034 - val_reg_loss_closest: 0.0196 - val_reg_loss_similarity: 0.2323 - val_task_loss: 0.5798\n",
      "Epoch 85/100\n",
      "\u001b[1m243/243\u001b[0m \u001b[32m━━━━━━━━━━━━━━━━━━━━\u001b[0m\u001b[37m\u001b[0m \u001b[1m3s\u001b[0m 13ms/step - accuracy: 0.4301 - avg_concept_size: 0.0000e+00 - avg_features_rec_loss: 0.0000e+00 - avg_mask_rec_loss: 0.0000e+00 - loss: 0.7524 - max_probability: 0.0141 - mean_probability: 6.7860e-04 - min_probability: 8.2108e-06 - prob_sparsity_loss: 0.0034 - reg_loss_closest: 0.0200 - reg_loss_similarity: 0.2323 - task_loss: 0.5367 - val_accuracy: 0.4157 - val_loss: 0.7957 - val_prob_sparsity_loss: 0.0034 - val_reg_loss_closest: 0.0199 - val_reg_loss_similarity: 0.2321 - val_task_loss: 0.5801\n",
      "Epoch 86/100\n",
      "\u001b[1m243/243\u001b[0m \u001b[32m━━━━━━━━━━━━━━━━━━━━\u001b[0m\u001b[37m\u001b[0m \u001b[1m3s\u001b[0m 14ms/step - accuracy: 0.4284 - avg_concept_size: 0.0000e+00 - avg_features_rec_loss: 0.0000e+00 - avg_mask_rec_loss: 0.0000e+00 - loss: 0.7543 - max_probability: 0.0143 - mean_probability: 6.7679e-04 - min_probability: 7.3582e-06 - prob_sparsity_loss: 0.0034 - reg_loss_closest: 0.0201 - reg_loss_similarity: 0.2323 - task_loss: 0.5387 - val_accuracy: 0.4157 - val_loss: 0.7957 - val_prob_sparsity_loss: 0.0034 - val_reg_loss_closest: 0.0205 - val_reg_loss_similarity: 0.2321 - val_task_loss: 0.5807\n",
      "Epoch 87/100\n",
      "\u001b[1m243/243\u001b[0m \u001b[32m━━━━━━━━━━━━━━━━━━━━\u001b[0m\u001b[37m\u001b[0m \u001b[1m3s\u001b[0m 13ms/step - accuracy: 0.4277 - avg_concept_size: 0.0000e+00 - avg_features_rec_loss: 0.0000e+00 - avg_mask_rec_loss: 0.0000e+00 - loss: 0.7529 - max_probability: 0.0146 - mean_probability: 6.6955e-04 - min_probability: 6.6125e-06 - prob_sparsity_loss: 0.0033 - reg_loss_closest: 0.0204 - reg_loss_similarity: 0.2323 - task_loss: 0.5377 - val_accuracy: 0.4157 - val_loss: 0.7927 - val_prob_sparsity_loss: 0.0033 - val_reg_loss_closest: 0.0202 - val_reg_loss_similarity: 0.2322 - val_task_loss: 0.5774\n",
      "Epoch 88/100\n",
      "\u001b[1m243/243\u001b[0m \u001b[32m━━━━━━━━━━━━━━━━━━━━\u001b[0m\u001b[37m\u001b[0m \u001b[1m3s\u001b[0m 13ms/step - accuracy: 0.4244 - avg_concept_size: 0.0000e+00 - avg_features_rec_loss: 0.0000e+00 - avg_mask_rec_loss: 0.0000e+00 - loss: 0.7512 - max_probability: 0.0142 - mean_probability: 6.5678e-04 - min_probability: 5.9444e-06 - prob_sparsity_loss: 0.0033 - reg_loss_closest: 0.0204 - reg_loss_similarity: 0.2322 - task_loss: 0.5361 - val_accuracy: 0.4157 - val_loss: 0.7968 - val_prob_sparsity_loss: 0.0032 - val_reg_loss_closest: 0.0197 - val_reg_loss_similarity: 0.2325 - val_task_loss: 0.5808\n",
      "Epoch 89/100\n",
      "\u001b[1m243/243\u001b[0m \u001b[32m━━━━━━━━━━━━━━━━━━━━\u001b[0m\u001b[37m\u001b[0m \u001b[1m3s\u001b[0m 13ms/step - accuracy: 0.4261 - avg_concept_size: 0.0000e+00 - avg_features_rec_loss: 0.0000e+00 - avg_mask_rec_loss: 0.0000e+00 - loss: 0.7530 - max_probability: 0.0142 - mean_probability: 6.4798e-04 - min_probability: 5.2789e-06 - prob_sparsity_loss: 0.0032 - reg_loss_closest: 0.0204 - reg_loss_similarity: 0.2323 - task_loss: 0.5379 - val_accuracy: 0.4157 - val_loss: 0.7962 - val_prob_sparsity_loss: 0.0032 - val_reg_loss_closest: 0.0207 - val_reg_loss_similarity: 0.2323 - val_task_loss: 0.5813\n",
      "Epoch 90/100\n",
      "\u001b[1m243/243\u001b[0m \u001b[32m━━━━━━━━━━━━━━━━━━━━\u001b[0m\u001b[37m\u001b[0m \u001b[1m3s\u001b[0m 13ms/step - accuracy: 0.4267 - avg_concept_size: 0.0000e+00 - avg_features_rec_loss: 0.0000e+00 - avg_mask_rec_loss: 0.0000e+00 - loss: 0.7532 - max_probability: 0.0146 - mean_probability: 6.4479e-04 - min_probability: 4.7673e-06 - prob_sparsity_loss: 0.0032 - reg_loss_closest: 0.0206 - reg_loss_similarity: 0.2324 - task_loss: 0.5382 - val_accuracy: 0.4157 - val_loss: 0.7966 - val_prob_sparsity_loss: 0.0032 - val_reg_loss_closest: 0.0198 - val_reg_loss_similarity: 0.2322 - val_task_loss: 0.5810\n",
      "Epoch 91/100\n",
      "\u001b[1m243/243\u001b[0m \u001b[32m━━━━━━━━━━━━━━━━━━━━\u001b[0m\u001b[37m\u001b[0m \u001b[1m3s\u001b[0m 13ms/step - accuracy: 0.4253 - avg_concept_size: 0.0000e+00 - avg_features_rec_loss: 0.0000e+00 - avg_mask_rec_loss: 0.0000e+00 - loss: 0.7534 - max_probability: 0.0144 - mean_probability: 6.3983e-04 - min_probability: 4.3037e-06 - prob_sparsity_loss: 0.0032 - reg_loss_closest: 0.0206 - reg_loss_similarity: 0.2323 - task_loss: 0.5385 - val_accuracy: 0.4157 - val_loss: 0.8007 - val_prob_sparsity_loss: 0.0032 - val_reg_loss_closest: 0.0196 - val_reg_loss_similarity: 0.2322 - val_task_loss: 0.5849\n",
      "Epoch 92/100\n",
      "\u001b[1m243/243\u001b[0m \u001b[32m━━━━━━━━━━━━━━━━━━━━\u001b[0m\u001b[37m\u001b[0m \u001b[1m3s\u001b[0m 13ms/step - accuracy: 0.4288 - avg_concept_size: 0.0000e+00 - avg_features_rec_loss: 0.0000e+00 - avg_mask_rec_loss: 0.0000e+00 - loss: 0.7527 - max_probability: 0.0140 - mean_probability: 6.3544e-04 - min_probability: 3.8572e-06 - prob_sparsity_loss: 0.0032 - reg_loss_closest: 0.0206 - reg_loss_similarity: 0.2323 - task_loss: 0.5379 - val_accuracy: 0.4157 - val_loss: 0.7909 - val_prob_sparsity_loss: 0.0032 - val_reg_loss_closest: 0.0210 - val_reg_loss_similarity: 0.2321 - val_task_loss: 0.5766\n",
      "Epoch 93/100\n",
      "\u001b[1m243/243\u001b[0m \u001b[32m━━━━━━━━━━━━━━━━━━━━\u001b[0m\u001b[37m\u001b[0m \u001b[1m3s\u001b[0m 12ms/step - accuracy: 0.4275 - avg_concept_size: 0.0000e+00 - avg_features_rec_loss: 0.0000e+00 - avg_mask_rec_loss: 0.0000e+00 - loss: 0.7521 - max_probability: 0.0137 - mean_probability: 6.2987e-04 - min_probability: 3.4752e-06 - prob_sparsity_loss: 0.0031 - reg_loss_closest: 0.0208 - reg_loss_similarity: 0.2323 - task_loss: 0.5375 - val_accuracy: 0.4157 - val_loss: 0.7911 - val_prob_sparsity_loss: 0.0031 - val_reg_loss_closest: 0.0208 - val_reg_loss_similarity: 0.2322 - val_task_loss: 0.5765\n",
      "Epoch 94/100\n",
      "\u001b[1m243/243\u001b[0m \u001b[32m━━━━━━━━━━━━━━━━━━━━\u001b[0m\u001b[37m\u001b[0m \u001b[1m3s\u001b[0m 13ms/step - accuracy: 0.4261 - avg_concept_size: 0.0000e+00 - avg_features_rec_loss: 0.0000e+00 - avg_mask_rec_loss: 0.0000e+00 - loss: 0.7516 - max_probability: 0.0136 - mean_probability: 6.2121e-04 - min_probability: 3.1683e-06 - prob_sparsity_loss: 0.0031 - reg_loss_closest: 0.0208 - reg_loss_similarity: 0.2322 - task_loss: 0.5371 - val_accuracy: 0.4157 - val_loss: 0.7951 - val_prob_sparsity_loss: 0.0031 - val_reg_loss_closest: 0.0214 - val_reg_loss_similarity: 0.2321 - val_task_loss: 0.5812\n",
      "Epoch 95/100\n",
      "\u001b[1m243/243\u001b[0m \u001b[32m━━━━━━━━━━━━━━━━━━━━\u001b[0m\u001b[37m\u001b[0m \u001b[1m3s\u001b[0m 13ms/step - accuracy: 0.4260 - avg_concept_size: 0.0000e+00 - avg_features_rec_loss: 0.0000e+00 - avg_mask_rec_loss: 0.0000e+00 - loss: 0.7510 - max_probability: 0.0133 - mean_probability: 6.1508e-04 - min_probability: 2.9038e-06 - prob_sparsity_loss: 0.0031 - reg_loss_closest: 0.0210 - reg_loss_similarity: 0.2322 - task_loss: 0.5368 - val_accuracy: 0.4157 - val_loss: 0.7942 - val_prob_sparsity_loss: 0.0031 - val_reg_loss_closest: 0.0211 - val_reg_loss_similarity: 0.2320 - val_task_loss: 0.5802\n",
      "Epoch 96/100\n",
      "\u001b[1m243/243\u001b[0m \u001b[32m━━━━━━━━━━━━━━━━━━━━\u001b[0m\u001b[37m\u001b[0m \u001b[1m3s\u001b[0m 13ms/step - accuracy: 0.4261 - avg_concept_size: 0.0000e+00 - avg_features_rec_loss: 0.0000e+00 - avg_mask_rec_loss: 0.0000e+00 - loss: 0.7522 - max_probability: 0.0134 - mean_probability: 6.1187e-04 - min_probability: 2.6604e-06 - prob_sparsity_loss: 0.0031 - reg_loss_closest: 0.0210 - reg_loss_similarity: 0.2323 - task_loss: 0.5378 - val_accuracy: 0.4157 - val_loss: 0.7959 - val_prob_sparsity_loss: 0.0030 - val_reg_loss_closest: 0.0209 - val_reg_loss_similarity: 0.2323 - val_task_loss: 0.5815\n",
      "Epoch 97/100\n",
      "\u001b[1m243/243\u001b[0m \u001b[32m━━━━━━━━━━━━━━━━━━━━\u001b[0m\u001b[37m\u001b[0m \u001b[1m3s\u001b[0m 13ms/step - accuracy: 0.4284 - avg_concept_size: 0.0000e+00 - avg_features_rec_loss: 0.0000e+00 - avg_mask_rec_loss: 0.0000e+00 - loss: 0.7528 - max_probability: 0.0136 - mean_probability: 6.0321e-04 - min_probability: 2.4123e-06 - prob_sparsity_loss: 0.0030 - reg_loss_closest: 0.0212 - reg_loss_similarity: 0.2323 - task_loss: 0.5386 - val_accuracy: 0.4157 - val_loss: 0.7926 - val_prob_sparsity_loss: 0.0030 - val_reg_loss_closest: 0.0212 - val_reg_loss_similarity: 0.2322 - val_task_loss: 0.5785\n",
      "Epoch 98/100\n",
      "\u001b[1m243/243\u001b[0m \u001b[32m━━━━━━━━━━━━━━━━━━━━\u001b[0m\u001b[37m\u001b[0m \u001b[1m3s\u001b[0m 13ms/step - accuracy: 0.4289 - avg_concept_size: 0.0000e+00 - avg_features_rec_loss: 0.0000e+00 - avg_mask_rec_loss: 0.0000e+00 - loss: 0.7525 - max_probability: 0.0136 - mean_probability: 5.9337e-04 - min_probability: 2.1940e-06 - prob_sparsity_loss: 0.0030 - reg_loss_closest: 0.0212 - reg_loss_similarity: 0.2322 - task_loss: 0.5385 - val_accuracy: 0.4157 - val_loss: 0.7948 - val_prob_sparsity_loss: 0.0029 - val_reg_loss_closest: 0.0211 - val_reg_loss_similarity: 0.2321 - val_task_loss: 0.5809\n",
      "Epoch 99/100\n",
      "\u001b[1m243/243\u001b[0m \u001b[32m━━━━━━━━━━━━━━━━━━━━\u001b[0m\u001b[37m\u001b[0m \u001b[1m3s\u001b[0m 13ms/step - accuracy: 0.4270 - avg_concept_size: 0.0000e+00 - avg_features_rec_loss: 0.0000e+00 - avg_mask_rec_loss: 0.0000e+00 - loss: 0.7532 - max_probability: 0.0135 - mean_probability: 5.8570e-04 - min_probability: 1.9801e-06 - prob_sparsity_loss: 0.0029 - reg_loss_closest: 0.0212 - reg_loss_similarity: 0.2323 - task_loss: 0.5391 - val_accuracy: 0.4157 - val_loss: 0.7982 - val_prob_sparsity_loss: 0.0029 - val_reg_loss_closest: 0.0213 - val_reg_loss_similarity: 0.2322 - val_task_loss: 0.5844\n",
      "Epoch 100/100\n",
      "\u001b[1m243/243\u001b[0m \u001b[32m━━━━━━━━━━━━━━━━━━━━\u001b[0m\u001b[37m\u001b[0m \u001b[1m3s\u001b[0m 13ms/step - accuracy: 0.4262 - avg_concept_size: 0.0000e+00 - avg_features_rec_loss: 0.0000e+00 - avg_mask_rec_loss: 0.0000e+00 - loss: 0.7513 - max_probability: 0.0133 - mean_probability: 5.7738e-04 - min_probability: 1.7920e-06 - prob_sparsity_loss: 0.0029 - reg_loss_closest: 0.0213 - reg_loss_similarity: 0.2322 - task_loss: 0.5375 - val_accuracy: 0.4157 - val_loss: 0.7959 - val_prob_sparsity_loss: 0.0029 - val_reg_loss_closest: 0.0211 - val_reg_loss_similarity: 0.2325 - val_task_loss: 0.5816\n",
      "\tTabCBM supervised training completed\n"
     ]
    }
   ],
   "source": [
    "max_epochs = 100   \n",
    "print(\"TabCBM self-supervised training stage...\")\n",
    "\n",
    "tabcbm_hist = tabcbm_supervised.fit(\n",
    "    x=x_train_std,\n",
    "    y=y_train,\n",
    "    validation_split=validation_size,\n",
    "    epochs=max_epochs,\n",
    "    batch_size=batch_size,\n",
    "    verbose=1,\n",
    ")\n",
    "\n",
    "print(\"\\tTabCBM supervised training completed\")"
   ]
  },
  {
   "cell_type": "markdown",
   "metadata": {},
   "source": [
    "# Evaluate TabCBM"
   ]
  },
  {
   "cell_type": "code",
   "execution_count": 21,
   "metadata": {},
   "outputs": [
    {
     "name": "stdout",
     "output_type": "stream",
     "text": [
      "\u001b[1m68/68\u001b[0m \u001b[32m━━━━━━━━━━━━━━━━━━━━\u001b[0m\u001b[37m\u001b[0m \u001b[1m0s\u001b[0m 3ms/step\n"
     ]
    }
   ],
   "source": [
    "test_y_pred, test_concept_scores = tabcbm_supervised.predict(\n",
    "    x_test_std,\n",
    "    batch_size=batch_size,\n",
    ")"
   ]
  },
  {
   "cell_type": "code",
   "execution_count": 73,
   "metadata": {},
   "outputs": [
    {
     "data": {
      "text/plain": [
       "(12050, 34553)"
      ]
     },
     "execution_count": 73,
     "metadata": {},
     "output_type": "execute_result"
    }
   ],
   "source": [
    "(tf.math.sigmoid(test_y_pred).numpy() > 0.5).sum(), test_y_pred.shape[0]"
   ]
  },
  {
   "cell_type": "code",
   "execution_count": 22,
   "metadata": {},
   "outputs": [
    {
     "name": "stdout",
     "output_type": "stream",
     "text": [
      "Accuracy is 69.46%\n"
     ]
    }
   ],
   "source": [
    "if np.min(test_y_pred) < 0.0 or np.max(test_y_pred) > 1:\n",
    "        # Then we assume that we have outputed logits\n",
    "        test_preds = tf.math.sigmoid(test_y_pred).numpy()\n",
    "        \n",
    "test_preds = (test_preds > 0.5).astype(np.int32)\n",
    "results['acc'] = sklearn.metrics.accuracy_score(\n",
    "    y_test,\n",
    "    test_preds,\n",
    ")\n",
    "results['auc'] = sklearn.metrics.roc_auc_score(\n",
    "    y_test,\n",
    "    test_preds,\n",
    ")\n",
    "\n",
    "print(f\"Accuracy is {results['acc']*100:.2f}%\")"
   ]
  },
  {
   "cell_type": "code",
   "execution_count": 23,
   "metadata": {},
   "outputs": [
    {
     "data": {
      "text/plain": [
       "array([[0.7425234 , 0.5505919 , 0.4662737 , 0.54138654, 0.53836936,\n",
       "        0.54039216],\n",
       "       [0.6041201 , 0.49845678, 0.5351493 , 0.5050446 , 0.5057303 ,\n",
       "        0.5035707 ],\n",
       "       [0.46470454, 0.6613883 , 0.4395699 , 0.571951  , 0.58076847,\n",
       "        0.57156   ],\n",
       "       ...,\n",
       "       [0.5239042 , 0.5532364 , 0.5398632 , 0.5070664 , 0.5112675 ,\n",
       "        0.5100211 ],\n",
       "       [0.60356987, 0.56256855, 0.53227943, 0.5095377 , 0.51488054,\n",
       "        0.5111668 ],\n",
       "       [0.59099615, 0.52526677, 0.53711325, 0.5034985 , 0.503288  ,\n",
       "        0.5027602 ]], dtype=float32)"
      ]
     },
     "execution_count": 23,
     "metadata": {},
     "output_type": "execute_result"
    }
   ],
   "source": [
    "test_concept_scores "
   ]
  },
  {
   "cell_type": "markdown",
   "metadata": {},
   "source": [
    "## Comparison of the calculated and ground-truth masks "
   ]
  },
  {
   "cell_type": "code",
   "execution_count": 36,
   "metadata": {},
   "outputs": [
    {
     "data": {
      "text/plain": [
       "array([[1.08940911e-03, 1.34003858e-04, 1.45111571e-05, 4.93960215e-05,\n",
       "        1.25427076e-04, 8.61415756e-05, 6.06893009e-05, 5.33836464e-05,\n",
       "        9.76440642e-05, 1.08725522e-04, 7.26769562e-04, 1.08637221e-04,\n",
       "        7.99953414e-05, 1.02713042e-04, 1.35997325e-04, 2.94317051e-05,\n",
       "        1.29061773e-05, 7.50097824e-05, 1.70446001e-05, 1.23426325e-05,\n",
       "        3.84046543e-05, 1.09178468e-03, 6.34411583e-04, 1.40441944e-05,\n",
       "        2.44487263e-03, 1.93002471e-03, 7.08360749e-04, 2.55774218e-03,\n",
       "        7.97282066e-03, 2.81668338e-03, 1.22982380e-03, 3.64154221e-05,\n",
       "        1.56433834e-05, 3.60276863e-05, 1.62242126e-04, 4.55317859e-05,\n",
       "        1.50544441e-03, 1.02118787e-03],\n",
       "       [7.41930818e-03, 1.23410340e-04, 7.80004993e-05, 6.63273458e-05,\n",
       "        6.89990047e-05, 6.47282368e-03, 1.72660715e-04, 9.84538492e-05,\n",
       "        4.92036816e-05, 5.92560500e-05, 5.81707100e-05, 1.52397755e-04,\n",
       "        7.67082965e-05, 9.86133018e-05, 1.47198036e-04, 7.07884319e-05,\n",
       "        9.75037547e-05, 6.01122229e-05, 2.23756389e-04, 1.33153014e-02,\n",
       "        1.93047206e-04, 4.90122911e-05, 4.10213179e-05, 6.01789216e-05,\n",
       "        9.86729210e-05, 4.69397492e-05, 2.12733532e-04, 1.64864605e-06,\n",
       "        4.01357980e-03, 1.36382459e-03, 2.35154643e-03, 7.80593400e-05,\n",
       "        8.32602091e-05, 5.14988496e-05, 5.33241728e-05, 8.54768878e-05,\n",
       "        2.75239581e-05, 5.93893310e-05],\n",
       "       [2.82586901e-03, 1.08996785e-04, 2.19023949e-03, 5.11770122e-05,\n",
       "        1.12459522e-04, 7.62215132e-05, 5.64982416e-04, 3.65304644e-04,\n",
       "        8.57265186e-05, 8.53512247e-05, 4.70517516e-05, 1.18066600e-04,\n",
       "        7.34446730e-05, 8.76589984e-05, 2.05527103e-04, 3.30005743e-04,\n",
       "        1.78904366e-03, 6.80768135e-05, 1.65284274e-03, 1.81128653e-05,\n",
       "        1.79234240e-03, 5.44865070e-05, 4.40168697e-05, 1.41552940e-03,\n",
       "        2.17884244e-05, 1.27132262e-05, 7.46720543e-05, 2.44552828e-03,\n",
       "        2.15432118e-03, 3.21986177e-03, 2.75629014e-03, 7.25289166e-04,\n",
       "        1.18098862e-03, 1.84670396e-04, 6.08030132e-05, 2.73811980e-04,\n",
       "        1.78040718e-05, 4.54633264e-05],\n",
       "       [8.45102419e-04, 6.62722741e-05, 6.45763866e-05, 2.30035133e-04,\n",
       "        5.19567184e-05, 1.75681023e-04, 5.45023613e-05, 3.17872109e-05,\n",
       "        8.10720157e-05, 6.38386337e-05, 5.34808678e-05, 7.35671274e-05,\n",
       "        1.72165077e-04, 5.88497387e-05, 1.47448940e-04, 3.17033591e-05,\n",
       "        3.21718398e-05, 1.21755572e-03, 6.11163996e-05, 5.95361693e-04,\n",
       "        5.17417357e-05, 4.12258341e-05, 3.25541332e-05, 5.49708820e-05,\n",
       "        4.83724762e-05, 9.39336242e-05, 3.77519427e-05, 3.20902281e-03,\n",
       "        1.35803095e-03, 2.14770157e-03, 1.28020090e-03, 4.16030780e-05,\n",
       "        4.46643171e-05, 3.53123469e-05, 4.61643940e-05, 3.01983218e-05,\n",
       "        6.41211882e-05, 5.08141784e-05],\n",
       "       [7.60396884e-04, 1.06432744e-04, 7.28942905e-05, 2.70335033e-04,\n",
       "        6.02969703e-05, 1.31226363e-04, 8.42397931e-05, 4.64567056e-05,\n",
       "        1.07872402e-04, 1.08938162e-04, 1.00993006e-04, 9.83025166e-05,\n",
       "        2.83932110e-04, 7.28544765e-05, 1.51448621e-04, 4.12944974e-05,\n",
       "        4.47721286e-05, 1.41763932e-03, 7.78217291e-05, 8.93427292e-04,\n",
       "        7.32211774e-05, 5.17998415e-05, 4.32526140e-05, 5.28464443e-05,\n",
       "        5.84632908e-05, 1.25243983e-04, 4.28311178e-05, 2.99179158e-03,\n",
       "        1.65716279e-03, 2.15372187e-03, 1.31571456e-03, 5.15741885e-05,\n",
       "        4.76729547e-05, 5.83928595e-05, 5.35450672e-05, 3.25581386e-05,\n",
       "        1.27571970e-04, 7.92182254e-05],\n",
       "       [8.87629692e-04, 8.02908544e-05, 5.03923184e-05, 2.73451442e-04,\n",
       "        5.88140683e-05, 1.08607390e-04, 8.39881031e-05, 4.52194108e-05,\n",
       "        8.01779388e-05, 6.33534146e-05, 6.95258859e-05, 1.15457900e-04,\n",
       "        2.59941473e-04, 5.32849299e-05, 1.41609853e-04, 3.32475101e-05,\n",
       "        3.88095214e-05, 7.17287592e-04, 5.71047640e-05, 9.08390561e-04,\n",
       "        4.95467466e-05, 4.30085420e-05, 4.58645118e-05, 5.88119328e-05,\n",
       "        5.64144902e-05, 7.36646325e-05, 4.84490665e-05, 2.87393155e-03,\n",
       "        1.39573787e-03, 1.68146135e-03, 1.35617564e-03, 4.95422573e-05,\n",
       "        4.23627098e-05, 3.79987832e-05, 3.81974096e-05, 2.82781348e-05,\n",
       "        6.29691349e-05, 5.21606089e-05]], dtype=float32)"
      ]
     },
     "execution_count": 36,
     "metadata": {},
     "output_type": "execute_result"
    }
   ],
   "source": [
    "masks"
   ]
  },
  {
   "cell_type": "code",
   "execution_count": 38,
   "metadata": {},
   "outputs": [
    {
     "name": "stdout",
     "output_type": "stream",
     "text": [
      "Thresholded concept masks learnt by TabCBM:\n",
      "\tFor concept 0 we are selecting the following features [1 0 0 0 0 0 0 0 0 0 1 0 0 0 0 0 0 0 0 0 0 1 1 0 1 1 1 1 1 1 1 0 0 0 0 0 1\n",
      " 1]\n",
      "\tFor concept 1 we are selecting the following features [1 0 0 0 0 1 0 0 0 0 0 0 0 0 0 0 0 0 0 1 0 0 0 0 0 0 0 0 1 1 1 0 0 0 0 0 0\n",
      " 0]\n",
      "\tFor concept 2 we are selecting the following features [1 0 1 0 0 0 1 0 0 0 0 0 0 0 0 0 1 0 1 0 1 0 0 1 0 0 0 1 1 1 1 1 1 0 0 0 0\n",
      " 0]\n",
      "\tFor concept 3 we are selecting the following features [1 0 0 0 0 0 0 0 0 0 0 0 0 0 0 0 0 1 0 1 0 0 0 0 0 0 0 1 1 1 1 0 0 0 0 0 0\n",
      " 0]\n",
      "\tFor concept 4 we are selecting the following features [1 0 0 0 0 0 0 0 0 0 0 0 0 0 0 0 0 1 0 1 0 0 0 0 0 0 0 1 1 1 1 0 0 0 0 0 0\n",
      " 0]\n",
      "\tFor concept 5 we are selecting the following features [1 0 0 0 0 0 0 0 0 0 0 0 0 0 0 0 0 1 0 1 0 0 0 0 0 0 0 1 1 1 1 0 0 0 0 0 0\n",
      " 0]\n",
      "--------------------------------------------------------------------------------\n",
      "--------------------------------------------------------------------------------\n",
      "For comparison, the ground truth concept masks are\n",
      "\tFor GROUND-TRUTH concept 0  the following features are relevant [1 0 0 0 0 0 0 0 0 0 0 0 0 0 0 1 1 1 1 0 0 0 0 0 0 0 0 1 1 1 1 0 0 0 0 0 0\n",
      " 0]\n",
      "\tFor GROUND-TRUTH concept 1  the following features are relevant [0 0 1 0 0 0 0 0 0 0 0 0 0 0 0 0 0 0 0 1 1 1 0 0 0 0 0 0 0 0 0 0 0 0 0 0 0\n",
      " 0]\n",
      "\tFor GROUND-TRUTH concept 2  the following features are relevant [0 0 0 1 0 0 0 0 0 0 0 0 0 0 0 0 0 0 0 0 0 0 1 1 1 1 1 0 0 0 0 0 0 0 0 0 0\n",
      " 0]\n",
      "\tFor GROUND-TRUTH concept 3  the following features are relevant [0 0 0 0 1 1 0 0 0 0 0 0 0 0 0 0 0 0 0 0 0 0 0 0 0 0 0 0 0 0 0 0 0 0 0 0 0\n",
      " 0]\n",
      "\tFor GROUND-TRUTH concept 4  the following features are relevant [0 0 0 0 0 0 1 1 1 1 1 1 1 1 1 0 0 0 0 0 0 0 0 0 0 0 0 0 0 0 0 1 1 1 1 1 1\n",
      " 1]\n",
      "\tFor GROUND-TRUTH concept 5  the following features are relevant [0 1 0 0 0 0 0 0 0 0 0 0 0 0 0 0 0 0 0 0 0 0 0 0 0 0 0 0 0 0 0 0 0 0 0 0 0\n",
      " 0]\n"
     ]
    }
   ],
   "source": [
    "# The masks are stored as logits, so we need to turn them to probabilities using\n",
    "# a sigmoid\n",
    "masks = tf.sigmoid(tabcbm_supervised.feature_probabilities).numpy()\n",
    "\n",
    "print(\"Thresholded concept masks learnt by TabCBM:\")\n",
    "for i, mask in enumerate((masks>0.0005).astype(np.int32)):\n",
    "    print(\"\\tFor concept\", i, \"we are selecting the following features\", mask)\n",
    "print(\"-\" * 80)\n",
    "print(\"-\" * 80)\n",
    "print(\"For comparison, the ground truth concept masks are\")\n",
    "for i, mask in enumerate(concepts_masks.to_numpy()):\n",
    "    print(\"\\tFor GROUND-TRUTH concept\", i, \" the following features are relevant\", mask)"
   ]
  },
  {
   "cell_type": "code",
   "execution_count": null,
   "metadata": {},
   "outputs": [],
   "source": []
  },
  {
   "cell_type": "code",
   "execution_count": null,
   "metadata": {},
   "outputs": [],
   "source": []
  },
  {
   "cell_type": "code",
   "execution_count": null,
   "metadata": {},
   "outputs": [],
   "source": []
  },
  {
   "cell_type": "code",
   "execution_count": null,
   "metadata": {},
   "outputs": [],
   "source": []
  },
  {
   "cell_type": "code",
   "execution_count": null,
   "metadata": {},
   "outputs": [],
   "source": []
  },
  {
   "cell_type": "code",
   "execution_count": null,
   "metadata": {},
   "outputs": [],
   "source": []
  },
  {
   "cell_type": "code",
   "execution_count": null,
   "metadata": {},
   "outputs": [],
   "source": []
  },
  {
   "cell_type": "code",
   "execution_count": null,
   "metadata": {},
   "outputs": [],
   "source": []
  },
  {
   "cell_type": "code",
   "execution_count": null,
   "metadata": {},
   "outputs": [],
   "source": []
  },
  {
   "cell_type": "code",
   "execution_count": null,
   "metadata": {},
   "outputs": [],
   "source": []
  },
  {
   "cell_type": "markdown",
   "metadata": {},
   "source": [
    "# Load pretrained TabCBM "
   ]
  },
  {
   "cell_type": "code",
   "execution_count": null,
   "metadata": {},
   "outputs": [],
   "source": [
    "tabcbm_pretrained = tf.keras.models.load_model(r'D:\\\\PycharmProjects\\\\AMMISproject\\\\trained_tabcbm_4concepts_1500epochs\\\\tabcbm_supervised.keras')\n"
   ]
  },
  {
   "cell_type": "code",
   "execution_count": null,
   "metadata": {},
   "outputs": [],
   "source": []
  }
 ],
 "metadata": {
  "kernelspec": {
   "display_name": "venv",
   "language": "python",
   "name": "python3"
  },
  "language_info": {
   "codemirror_mode": {
    "name": "ipython",
    "version": 3
   },
   "file_extension": ".py",
   "mimetype": "text/x-python",
   "name": "python",
   "nbconvert_exporter": "python",
   "pygments_lexer": "ipython3",
   "version": "3.11.4"
  }
 },
 "nbformat": 4,
 "nbformat_minor": 2
}
